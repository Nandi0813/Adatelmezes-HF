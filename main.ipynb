{
 "cells": [
  {
   "metadata": {
    "collapsed": true,
    "ExecuteTime": {
     "end_time": "2024-11-27T16:36:55.641783Z",
     "start_time": "2024-11-27T16:36:49.330658Z"
    }
   },
   "cell_type": "code",
   "source": [
    "import os\n",
    "from random import random\n",
    "\n",
    "import cv2\n",
    "import numpy as np\n",
    "import pandas as pd\n",
    "import matplotlib.pyplot as plt\n",
    "from PIL.ImageColor import colormap\n",
    "\n",
    "import image_processor\n",
    "import model_builder\n",
    "\n",
    "from tensorflow.keras.callbacks import EarlyStopping, TensorBoard\n",
    "from sklearn.model_selection import train_test_split\n",
    "\n",
    "from datetime import datetime"
   ],
   "id": "initial_id",
   "outputs": [],
   "execution_count": 1
  },
  {
   "metadata": {
    "ExecuteTime": {
     "end_time": "2024-11-27T16:36:55.653724Z",
     "start_time": "2024-11-27T16:36:55.651722Z"
    }
   },
   "cell_type": "code",
   "source": [
    "image_size = (32, 32)\n",
    "input_size = (*image_size, 1)"
   ],
   "id": "466310eb347c583d",
   "outputs": [],
   "execution_count": 2
  },
  {
   "metadata": {
    "ExecuteTime": {
     "end_time": "2024-11-27T16:36:55.662745Z",
     "start_time": "2024-11-27T16:36:55.658743Z"
    }
   },
   "cell_type": "code",
   "source": [
    "df_names = ['0', '1', '2', '3', '4', '5', '6', '7', '8', '9',\n",
    "            'A', 'B', 'C', 'D', 'E', 'F', 'G', 'H', 'I', 'J', 'K', 'L', 'M',\n",
    "            'N', 'O', 'P', 'Q', 'R', 'S', 'T', 'U', 'V', 'W', 'X', 'Y', 'Z',\n",
    "            'a', 'b', 'c', 'd', 'e', 'f', 'g', 'h', 'i', 'j', 'k', 'l', 'm',\n",
    "            'n', 'o', 'p', 'q', 'r', 's', 't', 'u', 'v', 'w', 'x', 'y', 'z']"
   ],
   "id": "40a0c595e348551a",
   "outputs": [],
   "execution_count": 3
  },
  {
   "metadata": {
    "ExecuteTime": {
     "end_time": "2024-11-27T16:37:26.488436Z",
     "start_time": "2024-11-27T16:36:55.736536Z"
    }
   },
   "cell_type": "code",
   "source": "df_train = image_processor.process_image_data_with_edges(\"data/Train\", image_size, targets=df_names)",
   "id": "4c0cc5fca29b2aa3",
   "outputs": [],
   "execution_count": 4
  },
  {
   "metadata": {
    "ExecuteTime": {
     "end_time": "2024-11-27T16:37:26.573864Z",
     "start_time": "2024-11-27T16:37:26.518317Z"
    }
   },
   "cell_type": "code",
   "source": [
    "X = df_train.drop(columns=['target'])\n",
    "y = df_train['target']"
   ],
   "id": "9b93d1cc8ab3e463",
   "outputs": [],
   "execution_count": 5
  },
  {
   "metadata": {
    "ExecuteTime": {
     "end_time": "2024-11-27T16:37:26.616529Z",
     "start_time": "2024-11-27T16:37:26.577972Z"
    }
   },
   "cell_type": "code",
   "source": [
    "X_data = X.values.reshape(-1, *image_size, 1).astype('float32')\n",
    "y_data = y.factorize()[0]"
   ],
   "id": "4a3e461fa809368c",
   "outputs": [],
   "execution_count": 6
  },
  {
   "metadata": {
    "ExecuteTime": {
     "end_time": "2024-11-27T16:37:26.904611Z",
     "start_time": "2024-11-27T16:37:26.628532Z"
    }
   },
   "cell_type": "code",
   "source": "X_train, X_val, y_train, y_val = train_test_split(X_data, y_data, test_size=0.05, stratify=y_data, random_state=42)",
   "id": "7b032609705afe15",
   "outputs": [],
   "execution_count": 7
  },
  {
   "metadata": {
    "ExecuteTime": {
     "end_time": "2024-11-27T16:37:26.927287Z",
     "start_time": "2024-11-27T16:37:26.922025Z"
    }
   },
   "cell_type": "code",
   "source": [
    "\"\"\"\n",
    "model = model_builder.build_conv_pool_model(input_size, len(df_names))\n",
    "\n",
    "early_stopping = EarlyStopping(monitor='val_loss', patience=5, restore_best_weights=True)\n",
    "\n",
    "log_dir = \"logs/fit/\" + datetime.now().strftime(\"%Y%m%d-%H%M%S\")\n",
    "tensorboard_callback = TensorBoard(log_dir=log_dir, histogram_freq=1)\n",
    "\n",
    "history = model.fit(X_train, y_train,\n",
    "                    epochs=50,\n",
    "                    batch_size=256,\n",
    "                    callbacks=[early_stopping, tensorboard_callback],\n",
    "                    validation_data=(X_val, y_val),\n",
    "                    verbose=1)\n",
    "\n",
    "for epoch, (val_loss, val_acc) in enumerate(zip(history.history['val_loss'], history.history['val_accuracy']), start=1):\n",
    "    print(f\"Epoch {epoch}: val_loss={val_loss:.4f}, val_accuracy={val_acc:.4f}\")\n",
    "\n",
    "score = model.evaluate(X_val, y_val, verbose=0)\n",
    "print(f\"Final Validation Accuracy: {score[1] * 100:.2f}%\")\n",
    "\"\"\""
   ],
   "id": "391609a726c4763b",
   "outputs": [
    {
     "data": {
      "text/plain": [
       "'\\nmodel = model_builder.build_conv_pool_model(input_size, len(df_names))\\n\\nearly_stopping = EarlyStopping(monitor=\\'val_loss\\', patience=5, restore_best_weights=True)\\n\\nlog_dir = \"logs/fit/\" + datetime.now().strftime(\"%Y%m%d-%H%M%S\")\\ntensorboard_callback = TensorBoard(log_dir=log_dir, histogram_freq=1)\\n\\nhistory = model.fit(X_train, y_train,\\n                    epochs=50,\\n                    batch_size=256,\\n                    callbacks=[early_stopping, tensorboard_callback],\\n                    validation_data=(X_val, y_val),\\n                    verbose=1)\\n\\nfor epoch, (val_loss, val_acc) in enumerate(zip(history.history[\\'val_loss\\'], history.history[\\'val_accuracy\\']), start=1):\\n    print(f\"Epoch {epoch}: val_loss={val_loss:.4f}, val_accuracy={val_acc:.4f}\")\\n\\nscore = model.evaluate(X_val, y_val, verbose=0)\\nprint(f\"Final Validation Accuracy: {score[1] * 100:.2f}%\")\\n'"
      ]
     },
     "execution_count": 8,
     "metadata": {},
     "output_type": "execute_result"
    }
   ],
   "execution_count": 8
  },
  {
   "metadata": {
    "ExecuteTime": {
     "end_time": "2024-11-27T16:37:29.582312Z",
     "start_time": "2024-11-27T16:37:26.952460Z"
    }
   },
   "cell_type": "code",
   "source": "test_df = image_processor.process_image_data_with_edges(\"data/TestData\", image_size)",
   "id": "f58d16224b2cc5b0",
   "outputs": [],
   "execution_count": 9
  },
  {
   "metadata": {
    "ExecuteTime": {
     "end_time": "2024-11-27T16:37:29.609266Z",
     "start_time": "2024-11-27T16:37:29.598728Z"
    }
   },
   "cell_type": "code",
   "source": [
    "X_test = test_df.iloc[:, 1:]\n",
    "X_test_prepared = X_test.values.reshape(-1, *image_size, 1).astype('float32')"
   ],
   "id": "ff6d98d31660c75e",
   "outputs": [],
   "execution_count": 10
  },
  {
   "metadata": {
    "ExecuteTime": {
     "end_time": "2024-11-27T16:37:31.338306Z",
     "start_time": "2024-11-27T16:37:29.629907Z"
    }
   },
   "cell_type": "code",
   "source": [
    "from tensorflow.keras.models import load_model\n",
    "\n",
    "model = load_model(\"models/model_final2\")\n",
    "pred = model.predict(X_test_prepared)"
   ],
   "id": "11b37c192267c0d1",
   "outputs": [
    {
     "name": "stdout",
     "output_type": "stream",
     "text": [
      "222/222 [==============================] - 1s 5ms/step\n"
     ]
    }
   ],
   "execution_count": 11
  },
  {
   "metadata": {
    "ExecuteTime": {
     "end_time": "2024-11-27T16:37:31.363888Z",
     "start_time": "2024-11-27T16:37:31.360039Z"
    }
   },
   "cell_type": "code",
   "source": "pred",
   "id": "99984648827337a0",
   "outputs": [
    {
     "data": {
      "text/plain": [
       "array([[9.65996033e-11, 1.97424406e-13, 9.89097595e-01, ...,\n",
       "        8.78065416e-12, 2.23097185e-09, 6.31305340e-07],\n",
       "       [2.80922757e-10, 2.27921102e-11, 5.85539267e-13, ...,\n",
       "        1.53933379e-05, 4.90033329e-08, 1.18080756e-07],\n",
       "       [1.04416589e-15, 2.57086158e-10, 2.17866903e-13, ...,\n",
       "        2.34633681e-08, 1.70545369e-10, 5.61249137e-11],\n",
       "       ...,\n",
       "       [1.29942794e-08, 9.87471222e-16, 1.10668620e-10, ...,\n",
       "        2.42015270e-15, 2.72763767e-09, 2.64971642e-15],\n",
       "       [8.66883039e-01, 4.18830010e-14, 1.07727022e-11, ...,\n",
       "        5.96352234e-15, 2.65961949e-12, 7.56723406e-16],\n",
       "       [5.45412853e-08, 2.01129096e-05, 1.42077425e-08, ...,\n",
       "        7.44218141e-06, 4.81919096e-06, 2.28212433e-04]], dtype=float32)"
      ]
     },
     "execution_count": 12,
     "metadata": {},
     "output_type": "execute_result"
    }
   ],
   "execution_count": 12
  },
  {
   "metadata": {
    "ExecuteTime": {
     "end_time": "2024-11-27T16:37:31.392292Z",
     "start_time": "2024-11-27T16:37:31.388439Z"
    }
   },
   "cell_type": "code",
   "source": [
    "predicted_classes = pred.argmax(axis=1)\n",
    "len(predicted_classes)"
   ],
   "id": "aad4b8f05c11a0ee",
   "outputs": [
    {
     "data": {
      "text/plain": [
       "7100"
      ]
     },
     "execution_count": 13,
     "metadata": {},
     "output_type": "execute_result"
    }
   ],
   "execution_count": 13
  },
  {
   "metadata": {
    "ExecuteTime": {
     "end_time": "2024-11-27T16:37:31.737154Z",
     "start_time": "2024-11-27T16:37:31.725660Z"
    }
   },
   "cell_type": "code",
   "source": "pd.DataFrame(pred[3086])",
   "id": "62d36fd36d0e09bf",
   "outputs": [
    {
     "data": {
      "text/plain": [
       "               0\n",
       "0   2.254148e-07\n",
       "1   5.362420e-06\n",
       "2   2.292818e-07\n",
       "3   2.087439e-05\n",
       "4   1.155723e-02\n",
       "..           ...\n",
       "57  1.073984e-06\n",
       "58  3.844172e-04\n",
       "59  4.469237e-04\n",
       "60  3.380330e-06\n",
       "61  3.890514e-04\n",
       "\n",
       "[62 rows x 1 columns]"
      ],
      "text/html": [
       "<div>\n",
       "<style scoped>\n",
       "    .dataframe tbody tr th:only-of-type {\n",
       "        vertical-align: middle;\n",
       "    }\n",
       "\n",
       "    .dataframe tbody tr th {\n",
       "        vertical-align: top;\n",
       "    }\n",
       "\n",
       "    .dataframe thead th {\n",
       "        text-align: right;\n",
       "    }\n",
       "</style>\n",
       "<table border=\"1\" class=\"dataframe\">\n",
       "  <thead>\n",
       "    <tr style=\"text-align: right;\">\n",
       "      <th></th>\n",
       "      <th>0</th>\n",
       "    </tr>\n",
       "  </thead>\n",
       "  <tbody>\n",
       "    <tr>\n",
       "      <th>0</th>\n",
       "      <td>2.254148e-07</td>\n",
       "    </tr>\n",
       "    <tr>\n",
       "      <th>1</th>\n",
       "      <td>5.362420e-06</td>\n",
       "    </tr>\n",
       "    <tr>\n",
       "      <th>2</th>\n",
       "      <td>2.292818e-07</td>\n",
       "    </tr>\n",
       "    <tr>\n",
       "      <th>3</th>\n",
       "      <td>2.087439e-05</td>\n",
       "    </tr>\n",
       "    <tr>\n",
       "      <th>4</th>\n",
       "      <td>1.155723e-02</td>\n",
       "    </tr>\n",
       "    <tr>\n",
       "      <th>...</th>\n",
       "      <td>...</td>\n",
       "    </tr>\n",
       "    <tr>\n",
       "      <th>57</th>\n",
       "      <td>1.073984e-06</td>\n",
       "    </tr>\n",
       "    <tr>\n",
       "      <th>58</th>\n",
       "      <td>3.844172e-04</td>\n",
       "    </tr>\n",
       "    <tr>\n",
       "      <th>59</th>\n",
       "      <td>4.469237e-04</td>\n",
       "    </tr>\n",
       "    <tr>\n",
       "      <th>60</th>\n",
       "      <td>3.380330e-06</td>\n",
       "    </tr>\n",
       "    <tr>\n",
       "      <th>61</th>\n",
       "      <td>3.890514e-04</td>\n",
       "    </tr>\n",
       "  </tbody>\n",
       "</table>\n",
       "<p>62 rows × 1 columns</p>\n",
       "</div>"
      ]
     },
     "execution_count": 15,
     "metadata": {},
     "output_type": "execute_result"
    }
   ],
   "execution_count": 15
  },
  {
   "metadata": {
    "ExecuteTime": {
     "end_time": "2024-11-27T16:37:31.777962Z",
     "start_time": "2024-11-27T16:37:31.770029Z"
    }
   },
   "cell_type": "code",
   "source": [
    "predicted_labels = [df_names[i] for i in predicted_classes]\n",
    "\n",
    "test_df['pred'] = predicted_classes + 1\n",
    "test_df['pred_labels'] = predicted_labels"
   ],
   "id": "632635caa51f875f",
   "outputs": [],
   "execution_count": 16
  },
  {
   "metadata": {
    "ExecuteTime": {
     "end_time": "2024-11-27T16:37:32.047653Z",
     "start_time": "2024-11-27T16:37:32.044699Z"
    }
   },
   "cell_type": "code",
   "source": "#model.save(\"models/model_final2\")",
   "id": "9f07351edbc8479b",
   "outputs": [],
   "execution_count": 17
  },
  {
   "metadata": {
    "ExecuteTime": {
     "end_time": "2024-11-27T16:37:32.131742Z",
     "start_time": "2024-11-27T16:37:32.120430Z"
    }
   },
   "cell_type": "code",
   "source": [
    "filtered_df = test_df[test_df['target'] == 'Test0322.png']\n",
    "filtered_df[['target', 'pred', 'pred_labels']]"
   ],
   "id": "cef6c3abcb6e59f6",
   "outputs": [
    {
     "data": {
      "text/plain": [
       "            target  pred pred_labels\n",
       "1155  Test0322.png    40           d"
      ],
      "text/html": [
       "<div>\n",
       "<style scoped>\n",
       "    .dataframe tbody tr th:only-of-type {\n",
       "        vertical-align: middle;\n",
       "    }\n",
       "\n",
       "    .dataframe tbody tr th {\n",
       "        vertical-align: top;\n",
       "    }\n",
       "\n",
       "    .dataframe thead th {\n",
       "        text-align: right;\n",
       "    }\n",
       "</style>\n",
       "<table border=\"1\" class=\"dataframe\">\n",
       "  <thead>\n",
       "    <tr style=\"text-align: right;\">\n",
       "      <th></th>\n",
       "      <th>target</th>\n",
       "      <th>pred</th>\n",
       "      <th>pred_labels</th>\n",
       "    </tr>\n",
       "  </thead>\n",
       "  <tbody>\n",
       "    <tr>\n",
       "      <th>1155</th>\n",
       "      <td>Test0322.png</td>\n",
       "      <td>40</td>\n",
       "      <td>d</td>\n",
       "    </tr>\n",
       "  </tbody>\n",
       "</table>\n",
       "</div>"
      ]
     },
     "execution_count": 18,
     "metadata": {},
     "output_type": "execute_result"
    }
   ],
   "execution_count": 18
  },
  {
   "metadata": {},
   "cell_type": "code",
   "outputs": [],
   "execution_count": null,
   "source": "plt.imshow(X_test_prepared[2112], cmap='gray')",
   "id": "7dad3e6bd0359ec5"
  },
  {
   "metadata": {},
   "cell_type": "code",
   "outputs": [],
   "execution_count": null,
   "source": "",
   "id": "77d948d393afa9a"
  },
  {
   "metadata": {
    "ExecuteTime": {
     "end_time": "2024-11-27T16:37:32.198658Z",
     "start_time": "2024-11-27T16:37:32.187594Z"
    }
   },
   "cell_type": "code",
   "source": "df_lead = test_df[['pred', 'target']].sort_values(by=['target'], ascending=True).reset_index(drop=True)",
   "id": "919ff42018284f94",
   "outputs": [],
   "execution_count": 19
  },
  {
   "metadata": {
    "ExecuteTime": {
     "end_time": "2024-11-27T16:37:32.256621Z",
     "start_time": "2024-11-27T16:37:32.254014Z"
    }
   },
   "cell_type": "code",
   "source": "df_lead.columns = ['class', 'TestImage']",
   "id": "da45f4defbb0e342",
   "outputs": [],
   "execution_count": 20
  },
  {
   "metadata": {
    "ExecuteTime": {
     "end_time": "2024-11-27T16:37:32.323998Z",
     "start_time": "2024-11-27T16:37:32.318653Z"
    }
   },
   "cell_type": "code",
   "source": "df_lead",
   "id": "e30c16ebb3f852e4",
   "outputs": [
    {
     "data": {
      "text/plain": [
       "      class     TestImage\n",
       "0        19  Test0001.png\n",
       "1        19  Test0002.png\n",
       "2        45  Test0003.png\n",
       "3        45  Test0004.png\n",
       "4        45  Test0005.png\n",
       "...     ...           ...\n",
       "7095     23  Test7096.png\n",
       "7096     11  Test7097.png\n",
       "7097     11  Test7098.png\n",
       "7098     13  Test7099.png\n",
       "7099     27  Test7100.png\n",
       "\n",
       "[7100 rows x 2 columns]"
      ],
      "text/html": [
       "<div>\n",
       "<style scoped>\n",
       "    .dataframe tbody tr th:only-of-type {\n",
       "        vertical-align: middle;\n",
       "    }\n",
       "\n",
       "    .dataframe tbody tr th {\n",
       "        vertical-align: top;\n",
       "    }\n",
       "\n",
       "    .dataframe thead th {\n",
       "        text-align: right;\n",
       "    }\n",
       "</style>\n",
       "<table border=\"1\" class=\"dataframe\">\n",
       "  <thead>\n",
       "    <tr style=\"text-align: right;\">\n",
       "      <th></th>\n",
       "      <th>class</th>\n",
       "      <th>TestImage</th>\n",
       "    </tr>\n",
       "  </thead>\n",
       "  <tbody>\n",
       "    <tr>\n",
       "      <th>0</th>\n",
       "      <td>19</td>\n",
       "      <td>Test0001.png</td>\n",
       "    </tr>\n",
       "    <tr>\n",
       "      <th>1</th>\n",
       "      <td>19</td>\n",
       "      <td>Test0002.png</td>\n",
       "    </tr>\n",
       "    <tr>\n",
       "      <th>2</th>\n",
       "      <td>45</td>\n",
       "      <td>Test0003.png</td>\n",
       "    </tr>\n",
       "    <tr>\n",
       "      <th>3</th>\n",
       "      <td>45</td>\n",
       "      <td>Test0004.png</td>\n",
       "    </tr>\n",
       "    <tr>\n",
       "      <th>4</th>\n",
       "      <td>45</td>\n",
       "      <td>Test0005.png</td>\n",
       "    </tr>\n",
       "    <tr>\n",
       "      <th>...</th>\n",
       "      <td>...</td>\n",
       "      <td>...</td>\n",
       "    </tr>\n",
       "    <tr>\n",
       "      <th>7095</th>\n",
       "      <td>23</td>\n",
       "      <td>Test7096.png</td>\n",
       "    </tr>\n",
       "    <tr>\n",
       "      <th>7096</th>\n",
       "      <td>11</td>\n",
       "      <td>Test7097.png</td>\n",
       "    </tr>\n",
       "    <tr>\n",
       "      <th>7097</th>\n",
       "      <td>11</td>\n",
       "      <td>Test7098.png</td>\n",
       "    </tr>\n",
       "    <tr>\n",
       "      <th>7098</th>\n",
       "      <td>13</td>\n",
       "      <td>Test7099.png</td>\n",
       "    </tr>\n",
       "    <tr>\n",
       "      <th>7099</th>\n",
       "      <td>27</td>\n",
       "      <td>Test7100.png</td>\n",
       "    </tr>\n",
       "  </tbody>\n",
       "</table>\n",
       "<p>7100 rows × 2 columns</p>\n",
       "</div>"
      ]
     },
     "execution_count": 21,
     "metadata": {},
     "output_type": "execute_result"
    }
   ],
   "execution_count": 21
  },
  {
   "metadata": {
    "ExecuteTime": {
     "end_time": "2024-11-27T16:42:40.653806Z",
     "start_time": "2024-11-27T16:42:40.381276Z"
    }
   },
   "cell_type": "code",
   "source": [
    "import matplotlib.pyplot as plt\n",
    "import random\n",
    "\n",
    "# Véletlenszerűen kiválasztunk 10 ID-t a DataFrame-ből\n",
    "random_ids = random.sample(list(test_df.index), min(10, len(test_df)))\n",
    "\n",
    "# Alábrák elrendezése: 2 sor, 5 oszlop\n",
    "fig, axes = plt.subplots(2, 5, figsize=(15, 6))  # 2x5 rács, képek elrendezése\n",
    "\n",
    "# Az ID-khoz tartozó képek kirajzolása a predikcióval\n",
    "for ax, img_id in zip(axes.flatten(), random_ids):\n",
    "    pred_label = test_df.loc[img_id, 'pred_labels']  # Predikció lekérdezése\n",
    "    ax.imshow(X_test_prepared[img_id], cmap='gray')\n",
    "    ax.set_title(f\"Prediction: {pred_label}\")\n",
    "    ax.axis('off')  # Törli a tengelyeket\n",
    "\n",
    "# Szorosan elrendezett ábrák megjelenítése\n",
    "plt.tight_layout()\n",
    "plt.show()"
   ],
   "id": "7309fe0376d8ecef",
   "outputs": [
    {
     "data": {
      "text/plain": [
       "<Figure size 1500x600 with 10 Axes>"
      ],
      "image/png": "[encoded data removed]"
     },
     "metadata": {},
     "output_type": "display_data"
    }
   ],
   "execution_count": 33
  },
  {
   "metadata": {},
   "cell_type": "code",
   "outputs": [],
   "execution_count": null,
   "source": "",
   "id": "84abe8b074fc60a2"
  },
  {
   "metadata": {},
   "cell_type": "code",
   "outputs": [],
   "execution_count": null,
   "source": "",
   "id": "ed2b219e14dc9a01"
  }
 ],
 "metadata": {
  "kernelspec": {
   "display_name": "Python 3",
   "language": "python",
   "name": "python3"
  },
  "language_info": {
   "codemirror_mode": {
    "name": "ipython",
    "version": 2
   },
   "file_extension": ".py",
   "mimetype": "text/x-python",
   "name": "python",
   "nbconvert_exporter": "python",
   "pygments_lexer": "ipython2",
   "version": "2.7.6"
  }
 },
 "nbformat": 4,
 "nbformat_minor": 5
}
