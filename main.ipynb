{
 "cells": [
  {
   "metadata": {
    "collapsed": true,
    "ExecuteTime": {
     "end_time": "2024-11-22T20:17:37.301Z",
     "start_time": "2024-11-22T20:17:37.297827Z"
    }
   },
   "cell_type": "code",
   "source": [
    "import os\n",
    "import cv2\n",
    "import numpy as np\n",
    "import pandas as pd\n",
    "\n",
    "import image_processor\n",
    "import model_builder\n",
    "\n",
    "from sklearn.model_selection import StratifiedKFold"
   ],
   "id": "initial_id",
   "outputs": [],
   "execution_count": 7
  },
  {
   "metadata": {
    "ExecuteTime": {
     "end_time": "2024-11-22T20:17:37.333884Z",
     "start_time": "2024-11-22T20:17:37.331563Z"
    }
   },
   "cell_type": "code",
   "source": [
    "image_size = (32, 32)\n",
    "input_size = (*image_size, 1)"
   ],
   "id": "466310eb347c583d",
   "outputs": [],
   "execution_count": 8
  },
  {
   "metadata": {
    "ExecuteTime": {
     "end_time": "2024-11-22T20:17:37.339955Z",
     "start_time": "2024-11-22T20:17:37.337630Z"
    }
   },
   "cell_type": "code",
   "source": [
    "df_names = ['0', '1', '2', '3', '4', '5', '6', '7', '8', '9',\n",
    "            'A', 'B', 'C', 'D', 'E', 'F', 'G', 'H', 'I', 'J', 'K', 'L', 'M',\n",
    "            'N', 'O', 'P', 'Q', 'R', 'S', 'T', 'U', 'V', 'W', 'X', 'Y', 'Z',\n",
    "            'a', 'b', 'c', 'd', 'e', 'f', 'g', 'h', 'i', 'j', 'k', 'l', 'm',\n",
    "            'n', 'o', 'p', 'q', 'r', 's', 't', 'u', 'v', 'w', 'x', 'y', 'z']"
   ],
   "id": "40a0c595e348551a",
   "outputs": [],
   "execution_count": 9
  },
  {
   "metadata": {
    "ExecuteTime": {
     "end_time": "2024-11-22T20:18:07.768589Z",
     "start_time": "2024-11-22T20:17:37.354735Z"
    }
   },
   "cell_type": "code",
   "source": "df_train = image_processor.process_image_data(\"data/Train\", image_size, targets=df_names)",
   "id": "4c0cc5fca29b2aa3",
   "outputs": [],
   "execution_count": 10
  },
  {
   "metadata": {
    "ExecuteTime": {
     "end_time": "2024-11-22T20:18:07.853097Z",
     "start_time": "2024-11-22T20:18:07.787783Z"
    }
   },
   "cell_type": "code",
   "source": [
    "X = df_train.drop(columns=['target'])\n",
    "y = df_train['target']"
   ],
   "id": "9b93d1cc8ab3e463",
   "outputs": [],
   "execution_count": 11
  },
  {
   "metadata": {
    "ExecuteTime": {
     "end_time": "2024-11-22T20:25:07.316874Z",
     "start_time": "2024-11-22T20:18:07.870546Z"
    }
   },
   "cell_type": "code",
   "source": [
    "from tensorflow.python.keras.callbacks import EarlyStopping\n",
    "from sklearn.model_selection import train_test_split\n",
    "\n",
    "# Az adatok újraformázása\n",
    "X_data = X.values.reshape(-1, *image_size, 1).astype('float32')\n",
    "y_data = y.factorize()[0]\n",
    "\n",
    "# Adatok szétosztása tanítási és validációs halmazokra\n",
    "X_train, X_val, y_train, y_val = train_test_split(X_data, y_data, test_size=0.2, stratify=y_data, random_state=42)\n",
    "\n",
    "# Modell létrehozása egyszer\n",
    "model = model_builder.build_conv_pool_model(input_size, len(df_names))\n",
    "\n",
    "# Early stopping beállítása\n",
    "early_stopping = EarlyStopping(monitor='val_loss', patience=5, restore_best_weights=True)\n",
    "\n",
    "# Modell tanítása a teljes adathalmazon\n",
    "history = model.fit(X_train, y_train,\n",
    "                    epochs=20,\n",
    "                    batch_size=32,\n",
    "                    callbacks=[early_stopping],\n",
    "                    validation_data=(X_val, y_val),\n",
    "                    verbose=1)\n",
    "\n",
    "# Validációs eredmények kiírása\n",
    "for epoch, (val_loss, val_acc) in enumerate(zip(history.history['val_loss'], history.history['val_accuracy']), start=1):\n",
    "    print(f\"Epoch {epoch}: val_loss={val_loss:.4f}, val_accuracy={val_acc:.4f}\")\n",
    "\n",
    "# Modell értékelése az összes adaton (tanítási + validációs halmazokon)\n",
    "score = model.evaluate(X_val, y_val, verbose=0)\n",
    "print(f\"Final Validation Accuracy: {score[1] * 100:.2f}%\")"
   ],
   "id": "391609a726c4763b",
   "outputs": [
    {
     "name": "stdout",
     "output_type": "stream",
     "text": [
      "Epoch 1/20\n",
      "1330/1330 [==============================] - 22s 17ms/step - loss: 1.0745 - accuracy: 0.7321 - val_loss: 0.5239 - val_accuracy: 0.8368\n",
      "Epoch 2/20\n",
      "1330/1330 [==============================] - 36s 27ms/step - loss: 0.5649 - accuracy: 0.8276 - val_loss: 0.4420 - val_accuracy: 0.8504\n",
      "Epoch 3/20\n",
      "1330/1330 [==============================] - 18s 13ms/step - loss: 0.4519 - accuracy: 0.8513 - val_loss: 0.3551 - val_accuracy: 0.8745\n",
      "Epoch 4/20\n",
      "1330/1330 [==============================] - 19s 14ms/step - loss: 0.3938 - accuracy: 0.8652 - val_loss: 0.3887 - val_accuracy: 0.8669\n",
      "Epoch 5/20\n",
      "1330/1330 [==============================] - 18s 14ms/step - loss: 0.3521 - accuracy: 0.8753 - val_loss: 0.3182 - val_accuracy: 0.8909\n",
      "Epoch 6/20\n",
      "1330/1330 [==============================] - 18s 14ms/step - loss: 0.3280 - accuracy: 0.8829 - val_loss: 0.3443 - val_accuracy: 0.8805\n",
      "Epoch 7/20\n",
      "1330/1330 [==============================] - 18s 14ms/step - loss: 0.3009 - accuracy: 0.8911 - val_loss: 0.3015 - val_accuracy: 0.8939\n",
      "Epoch 8/20\n",
      "1330/1330 [==============================] - 19s 14ms/step - loss: 0.2853 - accuracy: 0.8970 - val_loss: 0.3142 - val_accuracy: 0.8868\n",
      "Epoch 9/20\n",
      "1330/1330 [==============================] - 20s 15ms/step - loss: 0.2631 - accuracy: 0.9050 - val_loss: 0.3051 - val_accuracy: 0.8935\n",
      "Epoch 10/20\n",
      "1330/1330 [==============================] - 21s 16ms/step - loss: 0.2545 - accuracy: 0.9071 - val_loss: 0.2796 - val_accuracy: 0.8994\n",
      "Epoch 11/20\n",
      "1330/1330 [==============================] - 21s 16ms/step - loss: 0.2392 - accuracy: 0.9131 - val_loss: 0.3113 - val_accuracy: 0.8943\n",
      "Epoch 12/20\n",
      "1330/1330 [==============================] - 21s 16ms/step - loss: 0.2297 - accuracy: 0.9153 - val_loss: 0.2815 - val_accuracy: 0.9032\n",
      "Epoch 13/20\n",
      "1330/1330 [==============================] - 21s 16ms/step - loss: 0.2232 - accuracy: 0.9170 - val_loss: 0.2885 - val_accuracy: 0.9011\n",
      "Epoch 14/20\n",
      "1330/1330 [==============================] - 21s 15ms/step - loss: 0.2174 - accuracy: 0.9194 - val_loss: 0.2730 - val_accuracy: 0.9057\n",
      "Epoch 15/20\n",
      "1330/1330 [==============================] - 21s 16ms/step - loss: 0.2054 - accuracy: 0.9244 - val_loss: 0.3099 - val_accuracy: 0.8978\n",
      "Epoch 16/20\n",
      "1330/1330 [==============================] - 21s 16ms/step - loss: 0.1999 - accuracy: 0.9258 - val_loss: 0.2777 - val_accuracy: 0.9082\n",
      "Epoch 17/20\n",
      "1330/1330 [==============================] - 21s 16ms/step - loss: 0.1969 - accuracy: 0.9272 - val_loss: 0.2666 - val_accuracy: 0.9089\n",
      "Epoch 18/20\n",
      "1330/1330 [==============================] - 21s 16ms/step - loss: 0.1886 - accuracy: 0.9297 - val_loss: 0.2839 - val_accuracy: 0.9050\n",
      "Epoch 19/20\n",
      "1330/1330 [==============================] - 21s 16ms/step - loss: 0.1819 - accuracy: 0.9343 - val_loss: 0.2537 - val_accuracy: 0.9109\n",
      "Epoch 20/20\n",
      "1330/1330 [==============================] - 21s 16ms/step - loss: 0.1778 - accuracy: 0.9341 - val_loss: 0.2835 - val_accuracy: 0.9049\n",
      "Epoch 1: val_loss=0.5239, val_accuracy=0.8368\n",
      "Epoch 2: val_loss=0.4420, val_accuracy=0.8504\n",
      "Epoch 3: val_loss=0.3551, val_accuracy=0.8745\n",
      "Epoch 4: val_loss=0.3887, val_accuracy=0.8669\n",
      "Epoch 5: val_loss=0.3182, val_accuracy=0.8909\n",
      "Epoch 6: val_loss=0.3443, val_accuracy=0.8805\n",
      "Epoch 7: val_loss=0.3015, val_accuracy=0.8939\n",
      "Epoch 8: val_loss=0.3142, val_accuracy=0.8868\n",
      "Epoch 9: val_loss=0.3051, val_accuracy=0.8935\n",
      "Epoch 10: val_loss=0.2796, val_accuracy=0.8994\n",
      "Epoch 11: val_loss=0.3113, val_accuracy=0.8943\n",
      "Epoch 12: val_loss=0.2815, val_accuracy=0.9032\n",
      "Epoch 13: val_loss=0.2885, val_accuracy=0.9011\n",
      "Epoch 14: val_loss=0.2730, val_accuracy=0.9057\n",
      "Epoch 15: val_loss=0.3099, val_accuracy=0.8978\n",
      "Epoch 16: val_loss=0.2777, val_accuracy=0.9082\n",
      "Epoch 17: val_loss=0.2666, val_accuracy=0.9089\n",
      "Epoch 18: val_loss=0.2839, val_accuracy=0.9050\n",
      "Epoch 19: val_loss=0.2537, val_accuracy=0.9109\n",
      "Epoch 20: val_loss=0.2835, val_accuracy=0.9049\n",
      "Final Validation Accuracy: 90.49%\n"
     ]
    }
   ],
   "execution_count": 12
  },
  {
   "metadata": {
    "ExecuteTime": {
     "end_time": "2024-11-22T20:25:09.966182Z",
     "start_time": "2024-11-22T20:25:07.349173Z"
    }
   },
   "cell_type": "code",
   "source": "test_df = df_test = image_processor.process_image_data(\"data/TestData\", image_size)",
   "id": "f58d16224b2cc5b0",
   "outputs": [],
   "execution_count": 13
  },
  {
   "metadata": {
    "ExecuteTime": {
     "end_time": "2024-11-22T20:25:11.440083Z",
     "start_time": "2024-11-22T20:25:09.975481Z"
    }
   },
   "cell_type": "code",
   "source": [
    "X_test = test_df.iloc[:, 1:]\n",
    "X_test_prepared = X_test.values.reshape(-1, *image_size, 1).astype('float32')\n",
    "\n",
    "pred = model.predict(X_test_prepared)\n",
    "predicted_classes = pred.argmax(axis=1)\n",
    "predicted_labels = [df_names[i] for i in predicted_classes]\n",
    "\n",
    "test_df['pred'] = predicted_labels"
   ],
   "id": "ff6d98d31660c75e",
   "outputs": [
    {
     "name": "stdout",
     "output_type": "stream",
     "text": [
      "222/222 [==============================] - 1s 6ms/step\n"
     ]
    }
   ],
   "execution_count": 14
  },
  {
   "metadata": {
    "ExecuteTime": {
     "end_time": "2024-11-22T20:25:51.810610Z",
     "start_time": "2024-11-22T20:25:51.437459Z"
    }
   },
   "cell_type": "code",
   "source": "model.save(\"models/model_9049\")",
   "id": "9f07351edbc8479b",
   "outputs": [
    {
     "name": "stdout",
     "output_type": "stream",
     "text": [
      "INFO:tensorflow:Assets written to: models/model_9049/assets\n"
     ]
    },
    {
     "name": "stderr",
     "output_type": "stream",
     "text": [
      "INFO:tensorflow:Assets written to: models/model_9049/assets\n"
     ]
    }
   ],
   "execution_count": 17
  },
  {
   "metadata": {
    "ExecuteTime": {
     "end_time": "2024-11-22T20:25:12.016818Z",
     "start_time": "2024-11-22T20:25:12.004844Z"
    }
   },
   "cell_type": "code",
   "source": [
    "filtered_df = test_df[test_df['pred'] == '9']\n",
    "filtered_df[['label', 'pred']]"
   ],
   "id": "cef6c3abcb6e59f6",
   "outputs": [
    {
     "data": {
      "text/plain": [
       "             label pred\n",
       "23    Test3002.png    9\n",
       "33    Test4779.png    9\n",
       "82    Test5117.png    9\n",
       "123   Test5739.png    9\n",
       "145   Test3406.png    9\n",
       "...            ...  ...\n",
       "6876  Test3185.png    9\n",
       "6886  Test3806.png    9\n",
       "6956  Test4370.png    9\n",
       "6973  Test5052.png    9\n",
       "7097  Test5456.png    9\n",
       "\n",
       "[183 rows x 2 columns]"
      ],
      "text/html": [
       "<div>\n",
       "<style scoped>\n",
       "    .dataframe tbody tr th:only-of-type {\n",
       "        vertical-align: middle;\n",
       "    }\n",
       "\n",
       "    .dataframe tbody tr th {\n",
       "        vertical-align: top;\n",
       "    }\n",
       "\n",
       "    .dataframe thead th {\n",
       "        text-align: right;\n",
       "    }\n",
       "</style>\n",
       "<table border=\"1\" class=\"dataframe\">\n",
       "  <thead>\n",
       "    <tr style=\"text-align: right;\">\n",
       "      <th></th>\n",
       "      <th>label</th>\n",
       "      <th>pred</th>\n",
       "    </tr>\n",
       "  </thead>\n",
       "  <tbody>\n",
       "    <tr>\n",
       "      <th>23</th>\n",
       "      <td>Test3002.png</td>\n",
       "      <td>9</td>\n",
       "    </tr>\n",
       "    <tr>\n",
       "      <th>33</th>\n",
       "      <td>Test4779.png</td>\n",
       "      <td>9</td>\n",
       "    </tr>\n",
       "    <tr>\n",
       "      <th>82</th>\n",
       "      <td>Test5117.png</td>\n",
       "      <td>9</td>\n",
       "    </tr>\n",
       "    <tr>\n",
       "      <th>123</th>\n",
       "      <td>Test5739.png</td>\n",
       "      <td>9</td>\n",
       "    </tr>\n",
       "    <tr>\n",
       "      <th>145</th>\n",
       "      <td>Test3406.png</td>\n",
       "      <td>9</td>\n",
       "    </tr>\n",
       "    <tr>\n",
       "      <th>...</th>\n",
       "      <td>...</td>\n",
       "      <td>...</td>\n",
       "    </tr>\n",
       "    <tr>\n",
       "      <th>6876</th>\n",
       "      <td>Test3185.png</td>\n",
       "      <td>9</td>\n",
       "    </tr>\n",
       "    <tr>\n",
       "      <th>6886</th>\n",
       "      <td>Test3806.png</td>\n",
       "      <td>9</td>\n",
       "    </tr>\n",
       "    <tr>\n",
       "      <th>6956</th>\n",
       "      <td>Test4370.png</td>\n",
       "      <td>9</td>\n",
       "    </tr>\n",
       "    <tr>\n",
       "      <th>6973</th>\n",
       "      <td>Test5052.png</td>\n",
       "      <td>9</td>\n",
       "    </tr>\n",
       "    <tr>\n",
       "      <th>7097</th>\n",
       "      <td>Test5456.png</td>\n",
       "      <td>9</td>\n",
       "    </tr>\n",
       "  </tbody>\n",
       "</table>\n",
       "<p>183 rows × 2 columns</p>\n",
       "</div>"
      ]
     },
     "execution_count": 16,
     "metadata": {},
     "output_type": "execute_result"
    }
   ],
   "execution_count": 16
  },
  {
   "metadata": {
    "ExecuteTime": {
     "end_time": "2024-11-22T20:25:12.074688Z",
     "start_time": "2024-11-22T20:25:12.073207Z"
    }
   },
   "cell_type": "code",
   "source": "",
   "id": "919ff42018284f94",
   "outputs": [],
   "execution_count": null
  }
 ],
 "metadata": {
  "kernelspec": {
   "display_name": "Python 3",
   "language": "python",
   "name": "python3"
  },
  "language_info": {
   "codemirror_mode": {
    "name": "ipython",
    "version": 2
   },
   "file_extension": ".py",
   "mimetype": "text/x-python",
   "name": "python",
   "nbconvert_exporter": "python",
   "pygments_lexer": "ipython2",
   "version": "2.7.6"
  }
 },
 "nbformat": 4,
 "nbformat_minor": 5
}
