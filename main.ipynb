{
 "cells": [
  {
   "metadata": {
    "collapsed": true,
    "ExecuteTime": {
     "end_time": "2024-11-25T09:11:13.751939Z",
     "start_time": "2024-11-25T09:11:13.746148Z"
    }
   },
   "cell_type": "code",
   "source": [
    "import os\n",
    "from random import random\n",
    "\n",
    "import cv2\n",
    "import numpy as np\n",
    "import pandas as pd\n",
    "\n",
    "import image_processor\n",
    "import model_builder\n",
    "\n",
    "from tensorflow.keras.callbacks import EarlyStopping, TensorBoard\n",
    "from sklearn.model_selection import train_test_split\n",
    "\n",
    "from datetime import datetime"
   ],
   "id": "initial_id",
   "outputs": [],
   "execution_count": 9
  },
  {
   "metadata": {
    "ExecuteTime": {
     "end_time": "2024-11-25T09:11:13.763779Z",
     "start_time": "2024-11-25T09:11:13.760846Z"
    }
   },
   "cell_type": "code",
   "source": [
    "image_size = (32, 32)\n",
    "input_size = (*image_size, 1)"
   ],
   "id": "466310eb347c583d",
   "outputs": [],
   "execution_count": 10
  },
  {
   "metadata": {
    "ExecuteTime": {
     "end_time": "2024-11-25T09:11:13.788630Z",
     "start_time": "2024-11-25T09:11:13.786053Z"
    }
   },
   "cell_type": "code",
   "source": [
    "df_names = ['0', '1', '2', '3', '4', '5', '6', '7', '8', '9',\n",
    "            'A', 'B', 'C', 'D', 'E', 'F', 'G', 'H', 'I', 'J', 'K', 'L', 'M',\n",
    "            'N', 'O', 'P', 'Q', 'R', 'S', 'T', 'U', 'V', 'W', 'X', 'Y', 'Z',\n",
    "            'a', 'b', 'c', 'd', 'e', 'f', 'g', 'h', 'i', 'j', 'k', 'l', 'm',\n",
    "            'n', 'o', 'p', 'q', 'r', 's', 't', 'u', 'v', 'w', 'x', 'y', 'z']"
   ],
   "id": "40a0c595e348551a",
   "outputs": [],
   "execution_count": 11
  },
  {
   "metadata": {
    "ExecuteTime": {
     "end_time": "2024-11-25T09:17:42.533144Z",
     "start_time": "2024-11-25T09:11:13.804573Z"
    }
   },
   "cell_type": "code",
   "source": "df_train = image_processor.process_image_data_with_edges(\"data/Train\", image_size, targets=df_names)",
   "id": "4c0cc5fca29b2aa3",
   "outputs": [],
   "execution_count": 12
  },
  {
   "metadata": {
    "ExecuteTime": {
     "end_time": "2024-11-25T09:17:43.146104Z",
     "start_time": "2024-11-25T09:17:42.615877Z"
    }
   },
   "cell_type": "code",
   "source": [
    "X = df_train.drop(columns=['target'])\n",
    "y = df_train['target']"
   ],
   "id": "9b93d1cc8ab3e463",
   "outputs": [],
   "execution_count": 13
  },
  {
   "metadata": {
    "ExecuteTime": {
     "end_time": "2024-11-25T09:17:43.684103Z",
     "start_time": "2024-11-25T09:17:43.150257Z"
    }
   },
   "cell_type": "code",
   "source": [
    "X_data = X.values.reshape(-1, *image_size, 1).astype('float32')\n",
    "y_data = y.factorize()[0]"
   ],
   "id": "4a3e461fa809368c",
   "outputs": [],
   "execution_count": 14
  },
  {
   "metadata": {
    "ExecuteTime": {
     "end_time": "2024-11-25T09:17:45.018383Z",
     "start_time": "2024-11-25T09:17:43.705992Z"
    }
   },
   "cell_type": "code",
   "source": "X_train, X_val, y_train, y_val = train_test_split(X_data, y_data, test_size=0.005, stratify=y_data, random_state=42)",
   "id": "7b032609705afe15",
   "outputs": [],
   "execution_count": 15
  },
  {
   "metadata": {
    "ExecuteTime": {
     "end_time": "2024-11-25T09:17:45.253290Z",
     "start_time": "2024-11-25T09:17:45.035649Z"
    }
   },
   "cell_type": "code",
   "source": [
    "model = model_builder.build_conv_pool_model(input_size, len(df_names))\n",
    "\n",
    "early_stopping = EarlyStopping(monitor='val_loss', patience=5, restore_best_weights=True)\n",
    "\n",
    "log_dir = \"logs/fit/\" + datetime.now().strftime(\"%Y%m%d-%H%M%S\")\n",
    "tensorboard_callback = TensorBoard(log_dir=log_dir, histogram_freq=1)\n",
    "\n",
    "history = model.fit(X_train, y_train,\n",
    "                    epochs=50,\n",
    "                    batch_size=256,\n",
    "                    callbacks=[early_stopping, tensorboard_callback],\n",
    "                    validation_data=(X_val, y_val),\n",
    "                    verbose=1)"
   ],
   "id": "391609a726c4763b",
   "outputs": [
    {
     "ename": "ValueError",
     "evalue": "One of the dimensions in the output is <= 0 due to downsampling in conv3d_1. Consider increasing the input size. Received input shape [None, 1, 64, 64, 1] which would produce output shape with a zero or negative value in a dimension.",
     "output_type": "error",
     "traceback": [
      "\u001B[0;31m---------------------------------------------------------------------------\u001B[0m",
      "\u001B[0;31mValueError\u001B[0m                                Traceback (most recent call last)",
      "Cell \u001B[0;32mIn[16], line 1\u001B[0m\n\u001B[0;32m----> 1\u001B[0m model \u001B[38;5;241m=\u001B[39m \u001B[43mmodel_builder\u001B[49m\u001B[38;5;241;43m.\u001B[39;49m\u001B[43mbuild_conv_pool_3d_model\u001B[49m\u001B[43m(\u001B[49m\u001B[43minput_size\u001B[49m\u001B[43m,\u001B[49m\u001B[43m \u001B[49m\u001B[38;5;28;43mlen\u001B[39;49m\u001B[43m(\u001B[49m\u001B[43mdf_names\u001B[49m\u001B[43m)\u001B[49m\u001B[43m)\u001B[49m\n\u001B[1;32m      3\u001B[0m early_stopping \u001B[38;5;241m=\u001B[39m EarlyStopping(monitor\u001B[38;5;241m=\u001B[39m\u001B[38;5;124m'\u001B[39m\u001B[38;5;124mval_loss\u001B[39m\u001B[38;5;124m'\u001B[39m, patience\u001B[38;5;241m=\u001B[39m\u001B[38;5;241m5\u001B[39m, restore_best_weights\u001B[38;5;241m=\u001B[39m\u001B[38;5;28;01mTrue\u001B[39;00m)\n\u001B[1;32m      5\u001B[0m log_dir \u001B[38;5;241m=\u001B[39m \u001B[38;5;124m\"\u001B[39m\u001B[38;5;124mlogs/fit/\u001B[39m\u001B[38;5;124m\"\u001B[39m \u001B[38;5;241m+\u001B[39m datetime\u001B[38;5;241m.\u001B[39mnow()\u001B[38;5;241m.\u001B[39mstrftime(\u001B[38;5;124m\"\u001B[39m\u001B[38;5;124m%\u001B[39m\u001B[38;5;124mY\u001B[39m\u001B[38;5;124m%\u001B[39m\u001B[38;5;124mm\u001B[39m\u001B[38;5;132;01m%d\u001B[39;00m\u001B[38;5;124m-\u001B[39m\u001B[38;5;124m%\u001B[39m\u001B[38;5;124mH\u001B[39m\u001B[38;5;124m%\u001B[39m\u001B[38;5;124mM\u001B[39m\u001B[38;5;124m%\u001B[39m\u001B[38;5;124mS\u001B[39m\u001B[38;5;124m\"\u001B[39m)\n",
      "File \u001B[0;32m~/Dokumentumok/Egyetem/5.semester/Adatelemzes/Adatelmezes-HF/model_builder.py:29\u001B[0m, in \u001B[0;36mbuild_conv_pool_3d_model\u001B[0;34m(input_size, length)\u001B[0m\n\u001B[1;32m     27\u001B[0m \u001B[38;5;28;01mdef\u001B[39;00m \u001B[38;5;21mbuild_conv_pool_3d_model\u001B[39m(input_size, length):\n\u001B[1;32m     28\u001B[0m     model \u001B[38;5;241m=\u001B[39m models\u001B[38;5;241m.\u001B[39mSequential()\n\u001B[0;32m---> 29\u001B[0m     \u001B[43mmodel\u001B[49m\u001B[38;5;241;43m.\u001B[39;49m\u001B[43madd\u001B[49m\u001B[43m(\u001B[49m\u001B[43mlayers\u001B[49m\u001B[38;5;241;43m.\u001B[39;49m\u001B[43mConv3D\u001B[49m\u001B[43m(\u001B[49m\u001B[38;5;241;43m32\u001B[39;49m\u001B[43m,\u001B[49m\u001B[43m \u001B[49m\u001B[43m(\u001B[49m\u001B[38;5;241;43m3\u001B[39;49m\u001B[43m,\u001B[49m\u001B[43m \u001B[49m\u001B[38;5;241;43m3\u001B[39;49m\u001B[43m,\u001B[49m\u001B[43m \u001B[49m\u001B[38;5;241;43m3\u001B[39;49m\u001B[43m)\u001B[49m\u001B[43m,\u001B[49m\u001B[43m \u001B[49m\u001B[43mactivation\u001B[49m\u001B[38;5;241;43m=\u001B[39;49m\u001B[38;5;124;43m'\u001B[39;49m\u001B[38;5;124;43mrelu\u001B[39;49m\u001B[38;5;124;43m'\u001B[39;49m\u001B[43m,\u001B[49m\u001B[43m \u001B[49m\u001B[43minput_shape\u001B[49m\u001B[38;5;241;43m=\u001B[39;49m\u001B[43minput_size\u001B[49m\u001B[43m,\u001B[49m\u001B[43m \u001B[49m\u001B[43mpadding\u001B[49m\u001B[38;5;241;43m=\u001B[39;49m\u001B[38;5;124;43m\"\u001B[39;49m\u001B[38;5;124;43mvalid\u001B[39;49m\u001B[38;5;124;43m\"\u001B[39;49m\u001B[43m)\u001B[49m\u001B[43m)\u001B[49m\n\u001B[1;32m     30\u001B[0m     model\u001B[38;5;241m.\u001B[39madd(layers\u001B[38;5;241m.\u001B[39mBatchNormalization())\n\u001B[1;32m     31\u001B[0m     model\u001B[38;5;241m.\u001B[39madd(layers\u001B[38;5;241m.\u001B[39mMaxPooling3D((\u001B[38;5;241m1\u001B[39m, \u001B[38;5;241m2\u001B[39m, \u001B[38;5;241m2\u001B[39m)))\n",
      "File \u001B[0;32m/opt/anaconda3/envs/kerasenv/lib/python3.8/site-packages/tensorflow/python/trackable/base.py:204\u001B[0m, in \u001B[0;36mno_automatic_dependency_tracking.<locals>._method_wrapper\u001B[0;34m(self, *args, **kwargs)\u001B[0m\n\u001B[1;32m    202\u001B[0m \u001B[38;5;28mself\u001B[39m\u001B[38;5;241m.\u001B[39m_self_setattr_tracking \u001B[38;5;241m=\u001B[39m \u001B[38;5;28;01mFalse\u001B[39;00m  \u001B[38;5;66;03m# pylint: disable=protected-access\u001B[39;00m\n\u001B[1;32m    203\u001B[0m \u001B[38;5;28;01mtry\u001B[39;00m:\n\u001B[0;32m--> 204\u001B[0m   result \u001B[38;5;241m=\u001B[39m \u001B[43mmethod\u001B[49m\u001B[43m(\u001B[49m\u001B[38;5;28;43mself\u001B[39;49m\u001B[43m,\u001B[49m\u001B[43m \u001B[49m\u001B[38;5;241;43m*\u001B[39;49m\u001B[43margs\u001B[49m\u001B[43m,\u001B[49m\u001B[43m \u001B[49m\u001B[38;5;241;43m*\u001B[39;49m\u001B[38;5;241;43m*\u001B[39;49m\u001B[43mkwargs\u001B[49m\u001B[43m)\u001B[49m\n\u001B[1;32m    205\u001B[0m \u001B[38;5;28;01mfinally\u001B[39;00m:\n\u001B[1;32m    206\u001B[0m   \u001B[38;5;28mself\u001B[39m\u001B[38;5;241m.\u001B[39m_self_setattr_tracking \u001B[38;5;241m=\u001B[39m previous_value  \u001B[38;5;66;03m# pylint: disable=protected-access\u001B[39;00m\n",
      "File \u001B[0;32m/opt/anaconda3/envs/kerasenv/lib/python3.8/site-packages/keras/src/utils/traceback_utils.py:70\u001B[0m, in \u001B[0;36mfilter_traceback.<locals>.error_handler\u001B[0;34m(*args, **kwargs)\u001B[0m\n\u001B[1;32m     67\u001B[0m     filtered_tb \u001B[38;5;241m=\u001B[39m _process_traceback_frames(e\u001B[38;5;241m.\u001B[39m__traceback__)\n\u001B[1;32m     68\u001B[0m     \u001B[38;5;66;03m# To get the full stack trace, call:\u001B[39;00m\n\u001B[1;32m     69\u001B[0m     \u001B[38;5;66;03m# `tf.debugging.disable_traceback_filtering()`\u001B[39;00m\n\u001B[0;32m---> 70\u001B[0m     \u001B[38;5;28;01mraise\u001B[39;00m e\u001B[38;5;241m.\u001B[39mwith_traceback(filtered_tb) \u001B[38;5;28;01mfrom\u001B[39;00m \u001B[38;5;28;01mNone\u001B[39;00m\n\u001B[1;32m     71\u001B[0m \u001B[38;5;28;01mfinally\u001B[39;00m:\n\u001B[1;32m     72\u001B[0m     \u001B[38;5;28;01mdel\u001B[39;00m filtered_tb\n",
      "File \u001B[0;32m/opt/anaconda3/envs/kerasenv/lib/python3.8/site-packages/keras/src/layers/convolutional/base_conv.py:354\u001B[0m, in \u001B[0;36mConv.compute_output_shape\u001B[0;34m(self, input_shape)\u001B[0m\n\u001B[1;32m    347\u001B[0m         \u001B[38;5;28;01mreturn\u001B[39;00m tf\u001B[38;5;241m.\u001B[39mTensorShape(\n\u001B[1;32m    348\u001B[0m             input_shape[:batch_rank]\n\u001B[1;32m    349\u001B[0m             \u001B[38;5;241m+\u001B[39m [\u001B[38;5;28mself\u001B[39m\u001B[38;5;241m.\u001B[39mfilters]\n\u001B[1;32m    350\u001B[0m             \u001B[38;5;241m+\u001B[39m \u001B[38;5;28mself\u001B[39m\u001B[38;5;241m.\u001B[39m_spatial_output_shape(input_shape[batch_rank \u001B[38;5;241m+\u001B[39m \u001B[38;5;241m1\u001B[39m :])\n\u001B[1;32m    351\u001B[0m         )\n\u001B[1;32m    353\u001B[0m \u001B[38;5;28;01mexcept\u001B[39;00m \u001B[38;5;167;01mValueError\u001B[39;00m:\n\u001B[0;32m--> 354\u001B[0m     \u001B[38;5;28;01mraise\u001B[39;00m \u001B[38;5;167;01mValueError\u001B[39;00m(\n\u001B[1;32m    355\u001B[0m         \u001B[38;5;124m\"\u001B[39m\u001B[38;5;124mOne of the dimensions in the output is <= 0 \u001B[39m\u001B[38;5;124m\"\u001B[39m\n\u001B[1;32m    356\u001B[0m         \u001B[38;5;124mf\u001B[39m\u001B[38;5;124m\"\u001B[39m\u001B[38;5;124mdue to downsampling in \u001B[39m\u001B[38;5;132;01m{\u001B[39;00m\u001B[38;5;28mself\u001B[39m\u001B[38;5;241m.\u001B[39mname\u001B[38;5;132;01m}\u001B[39;00m\u001B[38;5;124m. Consider \u001B[39m\u001B[38;5;124m\"\u001B[39m\n\u001B[1;32m    357\u001B[0m         \u001B[38;5;124m\"\u001B[39m\u001B[38;5;124mincreasing the input size. \u001B[39m\u001B[38;5;124m\"\u001B[39m\n\u001B[1;32m    358\u001B[0m         \u001B[38;5;124mf\u001B[39m\u001B[38;5;124m\"\u001B[39m\u001B[38;5;124mReceived input shape \u001B[39m\u001B[38;5;132;01m{\u001B[39;00minput_shape\u001B[38;5;132;01m}\u001B[39;00m\u001B[38;5;124m which would produce \u001B[39m\u001B[38;5;124m\"\u001B[39m\n\u001B[1;32m    359\u001B[0m         \u001B[38;5;124m\"\u001B[39m\u001B[38;5;124moutput shape with a zero or negative value in a \u001B[39m\u001B[38;5;124m\"\u001B[39m\n\u001B[1;32m    360\u001B[0m         \u001B[38;5;124m\"\u001B[39m\u001B[38;5;124mdimension.\u001B[39m\u001B[38;5;124m\"\u001B[39m\n\u001B[1;32m    361\u001B[0m     )\n",
      "\u001B[0;31mValueError\u001B[0m: One of the dimensions in the output is <= 0 due to downsampling in conv3d_1. Consider increasing the input size. Received input shape [None, 1, 64, 64, 1] which would produce output shape with a zero or negative value in a dimension."
     ]
    }
   ],
   "execution_count": 16
  },
  {
   "metadata": {
    "ExecuteTime": {
     "end_time": "2024-11-25T09:17:45.256225Z",
     "start_time": "2024-11-24T20:30:57.207928Z"
    }
   },
   "cell_type": "code",
   "source": [
    "for epoch, (val_loss, val_acc) in enumerate(zip(history.history['val_loss'], history.history['val_accuracy']), start=1):\n",
    "    print(f\"Epoch {epoch}: val_loss={val_loss:.4f}, val_accuracy={val_acc:.4f}\")\n",
    "\n",
    "score = model.evaluate(X_val, y_val, verbose=0)\n",
    "print(f\"Final Validation Accuracy: {score[1] * 100:.2f}%\")"
   ],
   "id": "d6d05f1893ba0628",
   "outputs": [
    {
     "name": "stdout",
     "output_type": "stream",
     "text": [
      "Epoch 1: val_loss=3.6545, val_accuracy=0.1165\n",
      "Epoch 2: val_loss=0.7131, val_accuracy=0.7820\n",
      "Epoch 3: val_loss=0.3730, val_accuracy=0.8797\n",
      "Epoch 4: val_loss=0.3267, val_accuracy=0.8872\n",
      "Epoch 5: val_loss=0.2982, val_accuracy=0.8835\n",
      "Epoch 6: val_loss=0.2759, val_accuracy=0.8985\n",
      "Epoch 7: val_loss=0.2736, val_accuracy=0.9173\n",
      "Epoch 8: val_loss=0.2545, val_accuracy=0.8722\n",
      "Epoch 9: val_loss=0.2436, val_accuracy=0.9023\n",
      "Epoch 10: val_loss=0.2473, val_accuracy=0.8947\n",
      "Epoch 11: val_loss=0.2529, val_accuracy=0.9173\n",
      "Epoch 12: val_loss=0.2436, val_accuracy=0.8985\n",
      "Epoch 13: val_loss=0.2331, val_accuracy=0.9098\n",
      "Epoch 14: val_loss=0.3035, val_accuracy=0.8985\n",
      "Epoch 15: val_loss=0.2968, val_accuracy=0.8947\n",
      "Epoch 16: val_loss=0.2668, val_accuracy=0.9023\n",
      "Epoch 17: val_loss=0.2430, val_accuracy=0.9135\n",
      "Epoch 18: val_loss=0.2550, val_accuracy=0.9023\n",
      "Final Validation Accuracy: 90.98%\n"
     ]
    }
   ],
   "execution_count": 16
  },
  {
   "metadata": {
    "ExecuteTime": {
     "end_time": "2024-11-25T09:17:45.256848Z",
     "start_time": "2024-11-24T20:31:16.890272Z"
    }
   },
   "cell_type": "code",
   "source": "test_df = df_test = image_processor.process_image_data_with_edges(\"data/TestData\", image_size)",
   "id": "f58d16224b2cc5b0",
   "outputs": [],
   "execution_count": 17
  },
  {
   "metadata": {
    "ExecuteTime": {
     "end_time": "2024-11-25T09:17:45.257052Z",
     "start_time": "2024-11-24T20:36:03.337293Z"
    }
   },
   "cell_type": "code",
   "source": [
    "X_test = test_df.iloc[:, 1:]\n",
    "X_test_prepared = X_test.values.reshape(-1, *image_size, 1).astype('float32')"
   ],
   "id": "ff6d98d31660c75e",
   "outputs": [],
   "execution_count": 22
  },
  {
   "metadata": {
    "ExecuteTime": {
     "end_time": "2024-11-25T09:17:45.287613Z",
     "start_time": "2024-11-24T20:36:15.579102Z"
    }
   },
   "cell_type": "code",
   "source": "pred = model.predict(X_test_prepared)",
   "id": "11b37c192267c0d1",
   "outputs": [
    {
     "name": "stdout",
     "output_type": "stream",
     "text": [
      "222/222 [==============================] - 1s 6ms/step\n"
     ]
    }
   ],
   "execution_count": 23
  },
  {
   "metadata": {
    "ExecuteTime": {
     "end_time": "2024-11-25T09:17:45.309373Z",
     "start_time": "2024-11-24T20:36:18.047061Z"
    }
   },
   "cell_type": "code",
   "source": "pred",
   "id": "99984648827337a0",
   "outputs": [
    {
     "data": {
      "text/plain": [
       "array([[7.1457731e-12, 2.3294170e-12, 9.3129140e-01, ..., 8.0120060e-08,\n",
       "        5.6839532e-08, 4.0921541e-03],\n",
       "       [4.7364028e-09, 9.0312682e-08, 2.1152009e-10, ..., 1.6203050e-04,\n",
       "        2.1481452e-07, 1.3879976e-05],\n",
       "       [1.3601860e-08, 2.5647477e-09, 8.6971272e-12, ..., 6.0828124e-06,\n",
       "        1.3891464e-09, 7.9736673e-10],\n",
       "       ...,\n",
       "       [7.4143580e-10, 1.7351707e-14, 1.2992955e-10, ..., 4.6022164e-16,\n",
       "        2.1246162e-06, 9.6830747e-12],\n",
       "       [2.4520563e-01, 4.9503862e-10, 9.7485763e-11, ..., 1.9674833e-10,\n",
       "        3.5034334e-10, 4.0370691e-13],\n",
       "       [2.3061357e-09, 1.5271134e-03, 5.9848936e-08, ..., 8.9920104e-06,\n",
       "        2.7365263e-03, 4.7031220e-04]], dtype=float32)"
      ]
     },
     "execution_count": 24,
     "metadata": {},
     "output_type": "execute_result"
    }
   ],
   "execution_count": 24
  },
  {
   "metadata": {
    "ExecuteTime": {
     "end_time": "2024-11-25T09:17:45.310877Z",
     "start_time": "2024-11-24T20:36:36.495371Z"
    }
   },
   "cell_type": "code",
   "source": [
    "predicted_classes = pred.argmax(axis=1)\n",
    "len(predicted_classes)"
   ],
   "id": "aad4b8f05c11a0ee",
   "outputs": [
    {
     "data": {
      "text/plain": [
       "7100"
      ]
     },
     "execution_count": 26,
     "metadata": {},
     "output_type": "execute_result"
    }
   ],
   "execution_count": 26
  },
  {
   "metadata": {
    "ExecuteTime": {
     "end_time": "2024-11-25T09:17:45.321334Z",
     "start_time": "2024-11-24T20:37:39.707394Z"
    }
   },
   "cell_type": "code",
   "source": [
    "#C predicted_labels = [df_names[i] for i in predicted_classes]\n",
    "\n",
    "test_df['pred'] = predicted_classes + 1"
   ],
   "id": "632635caa51f875f",
   "outputs": [],
   "execution_count": 30
  },
  {
   "metadata": {
    "ExecuteTime": {
     "end_time": "2024-11-25T09:17:45.321823Z",
     "start_time": "2024-11-24T20:34:39.924923Z"
    }
   },
   "cell_type": "code",
   "source": "# model.save(\"models/model_final\")",
   "id": "9f07351edbc8479b",
   "outputs": [
    {
     "name": "stdout",
     "output_type": "stream",
     "text": [
      "INFO:tensorflow:Assets written to: models/model_final/assets\n"
     ]
    },
    {
     "name": "stderr",
     "output_type": "stream",
     "text": [
      "INFO:tensorflow:Assets written to: models/model_final/assets\n"
     ]
    }
   ],
   "execution_count": 20
  },
  {
   "metadata": {
    "ExecuteTime": {
     "end_time": "2024-11-25T09:17:45.327610Z",
     "start_time": "2024-11-24T20:37:41.065542Z"
    }
   },
   "cell_type": "code",
   "source": [
    "filtered_df = test_df[test_df['pred'] == 'l']\n",
    "test_df[['label', 'pred']]"
   ],
   "id": "cef6c3abcb6e59f6",
   "outputs": [
    {
     "data": {
      "text/plain": [
       "             label  pred\n",
       "0     Test4751.png     3\n",
       "1     Test2320.png    21\n",
       "2     Test4989.png    24\n",
       "3     Test6146.png    29\n",
       "4     Test1629.png    55\n",
       "...            ...   ...\n",
       "7095  Test2339.png    52\n",
       "7096  Test4990.png    24\n",
       "7097  Test5456.png    10\n",
       "7098  Test4748.png    25\n",
       "7099  Test3027.png    42\n",
       "\n",
       "[7100 rows x 2 columns]"
      ],
      "text/html": [
       "<div>\n",
       "<style scoped>\n",
       "    .dataframe tbody tr th:only-of-type {\n",
       "        vertical-align: middle;\n",
       "    }\n",
       "\n",
       "    .dataframe tbody tr th {\n",
       "        vertical-align: top;\n",
       "    }\n",
       "\n",
       "    .dataframe thead th {\n",
       "        text-align: right;\n",
       "    }\n",
       "</style>\n",
       "<table border=\"1\" class=\"dataframe\">\n",
       "  <thead>\n",
       "    <tr style=\"text-align: right;\">\n",
       "      <th></th>\n",
       "      <th>label</th>\n",
       "      <th>pred</th>\n",
       "    </tr>\n",
       "  </thead>\n",
       "  <tbody>\n",
       "    <tr>\n",
       "      <th>0</th>\n",
       "      <td>Test4751.png</td>\n",
       "      <td>3</td>\n",
       "    </tr>\n",
       "    <tr>\n",
       "      <th>1</th>\n",
       "      <td>Test2320.png</td>\n",
       "      <td>21</td>\n",
       "    </tr>\n",
       "    <tr>\n",
       "      <th>2</th>\n",
       "      <td>Test4989.png</td>\n",
       "      <td>24</td>\n",
       "    </tr>\n",
       "    <tr>\n",
       "      <th>3</th>\n",
       "      <td>Test6146.png</td>\n",
       "      <td>29</td>\n",
       "    </tr>\n",
       "    <tr>\n",
       "      <th>4</th>\n",
       "      <td>Test1629.png</td>\n",
       "      <td>55</td>\n",
       "    </tr>\n",
       "    <tr>\n",
       "      <th>...</th>\n",
       "      <td>...</td>\n",
       "      <td>...</td>\n",
       "    </tr>\n",
       "    <tr>\n",
       "      <th>7095</th>\n",
       "      <td>Test2339.png</td>\n",
       "      <td>52</td>\n",
       "    </tr>\n",
       "    <tr>\n",
       "      <th>7096</th>\n",
       "      <td>Test4990.png</td>\n",
       "      <td>24</td>\n",
       "    </tr>\n",
       "    <tr>\n",
       "      <th>7097</th>\n",
       "      <td>Test5456.png</td>\n",
       "      <td>10</td>\n",
       "    </tr>\n",
       "    <tr>\n",
       "      <th>7098</th>\n",
       "      <td>Test4748.png</td>\n",
       "      <td>25</td>\n",
       "    </tr>\n",
       "    <tr>\n",
       "      <th>7099</th>\n",
       "      <td>Test3027.png</td>\n",
       "      <td>42</td>\n",
       "    </tr>\n",
       "  </tbody>\n",
       "</table>\n",
       "<p>7100 rows × 2 columns</p>\n",
       "</div>"
      ]
     },
     "execution_count": 31,
     "metadata": {},
     "output_type": "execute_result"
    }
   ],
   "execution_count": 31
  },
  {
   "metadata": {
    "ExecuteTime": {
     "end_time": "2024-11-25T09:17:45.329521Z",
     "start_time": "2024-11-24T20:39:38.455327Z"
    }
   },
   "cell_type": "code",
   "source": "df_lead = test_df[['pred', 'label']].sort_values(by=['label'], ascending=True).reset_index(drop=True)",
   "id": "919ff42018284f94",
   "outputs": [],
   "execution_count": 38
  },
  {
   "metadata": {
    "ExecuteTime": {
     "end_time": "2024-11-25T09:17:45.329931Z",
     "start_time": "2024-11-24T20:39:38.612446Z"
    }
   },
   "cell_type": "code",
   "source": "df_lead.columns = ['class', 'TestImage']",
   "id": "da45f4defbb0e342",
   "outputs": [],
   "execution_count": 39
  },
  {
   "metadata": {
    "ExecuteTime": {
     "end_time": "2024-11-25T09:17:45.330083Z",
     "start_time": "2024-11-24T20:39:38.791727Z"
    }
   },
   "cell_type": "code",
   "source": "df_lead",
   "id": "e30c16ebb3f852e4",
   "outputs": [
    {
     "data": {
      "text/plain": [
       "      class     TestImage\n",
       "0        19  Test0001.png\n",
       "1        19  Test0002.png\n",
       "2        45  Test0003.png\n",
       "3        45  Test0004.png\n",
       "4        45  Test0005.png\n",
       "...     ...           ...\n",
       "7095     31  Test7096.png\n",
       "7096     12  Test7097.png\n",
       "7097     23  Test7098.png\n",
       "7098     33  Test7099.png\n",
       "7099     17  Test7100.png\n",
       "\n",
       "[7100 rows x 2 columns]"
      ],
      "text/html": [
       "<div>\n",
       "<style scoped>\n",
       "    .dataframe tbody tr th:only-of-type {\n",
       "        vertical-align: middle;\n",
       "    }\n",
       "\n",
       "    .dataframe tbody tr th {\n",
       "        vertical-align: top;\n",
       "    }\n",
       "\n",
       "    .dataframe thead th {\n",
       "        text-align: right;\n",
       "    }\n",
       "</style>\n",
       "<table border=\"1\" class=\"dataframe\">\n",
       "  <thead>\n",
       "    <tr style=\"text-align: right;\">\n",
       "      <th></th>\n",
       "      <th>class</th>\n",
       "      <th>TestImage</th>\n",
       "    </tr>\n",
       "  </thead>\n",
       "  <tbody>\n",
       "    <tr>\n",
       "      <th>0</th>\n",
       "      <td>19</td>\n",
       "      <td>Test0001.png</td>\n",
       "    </tr>\n",
       "    <tr>\n",
       "      <th>1</th>\n",
       "      <td>19</td>\n",
       "      <td>Test0002.png</td>\n",
       "    </tr>\n",
       "    <tr>\n",
       "      <th>2</th>\n",
       "      <td>45</td>\n",
       "      <td>Test0003.png</td>\n",
       "    </tr>\n",
       "    <tr>\n",
       "      <th>3</th>\n",
       "      <td>45</td>\n",
       "      <td>Test0004.png</td>\n",
       "    </tr>\n",
       "    <tr>\n",
       "      <th>4</th>\n",
       "      <td>45</td>\n",
       "      <td>Test0005.png</td>\n",
       "    </tr>\n",
       "    <tr>\n",
       "      <th>...</th>\n",
       "      <td>...</td>\n",
       "      <td>...</td>\n",
       "    </tr>\n",
       "    <tr>\n",
       "      <th>7095</th>\n",
       "      <td>31</td>\n",
       "      <td>Test7096.png</td>\n",
       "    </tr>\n",
       "    <tr>\n",
       "      <th>7096</th>\n",
       "      <td>12</td>\n",
       "      <td>Test7097.png</td>\n",
       "    </tr>\n",
       "    <tr>\n",
       "      <th>7097</th>\n",
       "      <td>23</td>\n",
       "      <td>Test7098.png</td>\n",
       "    </tr>\n",
       "    <tr>\n",
       "      <th>7098</th>\n",
       "      <td>33</td>\n",
       "      <td>Test7099.png</td>\n",
       "    </tr>\n",
       "    <tr>\n",
       "      <th>7099</th>\n",
       "      <td>17</td>\n",
       "      <td>Test7100.png</td>\n",
       "    </tr>\n",
       "  </tbody>\n",
       "</table>\n",
       "<p>7100 rows × 2 columns</p>\n",
       "</div>"
      ]
     },
     "execution_count": 40,
     "metadata": {},
     "output_type": "execute_result"
    }
   ],
   "execution_count": 40
  },
  {
   "metadata": {
    "ExecuteTime": {
     "end_time": "2024-11-25T09:17:45.331067Z",
     "start_time": "2024-11-24T20:42:51.216103Z"
    }
   },
   "cell_type": "code",
   "source": "df_lead.to_csv(\"vegleges_adat.csv\", index=False, sep=';')",
   "id": "dd3c235bfbe6d00b",
   "outputs": [],
   "execution_count": 43
  },
  {
   "metadata": {},
   "cell_type": "code",
   "outputs": [],
   "execution_count": null,
   "source": "",
   "id": "7309fe0376d8ecef"
  }
 ],
 "metadata": {
  "kernelspec": {
   "display_name": "Python 3",
   "language": "python",
   "name": "python3"
  },
  "language_info": {
   "codemirror_mode": {
    "name": "ipython",
    "version": 2
   },
   "file_extension": ".py",
   "mimetype": "text/x-python",
   "name": "python",
   "nbconvert_exporter": "python",
   "pygments_lexer": "ipython2",
   "version": "2.7.6"
  }
 },
 "nbformat": 4,
 "nbformat_minor": 5
}
