{
 "cells": [
  {
   "metadata": {
    "collapsed": true,
    "ExecuteTime": {
     "end_time": "2024-11-24T20:10:22.016304Z",
     "start_time": "2024-11-24T20:10:17.646128Z"
    }
   },
   "cell_type": "code",
   "source": [
    "import os\n",
    "from random import random\n",
    "\n",
    "import cv2\n",
    "import numpy as np\n",
    "import pandas as pd\n",
    "\n",
    "import image_processor\n",
    "import model_builder\n",
    "\n",
    "from tensorflow.keras.callbacks import EarlyStopping, TensorBoard\n",
    "from sklearn.model_selection import train_test_split\n",
    "\n",
    "from datetime import datetime"
   ],
   "id": "initial_id",
   "outputs": [],
   "execution_count": 1
  },
  {
   "metadata": {
    "ExecuteTime": {
     "end_time": "2024-11-24T20:10:22.022342Z",
     "start_time": "2024-11-24T20:10:22.020461Z"
    }
   },
   "cell_type": "code",
   "source": [
    "image_size = (32, 32)\n",
    "input_size = (*image_size, 1)"
   ],
   "id": "466310eb347c583d",
   "outputs": [],
   "execution_count": 2
  },
  {
   "metadata": {
    "ExecuteTime": {
     "end_time": "2024-11-24T20:10:22.088812Z",
     "start_time": "2024-11-24T20:10:22.086463Z"
    }
   },
   "cell_type": "code",
   "source": [
    "df_names = ['0', '1', '2', '3', '4', '5', '6', '7', '8', '9',\n",
    "            'A', 'B', 'C', 'D', 'E', 'F', 'G', 'H', 'I', 'J', 'K', 'L', 'M',\n",
    "            'N', 'O', 'P', 'Q', 'R', 'S', 'T', 'U', 'V', 'W', 'X', 'Y', 'Z',\n",
    "            'a', 'b', 'c', 'd', 'e', 'f', 'g', 'h', 'i', 'j', 'k', 'l', 'm',\n",
    "            'n', 'o', 'p', 'q', 'r', 's', 't', 'u', 'v', 'w', 'x', 'y', 'z']"
   ],
   "id": "40a0c595e348551a",
   "outputs": [],
   "execution_count": 3
  },
  {
   "metadata": {
    "ExecuteTime": {
     "end_time": "2024-11-24T20:11:18.283263Z",
     "start_time": "2024-11-24T20:10:34.284157Z"
    }
   },
   "cell_type": "code",
   "source": "df_train = image_processor.process_image_data_with_edges(\"data/Train\", image_size, targets=df_names)",
   "id": "4c0cc5fca29b2aa3",
   "outputs": [],
   "execution_count": 5
  },
  {
   "metadata": {
    "ExecuteTime": {
     "end_time": "2024-11-24T20:11:44.854451Z",
     "start_time": "2024-11-24T20:11:44.673935Z"
    }
   },
   "cell_type": "code",
   "source": [
    "X = df_train.drop(columns=['target'])\n",
    "y = df_train['target']"
   ],
   "id": "9b93d1cc8ab3e463",
   "outputs": [],
   "execution_count": 6
  },
  {
   "metadata": {
    "ExecuteTime": {
     "end_time": "2024-11-24T20:11:44.967230Z",
     "start_time": "2024-11-24T20:11:44.901064Z"
    }
   },
   "cell_type": "code",
   "source": [
    "X_data = X.values.reshape(-1, *image_size, 1).astype('float32')\n",
    "y_data = y.factorize()[0]"
   ],
   "id": "4a3e461fa809368c",
   "outputs": [],
   "execution_count": 7
  },
  {
   "metadata": {
    "ExecuteTime": {
     "end_time": "2024-11-24T20:11:45.344613Z",
     "start_time": "2024-11-24T20:11:45.025945Z"
    }
   },
   "cell_type": "code",
   "source": "X_train, X_val, y_train, y_val = train_test_split(X_data, y_data, test_size=0.005, stratify=y_data, random_state=42)",
   "id": "7b032609705afe15",
   "outputs": [],
   "execution_count": 8
  },
  {
   "metadata": {
    "jupyter": {
     "is_executing": true
    },
    "ExecuteTime": {
     "start_time": "2024-11-24T20:11:45.992527Z"
    }
   },
   "cell_type": "code",
   "source": [
    "model = model_builder.build_conv_pool_model(input_size, len(df_names))\n",
    "\n",
    "early_stopping = EarlyStopping(monitor='val_loss', patience=5, restore_best_weights=True)\n",
    "\n",
    "log_dir = \"logs/fit/\" + datetime.now().strftime(\"%Y%m%d-%H%M%S\")\n",
    "tensorboard_callback = TensorBoard(log_dir=log_dir, histogram_freq=1)\n",
    "\n",
    "history = model.fit(X_train, y_train,\n",
    "                    epochs=50,\n",
    "                    batch_size=256,\n",
    "                    callbacks=[early_stopping, tensorboard_callback],\n",
    "                    validation_data=(X_val, y_val),\n",
    "                    verbose=1)"
   ],
   "id": "391609a726c4763b",
   "outputs": [
    {
     "name": "stdout",
     "output_type": "stream",
     "text": [
      "Epoch 1/50\n",
      " 86/207 [===========>..................] - ETA: 10s - loss: 2.2517 - accuracy: 0.4227"
     ]
    }
   ],
   "execution_count": null
  },
  {
   "metadata": {
    "ExecuteTime": {
     "end_time": "2024-11-24T20:10:22.368727Z",
     "start_time": "2024-11-24T20:01:44.388781Z"
    }
   },
   "cell_type": "code",
   "source": [
    "for epoch, (val_loss, val_acc) in enumerate(zip(history.history['val_loss'], history.history['val_accuracy']), start=1):\n",
    "    print(f\"Epoch {epoch}: val_loss={val_loss:.4f}, val_accuracy={val_acc:.4f}\")\n",
    "\n",
    "score = model.evaluate(X_val, y_val, verbose=0)\n",
    "print(f\"Final Validation Accuracy: {score[1] * 100:.2f}%\")\n",
    "# 91.84"
   ],
   "id": "d6d05f1893ba0628",
   "outputs": [
    {
     "name": "stdout",
     "output_type": "stream",
     "text": [
      "Epoch 1: val_loss=4.6199, val_accuracy=0.0602\n",
      "Epoch 2: val_loss=1.0670, val_accuracy=0.7068\n",
      "Epoch 3: val_loss=0.3350, val_accuracy=0.8985\n",
      "Epoch 4: val_loss=0.2893, val_accuracy=0.8985\n",
      "Epoch 5: val_loss=0.2756, val_accuracy=0.8985\n",
      "Epoch 6: val_loss=0.2641, val_accuracy=0.9135\n",
      "Epoch 7: val_loss=0.2434, val_accuracy=0.8985\n",
      "Epoch 8: val_loss=0.2569, val_accuracy=0.9098\n",
      "Epoch 9: val_loss=0.2207, val_accuracy=0.9173\n",
      "Epoch 10: val_loss=0.2400, val_accuracy=0.9135\n",
      "Epoch 11: val_loss=0.2308, val_accuracy=0.9098\n",
      "Epoch 12: val_loss=0.2281, val_accuracy=0.9135\n",
      "Epoch 13: val_loss=0.2526, val_accuracy=0.9135\n",
      "Epoch 14: val_loss=0.2266, val_accuracy=0.9098\n",
      "Final Validation Accuracy: 91.73%\n"
     ]
    }
   ],
   "execution_count": 12
  },
  {
   "metadata": {
    "ExecuteTime": {
     "end_time": "2024-11-24T20:10:22.369095Z",
     "start_time": "2024-11-24T20:01:49.641363Z"
    }
   },
   "cell_type": "code",
   "source": "test_df = df_test = image_processor.process_image_data(\"data/TestData\", image_size)",
   "id": "f58d16224b2cc5b0",
   "outputs": [],
   "execution_count": 13
  },
  {
   "metadata": {
    "ExecuteTime": {
     "end_time": "2024-11-24T20:10:22.369188Z",
     "start_time": "2024-11-24T20:01:52.317681Z"
    }
   },
   "cell_type": "code",
   "source": [
    "X_test = test_df.iloc[:, 1:]\n",
    "X_test_prepared = X_test.values.reshape(-1, *image_size, 1).astype('float32')\n",
    "\n",
    "pred = model.predict(X_test_prepared)\n",
    "predicted_classes = pred.argmax(axis=1)\n",
    "predicted_labels = [df_names[i] for i in predicted_classes]\n",
    "\n",
    "test_df['pred'] = predicted_labels"
   ],
   "id": "ff6d98d31660c75e",
   "outputs": [
    {
     "name": "stdout",
     "output_type": "stream",
     "text": [
      "222/222 [==============================] - 1s 5ms/step\n"
     ]
    }
   ],
   "execution_count": 14
  },
  {
   "metadata": {
    "ExecuteTime": {
     "end_time": "2024-11-24T20:10:22.369296Z",
     "start_time": "2024-11-24T20:01:53.519598Z"
    }
   },
   "cell_type": "code",
   "source": "model.save(\"models/model_92_05\")",
   "id": "9f07351edbc8479b",
   "outputs": [
    {
     "name": "stdout",
     "output_type": "stream",
     "text": [
      "INFO:tensorflow:Assets written to: models/model_92_05/assets\n"
     ]
    },
    {
     "name": "stderr",
     "output_type": "stream",
     "text": [
      "INFO:tensorflow:Assets written to: models/model_92_05/assets\n"
     ]
    }
   ],
   "execution_count": 15
  },
  {
   "metadata": {
    "ExecuteTime": {
     "end_time": "2024-11-24T20:10:22.369388Z",
     "start_time": "2024-11-24T20:02:22.676527Z"
    }
   },
   "cell_type": "code",
   "source": [
    "filtered_df = test_df[test_df['pred'] == '']\n",
    "test_df[['label', 'pred']]"
   ],
   "id": "cef6c3abcb6e59f6",
   "outputs": [
    {
     "data": {
      "text/plain": [
       "             label pred\n",
       "0     Test4751.png    2\n",
       "1     Test2320.png    k\n",
       "2     Test4989.png    N\n",
       "3     Test6146.png    S\n",
       "4     Test1629.png    s\n",
       "...            ...  ...\n",
       "7095  Test2339.png    p\n",
       "7096  Test4990.png    N\n",
       "7097  Test5456.png    9\n",
       "7098  Test4748.png    0\n",
       "7099  Test3027.png    f\n",
       "\n",
       "[7100 rows x 2 columns]"
      ],
      "text/html": [
       "<div>\n",
       "<style scoped>\n",
       "    .dataframe tbody tr th:only-of-type {\n",
       "        vertical-align: middle;\n",
       "    }\n",
       "\n",
       "    .dataframe tbody tr th {\n",
       "        vertical-align: top;\n",
       "    }\n",
       "\n",
       "    .dataframe thead th {\n",
       "        text-align: right;\n",
       "    }\n",
       "</style>\n",
       "<table border=\"1\" class=\"dataframe\">\n",
       "  <thead>\n",
       "    <tr style=\"text-align: right;\">\n",
       "      <th></th>\n",
       "      <th>label</th>\n",
       "      <th>pred</th>\n",
       "    </tr>\n",
       "  </thead>\n",
       "  <tbody>\n",
       "    <tr>\n",
       "      <th>0</th>\n",
       "      <td>Test4751.png</td>\n",
       "      <td>2</td>\n",
       "    </tr>\n",
       "    <tr>\n",
       "      <th>1</th>\n",
       "      <td>Test2320.png</td>\n",
       "      <td>k</td>\n",
       "    </tr>\n",
       "    <tr>\n",
       "      <th>2</th>\n",
       "      <td>Test4989.png</td>\n",
       "      <td>N</td>\n",
       "    </tr>\n",
       "    <tr>\n",
       "      <th>3</th>\n",
       "      <td>Test6146.png</td>\n",
       "      <td>S</td>\n",
       "    </tr>\n",
       "    <tr>\n",
       "      <th>4</th>\n",
       "      <td>Test1629.png</td>\n",
       "      <td>s</td>\n",
       "    </tr>\n",
       "    <tr>\n",
       "      <th>...</th>\n",
       "      <td>...</td>\n",
       "      <td>...</td>\n",
       "    </tr>\n",
       "    <tr>\n",
       "      <th>7095</th>\n",
       "      <td>Test2339.png</td>\n",
       "      <td>p</td>\n",
       "    </tr>\n",
       "    <tr>\n",
       "      <th>7096</th>\n",
       "      <td>Test4990.png</td>\n",
       "      <td>N</td>\n",
       "    </tr>\n",
       "    <tr>\n",
       "      <th>7097</th>\n",
       "      <td>Test5456.png</td>\n",
       "      <td>9</td>\n",
       "    </tr>\n",
       "    <tr>\n",
       "      <th>7098</th>\n",
       "      <td>Test4748.png</td>\n",
       "      <td>0</td>\n",
       "    </tr>\n",
       "    <tr>\n",
       "      <th>7099</th>\n",
       "      <td>Test3027.png</td>\n",
       "      <td>f</td>\n",
       "    </tr>\n",
       "  </tbody>\n",
       "</table>\n",
       "<p>7100 rows × 2 columns</p>\n",
       "</div>"
      ]
     },
     "execution_count": 17,
     "metadata": {},
     "output_type": "execute_result"
    }
   ],
   "execution_count": 17
  },
  {
   "metadata": {
    "ExecuteTime": {
     "end_time": "2024-11-24T20:10:22.369933Z",
     "start_time": "2024-11-24T19:52:45.352026Z"
    }
   },
   "cell_type": "code",
   "source": "filtered_df = test_df[test_df['label'] == 'Test0294.png']",
   "id": "919ff42018284f94",
   "outputs": [],
   "execution_count": null
  }
 ],
 "metadata": {
  "kernelspec": {
   "display_name": "Python 3",
   "language": "python",
   "name": "python3"
  },
  "language_info": {
   "codemirror_mode": {
    "name": "ipython",
    "version": 2
   },
   "file_extension": ".py",
   "mimetype": "text/x-python",
   "name": "python",
   "nbconvert_exporter": "python",
   "pygments_lexer": "ipython2",
   "version": "2.7.6"
  }
 },
 "nbformat": 4,
 "nbformat_minor": 5
}
