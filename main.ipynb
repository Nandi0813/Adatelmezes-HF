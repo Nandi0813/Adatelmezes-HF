{
 "cells": [
  {
   "metadata": {
    "collapsed": true,
    "ExecuteTime": {
     "end_time": "2024-11-22T18:03:11.758899Z",
     "start_time": "2024-11-22T18:03:08.227976Z"
    }
   },
   "cell_type": "code",
   "source": [
    "import os\n",
    "import cv2\n",
    "import numpy as np\n",
    "import pandas as pd\n",
    "\n",
    "import image_processor\n",
    "import model_builder\n",
    "\n",
    "from sklearn.model_selection import StratifiedKFold"
   ],
   "id": "initial_id",
   "outputs": [],
   "execution_count": 1
  },
  {
   "metadata": {
    "ExecuteTime": {
     "end_time": "2024-11-22T18:03:11.763214Z",
     "start_time": "2024-11-22T18:03:11.761653Z"
    }
   },
   "cell_type": "code",
   "source": [
    "image_size = (32, 32)\n",
    "input_size = (*image_size, 1)"
   ],
   "id": "466310eb347c583d",
   "outputs": [],
   "execution_count": 2
  },
  {
   "metadata": {
    "ExecuteTime": {
     "end_time": "2024-11-22T18:03:11.840914Z",
     "start_time": "2024-11-22T18:03:11.838605Z"
    }
   },
   "cell_type": "code",
   "source": [
    "df_names = ['0', '1', '2', '3', '4', '5', '6', '7', '8', '9',\n",
    "            'A', 'B', 'C', 'D', 'E', 'F', 'G', 'H', 'I', 'J', 'K', 'L', 'M',\n",
    "            'N', 'O', 'P', 'Q', 'R', 'S', 'T', 'U', 'V', 'W', 'X', 'Y', 'Z',\n",
    "            'a', 'b', 'c', 'd', 'e', 'f', 'g', 'h', 'i', 'j', 'k', 'l', 'm',\n",
    "            'n', 'o', 'p', 'q', 'r', 's', 't', 'u', 'v', 'w', 'x', 'y', 'z']"
   ],
   "id": "40a0c595e348551a",
   "outputs": [],
   "execution_count": 3
  },
  {
   "metadata": {
    "ExecuteTime": {
     "end_time": "2024-11-22T18:03:38.052194Z",
     "start_time": "2024-11-22T18:03:11.846124Z"
    }
   },
   "cell_type": "code",
   "source": "df_train = image_processor.process_image_data(\"data/Train\", image_size, targets=df_names)",
   "id": "4c0cc5fca29b2aa3",
   "outputs": [],
   "execution_count": 4
  },
  {
   "metadata": {
    "ExecuteTime": {
     "end_time": "2024-11-22T18:03:38.119060Z",
     "start_time": "2024-11-22T18:03:38.072890Z"
    }
   },
   "cell_type": "code",
   "source": [
    "X = df_train.drop(columns=['target'])\n",
    "y = df_train['target']"
   ],
   "id": "9b93d1cc8ab3e463",
   "outputs": [],
   "execution_count": 5
  },
  {
   "metadata": {
    "ExecuteTime": {
     "end_time": "2024-11-22T18:34:42.119041Z",
     "start_time": "2024-11-22T18:06:10.641914Z"
    }
   },
   "cell_type": "code",
   "source": [
    "from tensorflow.python.keras.callbacks import EarlyStopping\n",
    "\n",
    "X_data = X.values.reshape(-1, *image_size, 1).astype('float32')\n",
    "y_data = y.factorize()[0]\n",
    "\n",
    "skf = StratifiedKFold(n_splits=10, shuffle=True, random_state=42)\n",
    "fold = 1\n",
    "cv_scores = []\n",
    "\n",
    "for train_index, test_index in skf.split(X_data, y_data):\n",
    "    print(f\"\\nTraining Fold {fold}...\")\n",
    "\n",
    "    X_train, X_test = X_data[train_index], X_data[test_index]\n",
    "    y_train, y_test = y_data[train_index], y_data[test_index]\n",
    "\n",
    "    model = model_builder.build_conv_pool_model(input_size, len(df_names))\n",
    "    early_stopping = EarlyStopping(monitor='val_loss', patience=5, restore_best_weights=True)\n",
    "    history = model.fit(X_train, y_train,\n",
    "                        epochs=10,\n",
    "                        batch_size=32,\n",
    "                        callbacks=[early_stopping],\n",
    "                        validation_data=(X_test, y_test),\n",
    "                        verbose=0)\n",
    "\n",
    "    for epoch, (val_loss, val_acc) in enumerate(zip(history.history['val_loss'], history.history['val_accuracy']), start=1):\n",
    "        print(f\"  Epoch {epoch}: val_loss={val_loss:.4f}, val_accuracy={val_acc:.4f}\")\n",
    "\n",
    "    score = model.evaluate(X_test, y_test, verbose=0)\n",
    "    print(f\"Fold {fold} Final Accuracy: {score[1] * 100:.2f}%\")\n",
    "    cv_scores.append(score[1])\n",
    "    fold += 1"
   ],
   "id": "391609a726c4763b",
   "outputs": [
    {
     "name": "stdout",
     "output_type": "stream",
     "text": [
      "\n",
      "Training Fold 1...\n",
      "  Epoch 1: val_loss=0.5288, val_accuracy=0.8373\n",
      "  Epoch 2: val_loss=0.4473, val_accuracy=0.8490\n",
      "  Epoch 3: val_loss=0.3607, val_accuracy=0.8719\n",
      "  Epoch 4: val_loss=0.3333, val_accuracy=0.8800\n",
      "  Epoch 5: val_loss=0.3114, val_accuracy=0.8902\n",
      "  Epoch 6: val_loss=0.3091, val_accuracy=0.8904\n",
      "  Epoch 7: val_loss=0.3106, val_accuracy=0.8891\n",
      "  Epoch 8: val_loss=0.2956, val_accuracy=0.8934\n",
      "  Epoch 9: val_loss=0.2648, val_accuracy=0.9022\n",
      "  Epoch 10: val_loss=0.2731, val_accuracy=0.9049\n",
      "Fold 1 Final Accuracy: 90.49%\n",
      "\n",
      "Training Fold 2...\n",
      "  Epoch 1: val_loss=0.4698, val_accuracy=0.8466\n",
      "  Epoch 2: val_loss=0.4211, val_accuracy=0.8597\n",
      "  Epoch 3: val_loss=0.4241, val_accuracy=0.8573\n",
      "  Epoch 4: val_loss=0.3710, val_accuracy=0.8725\n",
      "  Epoch 5: val_loss=0.3230, val_accuracy=0.8827\n",
      "  Epoch 6: val_loss=0.3105, val_accuracy=0.8879\n",
      "  Epoch 7: val_loss=0.3006, val_accuracy=0.8870\n",
      "  Epoch 8: val_loss=0.2779, val_accuracy=0.9002\n",
      "  Epoch 9: val_loss=0.2613, val_accuracy=0.9009\n",
      "  Epoch 10: val_loss=0.2625, val_accuracy=0.9003\n",
      "Fold 2 Final Accuracy: 90.03%\n",
      "\n",
      "Training Fold 3...\n",
      "  Epoch 1: val_loss=0.5543, val_accuracy=0.8345\n",
      "  Epoch 2: val_loss=0.4779, val_accuracy=0.8428\n",
      "  Epoch 3: val_loss=0.3682, val_accuracy=0.8793\n",
      "  Epoch 4: val_loss=0.3531, val_accuracy=0.8794\n",
      "  Epoch 5: val_loss=0.3570, val_accuracy=0.8785\n",
      "  Epoch 6: val_loss=0.3164, val_accuracy=0.8870\n",
      "  Epoch 7: val_loss=0.3227, val_accuracy=0.8823\n",
      "  Epoch 8: val_loss=0.2688, val_accuracy=0.9018\n",
      "  Epoch 9: val_loss=0.2913, val_accuracy=0.8988\n",
      "  Epoch 10: val_loss=0.2735, val_accuracy=0.9005\n",
      "Fold 3 Final Accuracy: 90.05%\n",
      "\n",
      "Training Fold 4...\n",
      "  Epoch 1: val_loss=0.5200, val_accuracy=0.8396\n",
      "  Epoch 2: val_loss=0.4278, val_accuracy=0.8576\n",
      "  Epoch 3: val_loss=0.3981, val_accuracy=0.8676\n",
      "  Epoch 4: val_loss=0.3462, val_accuracy=0.8757\n",
      "  Epoch 5: val_loss=0.3249, val_accuracy=0.8870\n",
      "  Epoch 6: val_loss=0.3220, val_accuracy=0.8858\n",
      "  Epoch 7: val_loss=0.2955, val_accuracy=0.8898\n",
      "  Epoch 8: val_loss=0.2634, val_accuracy=0.9043\n",
      "  Epoch 9: val_loss=0.2631, val_accuracy=0.9037\n",
      "  Epoch 10: val_loss=0.2567, val_accuracy=0.9046\n",
      "Fold 4 Final Accuracy: 90.46%\n",
      "\n",
      "Training Fold 5...\n",
      "  Epoch 1: val_loss=0.5244, val_accuracy=0.8292\n",
      "  Epoch 2: val_loss=0.4132, val_accuracy=0.8569\n",
      "  Epoch 3: val_loss=0.3865, val_accuracy=0.8691\n",
      "  Epoch 4: val_loss=0.3901, val_accuracy=0.8680\n",
      "  Epoch 5: val_loss=0.3516, val_accuracy=0.8772\n",
      "  Epoch 6: val_loss=0.3339, val_accuracy=0.8887\n",
      "  Epoch 7: val_loss=0.3013, val_accuracy=0.8920\n",
      "  Epoch 8: val_loss=0.2673, val_accuracy=0.9054\n",
      "  Epoch 9: val_loss=0.2741, val_accuracy=0.9028\n",
      "  Epoch 10: val_loss=0.2732, val_accuracy=0.9009\n",
      "Fold 5 Final Accuracy: 90.09%\n",
      "\n",
      "Training Fold 6...\n",
      "  Epoch 1: val_loss=0.6247, val_accuracy=0.8149\n",
      "  Epoch 2: val_loss=0.4653, val_accuracy=0.8431\n",
      "  Epoch 3: val_loss=0.4051, val_accuracy=0.8604\n",
      "  Epoch 4: val_loss=0.3743, val_accuracy=0.8685\n",
      "  Epoch 5: val_loss=0.3526, val_accuracy=0.8730\n",
      "  Epoch 6: val_loss=0.3168, val_accuracy=0.8853\n",
      "  Epoch 7: val_loss=0.2942, val_accuracy=0.8964\n",
      "  Epoch 8: val_loss=0.2862, val_accuracy=0.8983\n",
      "  Epoch 9: val_loss=0.2713, val_accuracy=0.9030\n",
      "  Epoch 10: val_loss=0.3107, val_accuracy=0.8905\n",
      "Fold 6 Final Accuracy: 89.05%\n",
      "\n",
      "Training Fold 7...\n",
      "  Epoch 1: val_loss=0.5745, val_accuracy=0.8164\n",
      "  Epoch 2: val_loss=0.4188, val_accuracy=0.8588\n",
      "  Epoch 3: val_loss=0.3945, val_accuracy=0.8603\n",
      "  Epoch 4: val_loss=0.3643, val_accuracy=0.8717\n",
      "  Epoch 5: val_loss=0.3672, val_accuracy=0.8651\n",
      "  Epoch 6: val_loss=0.3057, val_accuracy=0.8892\n",
      "  Epoch 7: val_loss=0.3189, val_accuracy=0.8796\n",
      "  Epoch 8: val_loss=0.2916, val_accuracy=0.8930\n",
      "  Epoch 9: val_loss=0.2673, val_accuracy=0.8979\n",
      "  Epoch 10: val_loss=0.2617, val_accuracy=0.9031\n",
      "Fold 7 Final Accuracy: 90.31%\n",
      "\n",
      "Training Fold 8...\n",
      "  Epoch 1: val_loss=0.5016, val_accuracy=0.8349\n",
      "  Epoch 2: val_loss=0.4700, val_accuracy=0.8525\n",
      "  Epoch 3: val_loss=0.3655, val_accuracy=0.8710\n",
      "  Epoch 4: val_loss=0.3692, val_accuracy=0.8702\n",
      "  Epoch 5: val_loss=0.3191, val_accuracy=0.8894\n",
      "  Epoch 6: val_loss=0.2962, val_accuracy=0.8964\n",
      "  Epoch 7: val_loss=0.2925, val_accuracy=0.8932\n",
      "  Epoch 8: val_loss=0.2867, val_accuracy=0.8967\n",
      "  Epoch 9: val_loss=0.2816, val_accuracy=0.8986\n",
      "  Epoch 10: val_loss=0.2683, val_accuracy=0.9058\n",
      "Fold 8 Final Accuracy: 90.58%\n",
      "\n",
      "Training Fold 9...\n",
      "  Epoch 1: val_loss=0.5614, val_accuracy=0.8251\n",
      "  Epoch 2: val_loss=0.4143, val_accuracy=0.8642\n",
      "  Epoch 3: val_loss=0.3550, val_accuracy=0.8785\n",
      "  Epoch 4: val_loss=0.3984, val_accuracy=0.8657\n",
      "  Epoch 5: val_loss=0.2961, val_accuracy=0.8904\n",
      "  Epoch 6: val_loss=0.3220, val_accuracy=0.8862\n",
      "  Epoch 7: val_loss=0.3100, val_accuracy=0.8849\n",
      "  Epoch 8: val_loss=0.2744, val_accuracy=0.9001\n",
      "  Epoch 9: val_loss=0.3252, val_accuracy=0.8858\n",
      "  Epoch 10: val_loss=0.2584, val_accuracy=0.9058\n",
      "Fold 9 Final Accuracy: 90.58%\n",
      "\n",
      "Training Fold 10...\n",
      "  Epoch 1: val_loss=0.5315, val_accuracy=0.8320\n",
      "  Epoch 2: val_loss=0.4233, val_accuracy=0.8548\n",
      "  Epoch 3: val_loss=0.4963, val_accuracy=0.8467\n",
      "  Epoch 4: val_loss=0.3565, val_accuracy=0.8796\n",
      "  Epoch 5: val_loss=0.3191, val_accuracy=0.8832\n",
      "  Epoch 6: val_loss=0.2951, val_accuracy=0.8951\n",
      "  Epoch 7: val_loss=0.3512, val_accuracy=0.8794\n",
      "  Epoch 8: val_loss=0.5237, val_accuracy=0.8578\n",
      "  Epoch 9: val_loss=0.2775, val_accuracy=0.9018\n",
      "  Epoch 10: val_loss=0.2945, val_accuracy=0.8998\n",
      "Fold 10 Final Accuracy: 89.98%\n"
     ]
    }
   ],
   "execution_count": 7
  },
  {
   "metadata": {
    "ExecuteTime": {
     "end_time": "2024-11-22T18:34:48.863549Z",
     "start_time": "2024-11-22T18:34:48.857384Z"
    }
   },
   "cell_type": "code",
   "source": [
    "print(\"\\nCross-Validation Results:\")\n",
    "print(f\"Mean Accuracy: {np.mean(cv_scores) * 100:.2f}%\")\n",
    "print(f\"Standard Deviation: {np.std(cv_scores) * 100:.2f}%\")"
   ],
   "id": "f86d482c4121295e",
   "outputs": [
    {
     "name": "stdout",
     "output_type": "stream",
     "text": [
      "\n",
      "Cross-Validation Results:\n",
      "Mean Accuracy: 90.16%\n",
      "Standard Deviation: 0.43%\n"
     ]
    }
   ],
   "execution_count": 8
  },
  {
   "metadata": {
    "ExecuteTime": {
     "end_time": "2024-11-22T18:05:42.717499Z",
     "start_time": "2024-11-22T17:47:44.848008Z"
    }
   },
   "cell_type": "code",
   "source": "test_df = df_test = image_processor.process_image_data(\"data/TestData\", image_size)",
   "id": "f58d16224b2cc5b0",
   "outputs": [],
   "execution_count": 7
  },
  {
   "metadata": {
    "ExecuteTime": {
     "end_time": "2024-11-22T18:05:42.718584Z",
     "start_time": "2024-11-22T17:47:52.135219Z"
    }
   },
   "cell_type": "code",
   "source": [
    "X_test = test_df.iloc[:, 1:]\n",
    "X_test_prepared = X_test.values.reshape(-1, *image_size, 1).astype('float32')\n",
    "\n",
    "pred = model.predict(X_test_prepared)\n",
    "predicted_classes = pred.argmax(axis=1)\n",
    "predicted_labels = [df_names[i] for i in predicted_classes]\n",
    "\n",
    "test_df['pred'] = predicted_labels"
   ],
   "id": "ff6d98d31660c75e",
   "outputs": [
    {
     "name": "stdout",
     "output_type": "stream",
     "text": [
      "222/222 [==============================] - 1s 4ms/step\n"
     ]
    }
   ],
   "execution_count": 8
  },
  {
   "metadata": {
    "ExecuteTime": {
     "end_time": "2024-11-22T18:35:12.142591Z",
     "start_time": "2024-11-22T18:35:11.608967Z"
    }
   },
   "cell_type": "code",
   "source": "model.save(\"models/model_9016\")",
   "id": "9f07351edbc8479b",
   "outputs": [
    {
     "name": "stdout",
     "output_type": "stream",
     "text": [
      "INFO:tensorflow:Assets written to: models/model_90:16/assets\n"
     ]
    },
    {
     "name": "stderr",
     "output_type": "stream",
     "text": [
      "INFO:tensorflow:Assets written to: models/model_90:16/assets\n"
     ]
    }
   ],
   "execution_count": 9
  },
  {
   "metadata": {
    "ExecuteTime": {
     "end_time": "2024-11-22T18:05:42.736416Z",
     "start_time": "2024-11-22T17:48:06.106773Z"
    }
   },
   "cell_type": "code",
   "source": [
    "filtered_df = test_df[test_df['pred'] == '9']\n",
    "filtered_df[['label', 'pred']]"
   ],
   "id": "cef6c3abcb6e59f6",
   "outputs": [
    {
     "data": {
      "text/plain": [
       "             label pred\n",
       "33    Test4779.png    9\n",
       "82    Test5117.png    9\n",
       "123   Test5739.png    9\n",
       "159   Test6581.png    9\n",
       "173   Test4157.png    9\n",
       "...            ...  ...\n",
       "6829  Test5906.png    9\n",
       "6835  Test5523.png    9\n",
       "6869  Test5286.png    9\n",
       "6973  Test5052.png    9\n",
       "7097  Test5456.png    9\n",
       "\n",
       "[138 rows x 2 columns]"
      ],
      "text/html": [
       "<div>\n",
       "<style scoped>\n",
       "    .dataframe tbody tr th:only-of-type {\n",
       "        vertical-align: middle;\n",
       "    }\n",
       "\n",
       "    .dataframe tbody tr th {\n",
       "        vertical-align: top;\n",
       "    }\n",
       "\n",
       "    .dataframe thead th {\n",
       "        text-align: right;\n",
       "    }\n",
       "</style>\n",
       "<table border=\"1\" class=\"dataframe\">\n",
       "  <thead>\n",
       "    <tr style=\"text-align: right;\">\n",
       "      <th></th>\n",
       "      <th>label</th>\n",
       "      <th>pred</th>\n",
       "    </tr>\n",
       "  </thead>\n",
       "  <tbody>\n",
       "    <tr>\n",
       "      <th>33</th>\n",
       "      <td>Test4779.png</td>\n",
       "      <td>9</td>\n",
       "    </tr>\n",
       "    <tr>\n",
       "      <th>82</th>\n",
       "      <td>Test5117.png</td>\n",
       "      <td>9</td>\n",
       "    </tr>\n",
       "    <tr>\n",
       "      <th>123</th>\n",
       "      <td>Test5739.png</td>\n",
       "      <td>9</td>\n",
       "    </tr>\n",
       "    <tr>\n",
       "      <th>159</th>\n",
       "      <td>Test6581.png</td>\n",
       "      <td>9</td>\n",
       "    </tr>\n",
       "    <tr>\n",
       "      <th>173</th>\n",
       "      <td>Test4157.png</td>\n",
       "      <td>9</td>\n",
       "    </tr>\n",
       "    <tr>\n",
       "      <th>...</th>\n",
       "      <td>...</td>\n",
       "      <td>...</td>\n",
       "    </tr>\n",
       "    <tr>\n",
       "      <th>6829</th>\n",
       "      <td>Test5906.png</td>\n",
       "      <td>9</td>\n",
       "    </tr>\n",
       "    <tr>\n",
       "      <th>6835</th>\n",
       "      <td>Test5523.png</td>\n",
       "      <td>9</td>\n",
       "    </tr>\n",
       "    <tr>\n",
       "      <th>6869</th>\n",
       "      <td>Test5286.png</td>\n",
       "      <td>9</td>\n",
       "    </tr>\n",
       "    <tr>\n",
       "      <th>6973</th>\n",
       "      <td>Test5052.png</td>\n",
       "      <td>9</td>\n",
       "    </tr>\n",
       "    <tr>\n",
       "      <th>7097</th>\n",
       "      <td>Test5456.png</td>\n",
       "      <td>9</td>\n",
       "    </tr>\n",
       "  </tbody>\n",
       "</table>\n",
       "<p>138 rows × 2 columns</p>\n",
       "</div>"
      ]
     },
     "execution_count": 11,
     "metadata": {},
     "output_type": "execute_result"
    }
   ],
   "execution_count": 11
  },
  {
   "metadata": {
    "ExecuteTime": {
     "end_time": "2024-11-22T18:05:42.753070Z",
     "start_time": "2024-11-22T12:00:45.795247Z"
    }
   },
   "cell_type": "code",
   "source": "",
   "id": "919ff42018284f94",
   "outputs": [],
   "execution_count": null
  }
 ],
 "metadata": {
  "kernelspec": {
   "display_name": "Python 3",
   "language": "python",
   "name": "python3"
  },
  "language_info": {
   "codemirror_mode": {
    "name": "ipython",
    "version": 2
   },
   "file_extension": ".py",
   "mimetype": "text/x-python",
   "name": "python",
   "nbconvert_exporter": "python",
   "pygments_lexer": "ipython2",
   "version": "2.7.6"
  }
 },
 "nbformat": 4,
 "nbformat_minor": 5
}
