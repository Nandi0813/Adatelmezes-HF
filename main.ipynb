{
 "cells": [
  {
   "metadata": {
    "collapsed": true,
    "ExecuteTime": {
     "end_time": "2024-11-22T18:03:11.758899Z",
     "start_time": "2024-11-22T18:03:08.227976Z"
    }
   },
   "cell_type": "code",
   "source": [
    "import os\n",
    "import cv2\n",
    "import numpy as np\n",
    "import pandas as pd\n",
    "\n",
    "import image_processor\n",
    "import model_builder\n",
    "\n",
    "from sklearn.model_selection import StratifiedKFold"
   ],
   "id": "initial_id",
   "outputs": [],
   "execution_count": 1
  },
  {
   "metadata": {
    "ExecuteTime": {
     "end_time": "2024-11-22T18:03:11.763214Z",
     "start_time": "2024-11-22T18:03:11.761653Z"
    }
   },
   "cell_type": "code",
   "source": [
    "image_size = (32, 32)\n",
    "input_size = (*image_size, 1)"
   ],
   "id": "466310eb347c583d",
   "outputs": [],
   "execution_count": 2
  },
  {
   "metadata": {
    "ExecuteTime": {
     "end_time": "2024-11-22T18:03:11.840914Z",
     "start_time": "2024-11-22T18:03:11.838605Z"
    }
   },
   "cell_type": "code",
   "source": [
    "df_names = ['0', '1', '2', '3', '4', '5', '6', '7', '8', '9',\n",
    "            'A', 'B', 'C', 'D', 'E', 'F', 'G', 'H', 'I', 'J', 'K', 'L', 'M',\n",
    "            'N', 'O', 'P', 'Q', 'R', 'S', 'T', 'U', 'V', 'W', 'X', 'Y', 'Z',\n",
    "            'a', 'b', 'c', 'd', 'e', 'f', 'g', 'h', 'i', 'j', 'k', 'l', 'm',\n",
    "            'n', 'o', 'p', 'q', 'r', 's', 't', 'u', 'v', 'w', 'x', 'y', 'z']"
   ],
   "id": "40a0c595e348551a",
   "outputs": [],
   "execution_count": 3
  },
  {
   "metadata": {
    "ExecuteTime": {
     "end_time": "2024-11-22T18:03:38.052194Z",
     "start_time": "2024-11-22T18:03:11.846124Z"
    }
   },
   "cell_type": "code",
   "source": "df_train = image_processor.process_image_data(\"data/Train\", image_size, targets=df_names)",
   "id": "4c0cc5fca29b2aa3",
   "outputs": [],
   "execution_count": 4
  },
  {
   "metadata": {
    "ExecuteTime": {
     "end_time": "2024-11-22T18:03:38.119060Z",
     "start_time": "2024-11-22T18:03:38.072890Z"
    }
   },
   "cell_type": "code",
   "source": [
    "X = df_train.drop(columns=['target'])\n",
    "y = df_train['target']"
   ],
   "id": "9b93d1cc8ab3e463",
   "outputs": [],
   "execution_count": 5
  },
  {
   "metadata": {
    "ExecuteTime": {
     "end_time": "2024-11-22T19:03:32.054638Z",
     "start_time": "2024-11-22T18:36:41.366598Z"
    }
   },
   "cell_type": "code",
   "source": [
    "from tensorflow.python.keras.callbacks import EarlyStopping\n",
    "\n",
    "X_data = X.values.reshape(-1, *image_size, 1).astype('float32')\n",
    "y_data = y.factorize()[0]\n",
    "\n",
    "skf = StratifiedKFold(n_splits=5, shuffle=True, random_state=42)\n",
    "fold = 1\n",
    "cv_scores = []\n",
    "\n",
    "for train_index, test_index in skf.split(X_data, y_data):\n",
    "    print(f\"\\nTraining Fold {fold}...\")\n",
    "\n",
    "    X_train, X_test = X_data[train_index], X_data[test_index]\n",
    "    y_train, y_test = y_data[train_index], y_data[test_index]\n",
    "\n",
    "    model = model_builder.build_conv_pool_model(input_size, len(df_names))\n",
    "    early_stopping = EarlyStopping(monitor='val_loss', patience=5, restore_best_weights=True)\n",
    "    history = model.fit(X_train, y_train,\n",
    "                        epochs=20,\n",
    "                        batch_size=32,\n",
    "                        callbacks=[early_stopping],\n",
    "                        validation_data=(X_test, y_test),\n",
    "                        verbose=0)\n",
    "\n",
    "    for epoch, (val_loss, val_acc) in enumerate(zip(history.history['val_loss'], history.history['val_accuracy']), start=1):\n",
    "        print(f\"  Epoch {epoch}: val_loss={val_loss:.4f}, val_accuracy={val_acc:.4f}\")\n",
    "\n",
    "    score = model.evaluate(X_test, y_test, verbose=0)\n",
    "    print(f\"Fold {fold} Final Accuracy: {score[1] * 100:.2f}%\")\n",
    "    cv_scores.append(score[1])\n",
    "    fold += 1"
   ],
   "id": "391609a726c4763b",
   "outputs": [
    {
     "name": "stdout",
     "output_type": "stream",
     "text": [
      "\n",
      "Training Fold 1...\n",
      "  Epoch 1: val_loss=0.5426, val_accuracy=0.8335\n",
      "  Epoch 2: val_loss=0.4405, val_accuracy=0.8521\n",
      "  Epoch 3: val_loss=0.3907, val_accuracy=0.8638\n",
      "  Epoch 4: val_loss=0.3454, val_accuracy=0.8782\n",
      "  Epoch 5: val_loss=0.3145, val_accuracy=0.8841\n",
      "  Epoch 6: val_loss=0.3145, val_accuracy=0.8866\n",
      "  Epoch 7: val_loss=0.3242, val_accuracy=0.8820\n",
      "  Epoch 8: val_loss=0.2967, val_accuracy=0.8946\n",
      "  Epoch 9: val_loss=0.2791, val_accuracy=0.8998\n",
      "  Epoch 10: val_loss=0.3431, val_accuracy=0.8818\n",
      "  Epoch 11: val_loss=0.2629, val_accuracy=0.9051\n",
      "  Epoch 12: val_loss=0.2663, val_accuracy=0.9036\n",
      "  Epoch 13: val_loss=0.2567, val_accuracy=0.9073\n",
      "  Epoch 14: val_loss=0.2419, val_accuracy=0.9098\n",
      "  Epoch 15: val_loss=0.2689, val_accuracy=0.9058\n",
      "  Epoch 16: val_loss=0.2468, val_accuracy=0.9103\n",
      "  Epoch 17: val_loss=0.2421, val_accuracy=0.9110\n",
      "  Epoch 18: val_loss=0.2375, val_accuracy=0.9132\n",
      "  Epoch 19: val_loss=0.2641, val_accuracy=0.9066\n",
      "  Epoch 20: val_loss=0.2474, val_accuracy=0.9105\n",
      "Fold 1 Final Accuracy: 91.05%\n",
      "\n",
      "Training Fold 2...\n",
      "  Epoch 1: val_loss=0.5580, val_accuracy=0.8325\n",
      "  Epoch 2: val_loss=0.4232, val_accuracy=0.8620\n",
      "  Epoch 3: val_loss=0.4011, val_accuracy=0.8642\n",
      "  Epoch 4: val_loss=0.3988, val_accuracy=0.8592\n",
      "  Epoch 5: val_loss=0.3461, val_accuracy=0.8753\n",
      "  Epoch 6: val_loss=0.3736, val_accuracy=0.8759\n",
      "  Epoch 7: val_loss=0.3538, val_accuracy=0.8751\n",
      "  Epoch 8: val_loss=0.3504, val_accuracy=0.8823\n",
      "  Epoch 9: val_loss=0.2783, val_accuracy=0.8941\n",
      "  Epoch 10: val_loss=0.2844, val_accuracy=0.8977\n",
      "  Epoch 11: val_loss=0.3004, val_accuracy=0.8909\n",
      "  Epoch 12: val_loss=0.3102, val_accuracy=0.8933\n",
      "  Epoch 13: val_loss=0.2789, val_accuracy=0.9000\n",
      "  Epoch 14: val_loss=0.2588, val_accuracy=0.9112\n",
      "  Epoch 15: val_loss=0.2581, val_accuracy=0.9075\n",
      "  Epoch 16: val_loss=0.2577, val_accuracy=0.9074\n",
      "  Epoch 17: val_loss=0.2687, val_accuracy=0.9066\n",
      "  Epoch 18: val_loss=0.2531, val_accuracy=0.9093\n",
      "  Epoch 19: val_loss=0.2570, val_accuracy=0.9097\n",
      "  Epoch 20: val_loss=0.2540, val_accuracy=0.9101\n",
      "Fold 2 Final Accuracy: 91.01%\n",
      "\n",
      "Training Fold 3...\n",
      "  Epoch 1: val_loss=0.5853, val_accuracy=0.8209\n",
      "  Epoch 2: val_loss=0.5087, val_accuracy=0.8420\n",
      "  Epoch 3: val_loss=0.5237, val_accuracy=0.8309\n",
      "  Epoch 4: val_loss=0.3917, val_accuracy=0.8715\n",
      "  Epoch 5: val_loss=0.3412, val_accuracy=0.8769\n",
      "  Epoch 6: val_loss=0.3440, val_accuracy=0.8786\n",
      "  Epoch 7: val_loss=0.3454, val_accuracy=0.8822\n",
      "  Epoch 8: val_loss=0.3212, val_accuracy=0.8907\n",
      "  Epoch 9: val_loss=0.2887, val_accuracy=0.8967\n",
      "  Epoch 10: val_loss=0.3045, val_accuracy=0.8954\n",
      "  Epoch 11: val_loss=0.3013, val_accuracy=0.8928\n",
      "  Epoch 12: val_loss=0.2746, val_accuracy=0.9003\n",
      "  Epoch 13: val_loss=0.2928, val_accuracy=0.9034\n",
      "  Epoch 14: val_loss=0.2788, val_accuracy=0.9044\n",
      "  Epoch 15: val_loss=0.2664, val_accuracy=0.9024\n",
      "  Epoch 16: val_loss=0.2667, val_accuracy=0.9081\n",
      "  Epoch 17: val_loss=0.2480, val_accuracy=0.9151\n",
      "  Epoch 18: val_loss=0.2561, val_accuracy=0.9098\n",
      "  Epoch 19: val_loss=0.2753, val_accuracy=0.9091\n",
      "  Epoch 20: val_loss=0.2692, val_accuracy=0.9072\n",
      "Fold 3 Final Accuracy: 90.72%\n",
      "\n",
      "Training Fold 4...\n",
      "  Epoch 1: val_loss=0.5369, val_accuracy=0.8345\n",
      "  Epoch 2: val_loss=0.4424, val_accuracy=0.8509\n",
      "  Epoch 3: val_loss=0.3735, val_accuracy=0.8736\n",
      "  Epoch 4: val_loss=0.3418, val_accuracy=0.8756\n",
      "  Epoch 5: val_loss=0.3441, val_accuracy=0.8764\n",
      "  Epoch 6: val_loss=0.3071, val_accuracy=0.8880\n",
      "  Epoch 7: val_loss=0.2958, val_accuracy=0.8921\n",
      "  Epoch 8: val_loss=0.2981, val_accuracy=0.8940\n",
      "  Epoch 9: val_loss=0.3248, val_accuracy=0.8870\n",
      "  Epoch 10: val_loss=0.2962, val_accuracy=0.8971\n",
      "  Epoch 11: val_loss=0.2672, val_accuracy=0.9040\n",
      "  Epoch 12: val_loss=0.2490, val_accuracy=0.9073\n",
      "  Epoch 13: val_loss=0.2679, val_accuracy=0.9006\n",
      "  Epoch 14: val_loss=0.2523, val_accuracy=0.9092\n",
      "  Epoch 15: val_loss=0.2407, val_accuracy=0.9094\n",
      "  Epoch 16: val_loss=0.2655, val_accuracy=0.9057\n",
      "  Epoch 17: val_loss=0.2694, val_accuracy=0.9063\n",
      "  Epoch 18: val_loss=0.2595, val_accuracy=0.9081\n",
      "  Epoch 19: val_loss=0.2433, val_accuracy=0.9104\n",
      "  Epoch 20: val_loss=0.2463, val_accuracy=0.9078\n",
      "Fold 4 Final Accuracy: 90.94%\n",
      "\n",
      "Training Fold 5...\n",
      "  Epoch 1: val_loss=0.5859, val_accuracy=0.8197\n",
      "  Epoch 2: val_loss=0.4534, val_accuracy=0.8539\n",
      "  Epoch 3: val_loss=0.3796, val_accuracy=0.8663\n",
      "  Epoch 4: val_loss=0.3504, val_accuracy=0.8731\n",
      "  Epoch 5: val_loss=0.3263, val_accuracy=0.8833\n",
      "  Epoch 6: val_loss=0.3252, val_accuracy=0.8812\n",
      "  Epoch 7: val_loss=0.3147, val_accuracy=0.8846\n",
      "  Epoch 8: val_loss=0.3031, val_accuracy=0.8920\n",
      "  Epoch 9: val_loss=0.2735, val_accuracy=0.8991\n",
      "  Epoch 10: val_loss=0.2813, val_accuracy=0.9005\n",
      "  Epoch 11: val_loss=0.2902, val_accuracy=0.8992\n",
      "  Epoch 12: val_loss=0.2718, val_accuracy=0.8992\n",
      "  Epoch 13: val_loss=0.2697, val_accuracy=0.9014\n",
      "  Epoch 14: val_loss=0.2661, val_accuracy=0.9039\n",
      "  Epoch 15: val_loss=0.2554, val_accuracy=0.9046\n",
      "  Epoch 16: val_loss=0.2468, val_accuracy=0.9103\n",
      "  Epoch 17: val_loss=0.2734, val_accuracy=0.9030\n",
      "  Epoch 18: val_loss=0.2591, val_accuracy=0.9071\n",
      "  Epoch 19: val_loss=0.2457, val_accuracy=0.9100\n",
      "  Epoch 20: val_loss=0.2452, val_accuracy=0.9072\n",
      "Fold 5 Final Accuracy: 90.72%\n"
     ]
    }
   ],
   "execution_count": 10
  },
  {
   "metadata": {
    "ExecuteTime": {
     "end_time": "2024-11-22T19:03:46.382534Z",
     "start_time": "2024-11-22T19:03:46.366725Z"
    }
   },
   "cell_type": "code",
   "source": [
    "print(\"\\nCross-Validation Results:\")\n",
    "print(f\"Mean Accuracy: {np.mean(cv_scores) * 100:.2f}%\")\n",
    "print(f\"Standard Deviation: {np.std(cv_scores) * 100:.2f}%\")"
   ],
   "id": "f86d482c4121295e",
   "outputs": [
    {
     "name": "stdout",
     "output_type": "stream",
     "text": [
      "\n",
      "Cross-Validation Results:\n",
      "Mean Accuracy: 90.89%\n",
      "Standard Deviation: 0.14%\n"
     ]
    }
   ],
   "execution_count": 11
  },
  {
   "metadata": {
    "ExecuteTime": {
     "end_time": "2024-11-22T18:05:42.717499Z",
     "start_time": "2024-11-22T17:47:44.848008Z"
    }
   },
   "cell_type": "code",
   "source": "test_df = df_test = image_processor.process_image_data(\"data/TestData\", image_size)",
   "id": "f58d16224b2cc5b0",
   "outputs": [],
   "execution_count": 7
  },
  {
   "metadata": {
    "ExecuteTime": {
     "end_time": "2024-11-22T18:05:42.718584Z",
     "start_time": "2024-11-22T17:47:52.135219Z"
    }
   },
   "cell_type": "code",
   "source": [
    "X_test = test_df.iloc[:, 1:]\n",
    "X_test_prepared = X_test.values.reshape(-1, *image_size, 1).astype('float32')\n",
    "\n",
    "pred = model.predict(X_test_prepared)\n",
    "predicted_classes = pred.argmax(axis=1)\n",
    "predicted_labels = [df_names[i] for i in predicted_classes]\n",
    "\n",
    "test_df['pred'] = predicted_labels"
   ],
   "id": "ff6d98d31660c75e",
   "outputs": [
    {
     "name": "stdout",
     "output_type": "stream",
     "text": [
      "222/222 [==============================] - 1s 4ms/step\n"
     ]
    }
   ],
   "execution_count": 8
  },
  {
   "metadata": {
    "ExecuteTime": {
     "end_time": "2024-11-22T19:04:15.887108Z",
     "start_time": "2024-11-22T19:04:15.147474Z"
    }
   },
   "cell_type": "code",
   "source": "model.save(\"models/model_9089\")",
   "id": "9f07351edbc8479b",
   "outputs": [
    {
     "name": "stdout",
     "output_type": "stream",
     "text": [
      "INFO:tensorflow:Assets written to: models/model_9089/assets\n"
     ]
    },
    {
     "name": "stderr",
     "output_type": "stream",
     "text": [
      "INFO:tensorflow:Assets written to: models/model_9089/assets\n"
     ]
    }
   ],
   "execution_count": 12
  },
  {
   "metadata": {
    "ExecuteTime": {
     "end_time": "2024-11-22T18:05:42.736416Z",
     "start_time": "2024-11-22T17:48:06.106773Z"
    }
   },
   "cell_type": "code",
   "source": [
    "filtered_df = test_df[test_df['pred'] == '9']\n",
    "filtered_df[['label', 'pred']]"
   ],
   "id": "cef6c3abcb6e59f6",
   "outputs": [
    {
     "data": {
      "text/plain": [
       "             label pred\n",
       "33    Test4779.png    9\n",
       "82    Test5117.png    9\n",
       "123   Test5739.png    9\n",
       "159   Test6581.png    9\n",
       "173   Test4157.png    9\n",
       "...            ...  ...\n",
       "6829  Test5906.png    9\n",
       "6835  Test5523.png    9\n",
       "6869  Test5286.png    9\n",
       "6973  Test5052.png    9\n",
       "7097  Test5456.png    9\n",
       "\n",
       "[138 rows x 2 columns]"
      ],
      "text/html": [
       "<div>\n",
       "<style scoped>\n",
       "    .dataframe tbody tr th:only-of-type {\n",
       "        vertical-align: middle;\n",
       "    }\n",
       "\n",
       "    .dataframe tbody tr th {\n",
       "        vertical-align: top;\n",
       "    }\n",
       "\n",
       "    .dataframe thead th {\n",
       "        text-align: right;\n",
       "    }\n",
       "</style>\n",
       "<table border=\"1\" class=\"dataframe\">\n",
       "  <thead>\n",
       "    <tr style=\"text-align: right;\">\n",
       "      <th></th>\n",
       "      <th>label</th>\n",
       "      <th>pred</th>\n",
       "    </tr>\n",
       "  </thead>\n",
       "  <tbody>\n",
       "    <tr>\n",
       "      <th>33</th>\n",
       "      <td>Test4779.png</td>\n",
       "      <td>9</td>\n",
       "    </tr>\n",
       "    <tr>\n",
       "      <th>82</th>\n",
       "      <td>Test5117.png</td>\n",
       "      <td>9</td>\n",
       "    </tr>\n",
       "    <tr>\n",
       "      <th>123</th>\n",
       "      <td>Test5739.png</td>\n",
       "      <td>9</td>\n",
       "    </tr>\n",
       "    <tr>\n",
       "      <th>159</th>\n",
       "      <td>Test6581.png</td>\n",
       "      <td>9</td>\n",
       "    </tr>\n",
       "    <tr>\n",
       "      <th>173</th>\n",
       "      <td>Test4157.png</td>\n",
       "      <td>9</td>\n",
       "    </tr>\n",
       "    <tr>\n",
       "      <th>...</th>\n",
       "      <td>...</td>\n",
       "      <td>...</td>\n",
       "    </tr>\n",
       "    <tr>\n",
       "      <th>6829</th>\n",
       "      <td>Test5906.png</td>\n",
       "      <td>9</td>\n",
       "    </tr>\n",
       "    <tr>\n",
       "      <th>6835</th>\n",
       "      <td>Test5523.png</td>\n",
       "      <td>9</td>\n",
       "    </tr>\n",
       "    <tr>\n",
       "      <th>6869</th>\n",
       "      <td>Test5286.png</td>\n",
       "      <td>9</td>\n",
       "    </tr>\n",
       "    <tr>\n",
       "      <th>6973</th>\n",
       "      <td>Test5052.png</td>\n",
       "      <td>9</td>\n",
       "    </tr>\n",
       "    <tr>\n",
       "      <th>7097</th>\n",
       "      <td>Test5456.png</td>\n",
       "      <td>9</td>\n",
       "    </tr>\n",
       "  </tbody>\n",
       "</table>\n",
       "<p>138 rows × 2 columns</p>\n",
       "</div>"
      ]
     },
     "execution_count": 11,
     "metadata": {},
     "output_type": "execute_result"
    }
   ],
   "execution_count": 11
  },
  {
   "metadata": {
    "ExecuteTime": {
     "end_time": "2024-11-22T18:05:42.753070Z",
     "start_time": "2024-11-22T12:00:45.795247Z"
    }
   },
   "cell_type": "code",
   "source": "",
   "id": "919ff42018284f94",
   "outputs": [],
   "execution_count": null
  }
 ],
 "metadata": {
  "kernelspec": {
   "display_name": "Python 3",
   "language": "python",
   "name": "python3"
  },
  "language_info": {
   "codemirror_mode": {
    "name": "ipython",
    "version": 2
   },
   "file_extension": ".py",
   "mimetype": "text/x-python",
   "name": "python",
   "nbconvert_exporter": "python",
   "pygments_lexer": "ipython2",
   "version": "2.7.6"
  }
 },
 "nbformat": 4,
 "nbformat_minor": 5
}
