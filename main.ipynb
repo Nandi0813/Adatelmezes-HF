{
 "cells": [
  {
   "metadata": {
    "collapsed": true,
    "ExecuteTime": {
     "end_time": "2024-11-23T06:49:03.575959Z",
     "start_time": "2024-11-23T06:48:55.841711Z"
    }
   },
   "cell_type": "code",
   "source": [
    "import os\n",
    "import cv2\n",
    "import numpy as np\n",
    "import pandas as pd\n",
    "\n",
    "import image_processor\n",
    "import model_builder\n",
    "\n",
    "from tensorflow.python.keras.callbacks import EarlyStopping\n",
    "from sklearn.model_selection import train_test_split"
   ],
   "id": "initial_id",
   "outputs": [],
   "execution_count": 1
  },
  {
   "metadata": {
    "ExecuteTime": {
     "end_time": "2024-11-23T06:49:03.585447Z",
     "start_time": "2024-11-23T06:49:03.583368Z"
    }
   },
   "cell_type": "code",
   "source": [
    "image_size = (32, 32)\n",
    "input_size = (*image_size, 1)"
   ],
   "id": "466310eb347c583d",
   "outputs": [],
   "execution_count": 2
  },
  {
   "metadata": {
    "ExecuteTime": {
     "end_time": "2024-11-23T06:49:03.592132Z",
     "start_time": "2024-11-23T06:49:03.589208Z"
    }
   },
   "cell_type": "code",
   "source": [
    "df_names = ['0', '1', '2', '3', '4', '5', '6', '7', '8', '9',\n",
    "            'A', 'B', 'C', 'D', 'E', 'F', 'G', 'H', 'I', 'J', 'K', 'L', 'M',\n",
    "            'N', 'O', 'P', 'Q', 'R', 'S', 'T', 'U', 'V', 'W', 'X', 'Y', 'Z',\n",
    "            'a', 'b', 'c', 'd', 'e', 'f', 'g', 'h', 'i', 'j', 'k', 'l', 'm',\n",
    "            'n', 'o', 'p', 'q', 'r', 's', 't', 'u', 'v', 'w', 'x', 'y', 'z']"
   ],
   "id": "40a0c595e348551a",
   "outputs": [],
   "execution_count": 3
  },
  {
   "metadata": {
    "ExecuteTime": {
     "end_time": "2024-11-23T06:49:44.224136Z",
     "start_time": "2024-11-23T06:49:03.598018Z"
    }
   },
   "cell_type": "code",
   "source": "df_train = image_processor.process_image_data(\"data/Train\", image_size, targets=df_names)",
   "id": "4c0cc5fca29b2aa3",
   "outputs": [],
   "execution_count": 4
  },
  {
   "metadata": {
    "ExecuteTime": {
     "end_time": "2024-11-23T06:49:44.400951Z",
     "start_time": "2024-11-23T06:49:44.346997Z"
    }
   },
   "cell_type": "code",
   "source": [
    "X = df_train.drop(columns=['target'])\n",
    "y = df_train['target']"
   ],
   "id": "9b93d1cc8ab3e463",
   "outputs": [],
   "execution_count": 5
  },
  {
   "metadata": {
    "ExecuteTime": {
     "end_time": "2024-11-23T06:49:44.448780Z",
     "start_time": "2024-11-23T06:49:44.411779Z"
    }
   },
   "cell_type": "code",
   "source": [
    "X_data = X.values.reshape(-1, *image_size, 1).astype('float32')\n",
    "y_data = y.factorize()[0]"
   ],
   "id": "4a3e461fa809368c",
   "outputs": [],
   "execution_count": 6
  },
  {
   "metadata": {
    "ExecuteTime": {
     "end_time": "2024-11-23T12:19:27.046583Z",
     "start_time": "2024-11-23T12:19:26.681957Z"
    }
   },
   "cell_type": "code",
   "source": "X_train, X_val, y_train, y_val = train_test_split(X_data, y_data, test_size=0.1, stratify=y_data, random_state=42)",
   "id": "7b032609705afe15",
   "outputs": [],
   "execution_count": 18
  },
  {
   "metadata": {
    "ExecuteTime": {
     "end_time": "2024-11-23T12:37:50.963511Z",
     "start_time": "2024-11-23T12:29:20.555694Z"
    }
   },
   "cell_type": "code",
   "source": [
    "model = model_builder.build_conv_pool_model(input_size, len(df_names))\n",
    "\n",
    "early_stopping = EarlyStopping(monitor='val_loss', patience=5, restore_best_weights=True)\n",
    "\n",
    "history = model.fit(X_train, y_train,\n",
    "                    epochs=50,\n",
    "                    batch_size=124,\n",
    "                    callbacks=[early_stopping],\n",
    "                    validation_data=(X_val, y_val),\n",
    "                    verbose=1)"
   ],
   "id": "391609a726c4763b",
   "outputs": [
    {
     "name": "stdout",
     "output_type": "stream",
     "text": [
      "Epoch 1/50\n",
      "748/748 [==============================] - 17s 23ms/step - loss: 1.0761 - accuracy: 0.7278 - val_loss: 0.5065 - val_accuracy: 0.8375\n",
      "Epoch 2/50\n",
      "748/748 [==============================] - 16s 22ms/step - loss: 0.5502 - accuracy: 0.8290 - val_loss: 0.4300 - val_accuracy: 0.8520\n",
      "Epoch 3/50\n",
      "748/748 [==============================] - 16s 22ms/step - loss: 0.4328 - accuracy: 0.8565 - val_loss: 0.3973 - val_accuracy: 0.8667\n",
      "Epoch 4/50\n",
      "748/748 [==============================] - 17s 23ms/step - loss: 0.3817 - accuracy: 0.8672 - val_loss: 0.3336 - val_accuracy: 0.8751\n",
      "Epoch 5/50\n",
      "748/748 [==============================] - 16s 22ms/step - loss: 0.3417 - accuracy: 0.8803 - val_loss: 0.3452 - val_accuracy: 0.8763\n",
      "Epoch 6/50\n",
      "748/748 [==============================] - 16s 21ms/step - loss: 0.3191 - accuracy: 0.8850 - val_loss: 0.3074 - val_accuracy: 0.8917\n",
      "Epoch 7/50\n",
      "748/748 [==============================] - 17s 23ms/step - loss: 0.2985 - accuracy: 0.8931 - val_loss: 0.2850 - val_accuracy: 0.8943\n",
      "Epoch 8/50\n",
      "748/748 [==============================] - 17s 23ms/step - loss: 0.2770 - accuracy: 0.8975 - val_loss: 0.2636 - val_accuracy: 0.9045\n",
      "Epoch 9/50\n",
      "748/748 [==============================] - 17s 23ms/step - loss: 0.2669 - accuracy: 0.9024 - val_loss: 0.2796 - val_accuracy: 0.8926\n",
      "Epoch 10/50\n",
      "748/748 [==============================] - 17s 23ms/step - loss: 0.2540 - accuracy: 0.9063 - val_loss: 0.2648 - val_accuracy: 0.8990\n",
      "Epoch 11/50\n",
      "748/748 [==============================] - 18s 25ms/step - loss: 0.2420 - accuracy: 0.9118 - val_loss: 0.2590 - val_accuracy: 0.9041\n",
      "Epoch 12/50\n",
      "748/748 [==============================] - 18s 24ms/step - loss: 0.2334 - accuracy: 0.9126 - val_loss: 0.2774 - val_accuracy: 0.8977\n",
      "Epoch 13/50\n",
      "748/748 [==============================] - 18s 24ms/step - loss: 0.2261 - accuracy: 0.9156 - val_loss: 0.2505 - val_accuracy: 0.9084\n",
      "Epoch 14/50\n",
      "748/748 [==============================] - 18s 24ms/step - loss: 0.2201 - accuracy: 0.9178 - val_loss: 0.2398 - val_accuracy: 0.9133\n",
      "Epoch 15/50\n",
      "748/748 [==============================] - 18s 24ms/step - loss: 0.2114 - accuracy: 0.9210 - val_loss: 0.2427 - val_accuracy: 0.9096\n",
      "Epoch 16/50\n",
      "748/748 [==============================] - 18s 24ms/step - loss: 0.2048 - accuracy: 0.9226 - val_loss: 0.2483 - val_accuracy: 0.9086\n",
      "Epoch 17/50\n",
      "748/748 [==============================] - 18s 24ms/step - loss: 0.1995 - accuracy: 0.9267 - val_loss: 0.2779 - val_accuracy: 0.9017\n",
      "Epoch 18/50\n",
      "748/748 [==============================] - 18s 24ms/step - loss: 0.1958 - accuracy: 0.9261 - val_loss: 0.2496 - val_accuracy: 0.9062\n",
      "Epoch 19/50\n",
      "748/748 [==============================] - 18s 24ms/step - loss: 0.1903 - accuracy: 0.9284 - val_loss: 0.2366 - val_accuracy: 0.9099\n",
      "Epoch 20/50\n",
      "748/748 [==============================] - 18s 24ms/step - loss: 0.1842 - accuracy: 0.9304 - val_loss: 0.2540 - val_accuracy: 0.9088\n",
      "Epoch 21/50\n",
      "748/748 [==============================] - 18s 24ms/step - loss: 0.1830 - accuracy: 0.9326 - val_loss: 0.2280 - val_accuracy: 0.9141\n",
      "Epoch 22/50\n",
      "748/748 [==============================] - 18s 24ms/step - loss: 0.1753 - accuracy: 0.9345 - val_loss: 0.2669 - val_accuracy: 0.9071\n",
      "Epoch 23/50\n",
      "748/748 [==============================] - 18s 24ms/step - loss: 0.1731 - accuracy: 0.9358 - val_loss: 0.2274 - val_accuracy: 0.9148\n",
      "Epoch 24/50\n",
      "748/748 [==============================] - 18s 24ms/step - loss: 0.1689 - accuracy: 0.9361 - val_loss: 0.2265 - val_accuracy: 0.9152\n",
      "Epoch 25/50\n",
      "748/748 [==============================] - 18s 24ms/step - loss: 0.1639 - accuracy: 0.9371 - val_loss: 0.2289 - val_accuracy: 0.9114\n",
      "Epoch 26/50\n",
      "748/748 [==============================] - 18s 24ms/step - loss: 0.1600 - accuracy: 0.9385 - val_loss: 0.2332 - val_accuracy: 0.9143\n",
      "Epoch 27/50\n",
      "748/748 [==============================] - 18s 24ms/step - loss: 0.1588 - accuracy: 0.9399 - val_loss: 0.2432 - val_accuracy: 0.9122\n",
      "Epoch 28/50\n",
      "748/748 [==============================] - 18s 24ms/step - loss: 0.1570 - accuracy: 0.9409 - val_loss: 0.2357 - val_accuracy: 0.9141\n",
      "Epoch 29/50\n",
      "748/748 [==============================] - 18s 24ms/step - loss: 0.1515 - accuracy: 0.9432 - val_loss: 0.2536 - val_accuracy: 0.9126\n"
     ]
    }
   ],
   "execution_count": 21
  },
  {
   "metadata": {
    "ExecuteTime": {
     "end_time": "2024-11-23T12:37:57.069516Z",
     "start_time": "2024-11-23T12:37:56.048647Z"
    }
   },
   "cell_type": "code",
   "source": [
    "for epoch, (val_loss, val_acc) in enumerate(zip(history.history['val_loss'], history.history['val_accuracy']), start=1):\n",
    "    print(f\"Epoch {epoch}: val_loss={val_loss:.4f}, val_accuracy={val_acc:.4f}\")\n",
    "\n",
    "score = model.evaluate(X_val, y_val, verbose=0)\n",
    "print(f\"Final Validation Accuracy: {score[1] * 100:.2f}%\")\n",
    "# 91.84"
   ],
   "id": "d6d05f1893ba0628",
   "outputs": [
    {
     "name": "stdout",
     "output_type": "stream",
     "text": [
      "Epoch 1: val_loss=0.5065, val_accuracy=0.8375\n",
      "Epoch 2: val_loss=0.4300, val_accuracy=0.8520\n",
      "Epoch 3: val_loss=0.3973, val_accuracy=0.8667\n",
      "Epoch 4: val_loss=0.3336, val_accuracy=0.8751\n",
      "Epoch 5: val_loss=0.3452, val_accuracy=0.8763\n",
      "Epoch 6: val_loss=0.3074, val_accuracy=0.8917\n",
      "Epoch 7: val_loss=0.2850, val_accuracy=0.8943\n",
      "Epoch 8: val_loss=0.2636, val_accuracy=0.9045\n",
      "Epoch 9: val_loss=0.2796, val_accuracy=0.8926\n",
      "Epoch 10: val_loss=0.2648, val_accuracy=0.8990\n",
      "Epoch 11: val_loss=0.2590, val_accuracy=0.9041\n",
      "Epoch 12: val_loss=0.2774, val_accuracy=0.8977\n",
      "Epoch 13: val_loss=0.2505, val_accuracy=0.9084\n",
      "Epoch 14: val_loss=0.2398, val_accuracy=0.9133\n",
      "Epoch 15: val_loss=0.2427, val_accuracy=0.9096\n",
      "Epoch 16: val_loss=0.2483, val_accuracy=0.9086\n",
      "Epoch 17: val_loss=0.2779, val_accuracy=0.9017\n",
      "Epoch 18: val_loss=0.2496, val_accuracy=0.9062\n",
      "Epoch 19: val_loss=0.2366, val_accuracy=0.9099\n",
      "Epoch 20: val_loss=0.2540, val_accuracy=0.9088\n",
      "Epoch 21: val_loss=0.2280, val_accuracy=0.9141\n",
      "Epoch 22: val_loss=0.2669, val_accuracy=0.9071\n",
      "Epoch 23: val_loss=0.2274, val_accuracy=0.9148\n",
      "Epoch 24: val_loss=0.2265, val_accuracy=0.9152\n",
      "Epoch 25: val_loss=0.2289, val_accuracy=0.9114\n",
      "Epoch 26: val_loss=0.2332, val_accuracy=0.9143\n",
      "Epoch 27: val_loss=0.2432, val_accuracy=0.9122\n",
      "Epoch 28: val_loss=0.2357, val_accuracy=0.9141\n",
      "Epoch 29: val_loss=0.2536, val_accuracy=0.9126\n",
      "Final Validation Accuracy: 91.52%\n"
     ]
    }
   ],
   "execution_count": 22
  },
  {
   "metadata": {
    "ExecuteTime": {
     "end_time": "2024-11-23T06:59:43.355530Z",
     "start_time": "2024-11-23T06:59:40.797813Z"
    }
   },
   "cell_type": "code",
   "source": "test_df = df_test = image_processor.process_image_data(\"data/TestData\", image_size)",
   "id": "f58d16224b2cc5b0",
   "outputs": [],
   "execution_count": 10
  },
  {
   "metadata": {
    "ExecuteTime": {
     "end_time": "2024-11-23T06:59:44.476293Z",
     "start_time": "2024-11-23T06:59:43.376460Z"
    }
   },
   "cell_type": "code",
   "source": [
    "X_test = test_df.iloc[:, 1:]\n",
    "X_test_prepared = X_test.values.reshape(-1, *image_size, 1).astype('float32')\n",
    "\n",
    "pred = model.predict(X_test_prepared)\n",
    "predicted_classes = pred.argmax(axis=1)\n",
    "predicted_labels = [df_names[i] for i in predicted_classes]\n",
    "\n",
    "test_df['pred'] = predicted_labels"
   ],
   "id": "ff6d98d31660c75e",
   "outputs": [
    {
     "name": "stdout",
     "output_type": "stream",
     "text": [
      "222/222 [==============================] - 1s 4ms/step\n"
     ]
    }
   ],
   "execution_count": 11
  },
  {
   "metadata": {
    "ExecuteTime": {
     "end_time": "2024-11-23T06:59:45.008846Z",
     "start_time": "2024-11-23T06:59:44.501013Z"
    }
   },
   "cell_type": "code",
   "source": "# model.save(\"models/model_9133\")",
   "id": "9f07351edbc8479b",
   "outputs": [
    {
     "name": "stdout",
     "output_type": "stream",
     "text": [
      "INFO:tensorflow:Assets written to: models/model_9133/assets\n"
     ]
    },
    {
     "name": "stderr",
     "output_type": "stream",
     "text": [
      "INFO:tensorflow:Assets written to: models/model_9133/assets\n"
     ]
    }
   ],
   "execution_count": 12
  },
  {
   "metadata": {
    "ExecuteTime": {
     "end_time": "2024-11-23T07:01:20.645658Z",
     "start_time": "2024-11-23T07:01:20.634998Z"
    }
   },
   "cell_type": "code",
   "source": [
    "filtered_df = test_df[test_df['pred'] == 'r']\n",
    "test_df[['label', 'pred']]"
   ],
   "id": "cef6c3abcb6e59f6",
   "outputs": [
    {
     "data": {
      "text/plain": [
       "             label pred\n",
       "0     Test4751.png    2\n",
       "1     Test2320.png    H\n",
       "2     Test4989.png    N\n",
       "3     Test6146.png    s\n",
       "4     Test1629.png    s\n",
       "...            ...  ...\n",
       "7095  Test2339.png    p\n",
       "7096  Test4990.png    N\n",
       "7097  Test5456.png    9\n",
       "7098  Test4748.png    0\n",
       "7099  Test3027.png    f\n",
       "\n",
       "[7100 rows x 2 columns]"
      ],
      "text/html": [
       "<div>\n",
       "<style scoped>\n",
       "    .dataframe tbody tr th:only-of-type {\n",
       "        vertical-align: middle;\n",
       "    }\n",
       "\n",
       "    .dataframe tbody tr th {\n",
       "        vertical-align: top;\n",
       "    }\n",
       "\n",
       "    .dataframe thead th {\n",
       "        text-align: right;\n",
       "    }\n",
       "</style>\n",
       "<table border=\"1\" class=\"dataframe\">\n",
       "  <thead>\n",
       "    <tr style=\"text-align: right;\">\n",
       "      <th></th>\n",
       "      <th>label</th>\n",
       "      <th>pred</th>\n",
       "    </tr>\n",
       "  </thead>\n",
       "  <tbody>\n",
       "    <tr>\n",
       "      <th>0</th>\n",
       "      <td>Test4751.png</td>\n",
       "      <td>2</td>\n",
       "    </tr>\n",
       "    <tr>\n",
       "      <th>1</th>\n",
       "      <td>Test2320.png</td>\n",
       "      <td>H</td>\n",
       "    </tr>\n",
       "    <tr>\n",
       "      <th>2</th>\n",
       "      <td>Test4989.png</td>\n",
       "      <td>N</td>\n",
       "    </tr>\n",
       "    <tr>\n",
       "      <th>3</th>\n",
       "      <td>Test6146.png</td>\n",
       "      <td>s</td>\n",
       "    </tr>\n",
       "    <tr>\n",
       "      <th>4</th>\n",
       "      <td>Test1629.png</td>\n",
       "      <td>s</td>\n",
       "    </tr>\n",
       "    <tr>\n",
       "      <th>...</th>\n",
       "      <td>...</td>\n",
       "      <td>...</td>\n",
       "    </tr>\n",
       "    <tr>\n",
       "      <th>7095</th>\n",
       "      <td>Test2339.png</td>\n",
       "      <td>p</td>\n",
       "    </tr>\n",
       "    <tr>\n",
       "      <th>7096</th>\n",
       "      <td>Test4990.png</td>\n",
       "      <td>N</td>\n",
       "    </tr>\n",
       "    <tr>\n",
       "      <th>7097</th>\n",
       "      <td>Test5456.png</td>\n",
       "      <td>9</td>\n",
       "    </tr>\n",
       "    <tr>\n",
       "      <th>7098</th>\n",
       "      <td>Test4748.png</td>\n",
       "      <td>0</td>\n",
       "    </tr>\n",
       "    <tr>\n",
       "      <th>7099</th>\n",
       "      <td>Test3027.png</td>\n",
       "      <td>f</td>\n",
       "    </tr>\n",
       "  </tbody>\n",
       "</table>\n",
       "<p>7100 rows × 2 columns</p>\n",
       "</div>"
      ]
     },
     "execution_count": 14,
     "metadata": {},
     "output_type": "execute_result"
    }
   ],
   "execution_count": 14
  },
  {
   "metadata": {
    "ExecuteTime": {
     "end_time": "2024-11-23T06:59:45.104119Z",
     "start_time": "2024-11-23T06:59:45.102785Z"
    }
   },
   "cell_type": "code",
   "source": "",
   "id": "919ff42018284f94",
   "outputs": [],
   "execution_count": null
  }
 ],
 "metadata": {
  "kernelspec": {
   "display_name": "Python 3",
   "language": "python",
   "name": "python3"
  },
  "language_info": {
   "codemirror_mode": {
    "name": "ipython",
    "version": 2
   },
   "file_extension": ".py",
   "mimetype": "text/x-python",
   "name": "python",
   "nbconvert_exporter": "python",
   "pygments_lexer": "ipython2",
   "version": "2.7.6"
  }
 },
 "nbformat": 4,
 "nbformat_minor": 5
}
