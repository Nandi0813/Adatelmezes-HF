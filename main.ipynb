{
 "cells": [
  {
   "metadata": {
    "collapsed": true,
    "ExecuteTime": {
     "end_time": "2024-11-23T20:11:44.294708Z",
     "start_time": "2024-11-23T20:11:39.439022Z"
    }
   },
   "cell_type": "code",
   "source": [
    "import os\n",
    "from random import random\n",
    "\n",
    "import cv2\n",
    "import numpy as np\n",
    "import pandas as pd\n",
    "\n",
    "import image_processor\n",
    "import model_builder\n",
    "\n",
    "from tensorflow.keras.callbacks import EarlyStopping, TensorBoard\n",
    "from sklearn.model_selection import train_test_split\n",
    "\n",
    "from datetime import datetime"
   ],
   "id": "initial_id",
   "outputs": [],
   "execution_count": 1
  },
  {
   "metadata": {
    "ExecuteTime": {
     "end_time": "2024-11-23T20:11:44.300505Z",
     "start_time": "2024-11-23T20:11:44.298775Z"
    }
   },
   "cell_type": "code",
   "source": [
    "image_size = (32, 32)\n",
    "input_size = (*image_size, 1)"
   ],
   "id": "466310eb347c583d",
   "outputs": [],
   "execution_count": 2
  },
  {
   "metadata": {
    "ExecuteTime": {
     "end_time": "2024-11-23T20:11:44.338922Z",
     "start_time": "2024-11-23T20:11:44.336627Z"
    }
   },
   "cell_type": "code",
   "source": [
    "df_names = ['0', '1', '2', '3', '4', '5', '6', '7', '8', '9',\n",
    "            'A', 'B', 'C', 'D', 'E', 'F', 'G', 'H', 'I', 'J', 'K', 'L', 'M',\n",
    "            'N', 'O', 'P', 'Q', 'R', 'S', 'T', 'U', 'V', 'W', 'X', 'Y', 'Z',\n",
    "            'a', 'b', 'c', 'd', 'e', 'f', 'g', 'h', 'i', 'j', 'k', 'l', 'm',\n",
    "            'n', 'o', 'p', 'q', 'r', 's', 't', 'u', 'v', 'w', 'x', 'y', 'z']"
   ],
   "id": "40a0c595e348551a",
   "outputs": [],
   "execution_count": 3
  },
  {
   "metadata": {
    "ExecuteTime": {
     "end_time": "2024-11-23T20:12:19.577499Z",
     "start_time": "2024-11-23T20:11:44.343690Z"
    }
   },
   "cell_type": "code",
   "source": "df_train = image_processor.process_image_data(\"data/Train\", image_size, targets=df_names)",
   "id": "4c0cc5fca29b2aa3",
   "outputs": [],
   "execution_count": 4
  },
  {
   "metadata": {
    "ExecuteTime": {
     "end_time": "2024-11-23T20:12:19.669732Z",
     "start_time": "2024-11-23T20:12:19.608048Z"
    }
   },
   "cell_type": "code",
   "source": [
    "X = df_train.drop(columns=['target'])\n",
    "y = df_train['target']"
   ],
   "id": "9b93d1cc8ab3e463",
   "outputs": [],
   "execution_count": 5
  },
  {
   "metadata": {
    "ExecuteTime": {
     "end_time": "2024-11-23T20:12:19.728815Z",
     "start_time": "2024-11-23T20:12:19.691299Z"
    }
   },
   "cell_type": "code",
   "source": [
    "X_data = X.values.reshape(-1, *image_size, 1).astype('float32')\n",
    "y_data = y.factorize()[0]"
   ],
   "id": "4a3e461fa809368c",
   "outputs": [],
   "execution_count": 6
  },
  {
   "metadata": {
    "ExecuteTime": {
     "end_time": "2024-11-23T20:12:20.048501Z",
     "start_time": "2024-11-23T20:12:19.750624Z"
    }
   },
   "cell_type": "code",
   "source": "X_train, X_val, y_train, y_val = train_test_split(X_data, y_data, test_size=0.1, stratify=y_data, random_state=42)",
   "id": "7b032609705afe15",
   "outputs": [],
   "execution_count": 7
  },
  {
   "metadata": {
    "ExecuteTime": {
     "end_time": "2024-11-23T20:35:31.762114Z",
     "start_time": "2024-11-23T20:23:51.324053Z"
    }
   },
   "cell_type": "code",
   "source": [
    "model = model_builder.build_conv_pool_model(input_size, len(df_names))\n",
    "\n",
    "early_stopping = EarlyStopping(monitor='val_loss', patience=5, restore_best_weights=True)\n",
    "\n",
    "log_dir = \"logs/fit/\" + datetime.now().strftime(\"%Y%m%d-%H%M%S\")\n",
    "tensorboard_callback = TensorBoard(log_dir=log_dir, histogram_freq=1)\n",
    "\n",
    "history = model.fit(X_train, y_train,\n",
    "                    epochs=50,\n",
    "                    batch_size=256,\n",
    "                    callbacks=[early_stopping, tensorboard_callback],\n",
    "                    validation_data=(X_val, y_val),\n",
    "                    verbose=1)"
   ],
   "id": "391609a726c4763b",
   "outputs": [
    {
     "name": "stdout",
     "output_type": "stream",
     "text": [
      "Epoch 1/50\n",
      "187/187 [==============================] - 26s 135ms/step - loss: 1.4036 - accuracy: 0.6247 - val_loss: 4.5518 - val_accuracy: 0.0359\n",
      "Epoch 2/50\n",
      "187/187 [==============================] - 26s 140ms/step - loss: 0.5673 - accuracy: 0.8120 - val_loss: 1.2338 - val_accuracy: 0.6499\n",
      "Epoch 3/50\n",
      "187/187 [==============================] - 29s 154ms/step - loss: 0.4472 - accuracy: 0.8411 - val_loss: 0.3985 - val_accuracy: 0.8535\n",
      "Epoch 4/50\n",
      "187/187 [==============================] - 25s 131ms/step - loss: 0.3720 - accuracy: 0.8602 - val_loss: 0.3083 - val_accuracy: 0.8815\n",
      "Epoch 5/50\n",
      "187/187 [==============================] - 26s 140ms/step - loss: 0.3318 - accuracy: 0.8735 - val_loss: 0.2850 - val_accuracy: 0.8904\n",
      "Epoch 6/50\n",
      "187/187 [==============================] - 24s 126ms/step - loss: 0.2967 - accuracy: 0.8840 - val_loss: 0.3027 - val_accuracy: 0.8798\n",
      "Epoch 7/50\n",
      "187/187 [==============================] - 23s 121ms/step - loss: 0.2735 - accuracy: 0.8900 - val_loss: 0.2459 - val_accuracy: 0.9015\n",
      "Epoch 8/50\n",
      "187/187 [==============================] - 34s 182ms/step - loss: 0.2511 - accuracy: 0.8978 - val_loss: 0.2603 - val_accuracy: 0.8949\n",
      "Epoch 9/50\n",
      "187/187 [==============================] - 29s 154ms/step - loss: 0.2454 - accuracy: 0.9001 - val_loss: 0.2495 - val_accuracy: 0.8998\n",
      "Epoch 10/50\n",
      "187/187 [==============================] - 26s 138ms/step - loss: 0.2252 - accuracy: 0.9088 - val_loss: 0.2305 - val_accuracy: 0.9047\n",
      "Epoch 11/50\n",
      "187/187 [==============================] - 27s 142ms/step - loss: 0.2151 - accuracy: 0.9122 - val_loss: 0.2317 - val_accuracy: 0.9103\n",
      "Epoch 12/50\n",
      "187/187 [==============================] - 58s 311ms/step - loss: 0.2086 - accuracy: 0.9150 - val_loss: 0.2338 - val_accuracy: 0.9118\n",
      "Epoch 13/50\n",
      "187/187 [==============================] - 75s 399ms/step - loss: 0.2010 - accuracy: 0.9174 - val_loss: 0.2576 - val_accuracy: 0.8983\n",
      "Epoch 14/50\n",
      "187/187 [==============================] - 33s 176ms/step - loss: 0.1952 - accuracy: 0.9195 - val_loss: 0.2232 - val_accuracy: 0.9156\n",
      "Epoch 15/50\n",
      "187/187 [==============================] - 45s 243ms/step - loss: 0.1859 - accuracy: 0.9230 - val_loss: 0.2277 - val_accuracy: 0.9103\n",
      "Epoch 16/50\n",
      "187/187 [==============================] - 29s 154ms/step - loss: 0.1786 - accuracy: 0.9272 - val_loss: 0.2402 - val_accuracy: 0.9120\n",
      "Epoch 17/50\n",
      "187/187 [==============================] - 27s 146ms/step - loss: 0.1789 - accuracy: 0.9258 - val_loss: 0.2092 - val_accuracy: 0.9205\n",
      "Epoch 18/50\n",
      "187/187 [==============================] - 28s 150ms/step - loss: 0.1698 - accuracy: 0.9296 - val_loss: 0.2105 - val_accuracy: 0.9173\n",
      "Epoch 19/50\n",
      "187/187 [==============================] - 27s 143ms/step - loss: 0.1643 - accuracy: 0.9334 - val_loss: 0.2511 - val_accuracy: 0.9064\n",
      "Epoch 20/50\n",
      "187/187 [==============================] - 30s 161ms/step - loss: 0.1641 - accuracy: 0.9326 - val_loss: 0.2310 - val_accuracy: 0.9109\n",
      "Epoch 21/50\n",
      "187/187 [==============================] - 26s 142ms/step - loss: 0.1540 - accuracy: 0.9368 - val_loss: 0.2455 - val_accuracy: 0.9103\n",
      "Epoch 22/50\n",
      "187/187 [==============================] - 28s 151ms/step - loss: 0.1521 - accuracy: 0.9368 - val_loss: 0.2133 - val_accuracy: 0.9175\n"
     ]
    }
   ],
   "execution_count": 14
  },
  {
   "metadata": {
    "ExecuteTime": {
     "end_time": "2024-11-23T20:36:14.476506Z",
     "start_time": "2024-11-23T20:36:12.046330Z"
    }
   },
   "cell_type": "code",
   "source": [
    "for epoch, (val_loss, val_acc) in enumerate(zip(history.history['val_loss'], history.history['val_accuracy']), start=1):\n",
    "    print(f\"Epoch {epoch}: val_loss={val_loss:.4f}, val_accuracy={val_acc:.4f}\")\n",
    "\n",
    "score = model.evaluate(X_val, y_val, verbose=0)\n",
    "print(f\"Final Validation Accuracy: {score[1] * 100:.2f}%\")\n",
    "# 91.84"
   ],
   "id": "d6d05f1893ba0628",
   "outputs": [
    {
     "name": "stdout",
     "output_type": "stream",
     "text": [
      "Epoch 1: val_loss=4.5518, val_accuracy=0.0359\n",
      "Epoch 2: val_loss=1.2338, val_accuracy=0.6499\n",
      "Epoch 3: val_loss=0.3985, val_accuracy=0.8535\n",
      "Epoch 4: val_loss=0.3083, val_accuracy=0.8815\n",
      "Epoch 5: val_loss=0.2850, val_accuracy=0.8904\n",
      "Epoch 6: val_loss=0.3027, val_accuracy=0.8798\n",
      "Epoch 7: val_loss=0.2459, val_accuracy=0.9015\n",
      "Epoch 8: val_loss=0.2603, val_accuracy=0.8949\n",
      "Epoch 9: val_loss=0.2495, val_accuracy=0.8998\n",
      "Epoch 10: val_loss=0.2305, val_accuracy=0.9047\n",
      "Epoch 11: val_loss=0.2317, val_accuracy=0.9103\n",
      "Epoch 12: val_loss=0.2338, val_accuracy=0.9118\n",
      "Epoch 13: val_loss=0.2576, val_accuracy=0.8983\n",
      "Epoch 14: val_loss=0.2232, val_accuracy=0.9156\n",
      "Epoch 15: val_loss=0.2277, val_accuracy=0.9103\n",
      "Epoch 16: val_loss=0.2402, val_accuracy=0.9120\n",
      "Epoch 17: val_loss=0.2092, val_accuracy=0.9205\n",
      "Epoch 18: val_loss=0.2105, val_accuracy=0.9173\n",
      "Epoch 19: val_loss=0.2511, val_accuracy=0.9064\n",
      "Epoch 20: val_loss=0.2310, val_accuracy=0.9109\n",
      "Epoch 21: val_loss=0.2455, val_accuracy=0.9103\n",
      "Epoch 22: val_loss=0.2133, val_accuracy=0.9175\n",
      "Final Validation Accuracy: 92.05%\n"
     ]
    }
   ],
   "execution_count": 15
  },
  {
   "metadata": {
    "ExecuteTime": {
     "end_time": "2024-11-23T20:21:57.294145Z",
     "start_time": "2024-11-23T20:21:53.937758Z"
    }
   },
   "cell_type": "code",
   "source": "test_df = df_test = image_processor.process_image_data(\"data/TestData\", image_size)",
   "id": "f58d16224b2cc5b0",
   "outputs": [],
   "execution_count": 10
  },
  {
   "metadata": {
    "ExecuteTime": {
     "end_time": "2024-11-23T20:21:58.976117Z",
     "start_time": "2024-11-23T20:21:57.333074Z"
    }
   },
   "cell_type": "code",
   "source": [
    "X_test = test_df.iloc[:, 1:]\n",
    "X_test_prepared = X_test.values.reshape(-1, *image_size, 1).astype('float32')\n",
    "\n",
    "pred = model.predict(X_test_prepared)\n",
    "predicted_classes = pred.argmax(axis=1)\n",
    "predicted_labels = [df_names[i] for i in predicted_classes]\n",
    "\n",
    "test_df['pred'] = predicted_labels"
   ],
   "id": "ff6d98d31660c75e",
   "outputs": [
    {
     "name": "stdout",
     "output_type": "stream",
     "text": [
      "222/222 [==============================] - 2s 7ms/step\n"
     ]
    }
   ],
   "execution_count": 11
  },
  {
   "metadata": {
    "ExecuteTime": {
     "end_time": "2024-11-23T20:37:23.287534Z",
     "start_time": "2024-11-23T20:37:21.892955Z"
    }
   },
   "cell_type": "code",
   "source": "model.save(\"models/model_92_05\")",
   "id": "9f07351edbc8479b",
   "outputs": [
    {
     "name": "stdout",
     "output_type": "stream",
     "text": [
      "INFO:tensorflow:Assets written to: models/model_92_05/assets\n"
     ]
    },
    {
     "name": "stderr",
     "output_type": "stream",
     "text": [
      "INFO:tensorflow:Assets written to: models/model_92_05/assets\n"
     ]
    }
   ],
   "execution_count": 16
  },
  {
   "metadata": {
    "ExecuteTime": {
     "end_time": "2024-11-23T20:21:59.112390Z",
     "start_time": "2024-11-23T20:21:59.097079Z"
    }
   },
   "cell_type": "code",
   "source": [
    "filtered_df = test_df[test_df['pred'] == 'r']\n",
    "test_df[['label', 'pred']]"
   ],
   "id": "cef6c3abcb6e59f6",
   "outputs": [
    {
     "data": {
      "text/plain": [
       "             label pred\n",
       "0     Test4751.png    2\n",
       "1     Test2320.png    k\n",
       "2     Test4989.png    N\n",
       "3     Test6146.png    s\n",
       "4     Test1629.png    s\n",
       "...            ...  ...\n",
       "7095  Test2339.png    P\n",
       "7096  Test4990.png    N\n",
       "7097  Test5456.png    9\n",
       "7098  Test4748.png    0\n",
       "7099  Test3027.png    f\n",
       "\n",
       "[7100 rows x 2 columns]"
      ],
      "text/html": [
       "<div>\n",
       "<style scoped>\n",
       "    .dataframe tbody tr th:only-of-type {\n",
       "        vertical-align: middle;\n",
       "    }\n",
       "\n",
       "    .dataframe tbody tr th {\n",
       "        vertical-align: top;\n",
       "    }\n",
       "\n",
       "    .dataframe thead th {\n",
       "        text-align: right;\n",
       "    }\n",
       "</style>\n",
       "<table border=\"1\" class=\"dataframe\">\n",
       "  <thead>\n",
       "    <tr style=\"text-align: right;\">\n",
       "      <th></th>\n",
       "      <th>label</th>\n",
       "      <th>pred</th>\n",
       "    </tr>\n",
       "  </thead>\n",
       "  <tbody>\n",
       "    <tr>\n",
       "      <th>0</th>\n",
       "      <td>Test4751.png</td>\n",
       "      <td>2</td>\n",
       "    </tr>\n",
       "    <tr>\n",
       "      <th>1</th>\n",
       "      <td>Test2320.png</td>\n",
       "      <td>k</td>\n",
       "    </tr>\n",
       "    <tr>\n",
       "      <th>2</th>\n",
       "      <td>Test4989.png</td>\n",
       "      <td>N</td>\n",
       "    </tr>\n",
       "    <tr>\n",
       "      <th>3</th>\n",
       "      <td>Test6146.png</td>\n",
       "      <td>s</td>\n",
       "    </tr>\n",
       "    <tr>\n",
       "      <th>4</th>\n",
       "      <td>Test1629.png</td>\n",
       "      <td>s</td>\n",
       "    </tr>\n",
       "    <tr>\n",
       "      <th>...</th>\n",
       "      <td>...</td>\n",
       "      <td>...</td>\n",
       "    </tr>\n",
       "    <tr>\n",
       "      <th>7095</th>\n",
       "      <td>Test2339.png</td>\n",
       "      <td>P</td>\n",
       "    </tr>\n",
       "    <tr>\n",
       "      <th>7096</th>\n",
       "      <td>Test4990.png</td>\n",
       "      <td>N</td>\n",
       "    </tr>\n",
       "    <tr>\n",
       "      <th>7097</th>\n",
       "      <td>Test5456.png</td>\n",
       "      <td>9</td>\n",
       "    </tr>\n",
       "    <tr>\n",
       "      <th>7098</th>\n",
       "      <td>Test4748.png</td>\n",
       "      <td>0</td>\n",
       "    </tr>\n",
       "    <tr>\n",
       "      <th>7099</th>\n",
       "      <td>Test3027.png</td>\n",
       "      <td>f</td>\n",
       "    </tr>\n",
       "  </tbody>\n",
       "</table>\n",
       "<p>7100 rows × 2 columns</p>\n",
       "</div>"
      ]
     },
     "execution_count": 13,
     "metadata": {},
     "output_type": "execute_result"
    }
   ],
   "execution_count": 13
  },
  {
   "metadata": {
    "ExecuteTime": {
     "end_time": "2024-11-23T20:21:59.142842Z",
     "start_time": "2024-11-23T20:21:59.141476Z"
    }
   },
   "cell_type": "code",
   "source": "",
   "id": "919ff42018284f94",
   "outputs": [],
   "execution_count": null
  }
 ],
 "metadata": {
  "kernelspec": {
   "display_name": "Python 3",
   "language": "python",
   "name": "python3"
  },
  "language_info": {
   "codemirror_mode": {
    "name": "ipython",
    "version": 2
   },
   "file_extension": ".py",
   "mimetype": "text/x-python",
   "name": "python",
   "nbconvert_exporter": "python",
   "pygments_lexer": "ipython2",
   "version": "2.7.6"
  }
 },
 "nbformat": 4,
 "nbformat_minor": 5
}
