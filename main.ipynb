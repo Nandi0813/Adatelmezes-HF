{
 "cells": [
  {
   "metadata": {
    "collapsed": true,
    "ExecuteTime": {
     "end_time": "2024-11-22T20:32:33.032382Z",
     "start_time": "2024-11-22T20:32:33.015145Z"
    }
   },
   "cell_type": "code",
   "source": [
    "import os\n",
    "import cv2\n",
    "import numpy as np\n",
    "import pandas as pd\n",
    "\n",
    "import image_processor\n",
    "import model_builder\n",
    "\n",
    "from tensorflow.python.keras.callbacks import EarlyStopping\n",
    "from sklearn.model_selection import train_test_split"
   ],
   "id": "initial_id",
   "outputs": [],
   "execution_count": 25
  },
  {
   "metadata": {
    "ExecuteTime": {
     "end_time": "2024-11-22T20:32:33.099335Z",
     "start_time": "2024-11-22T20:32:33.096210Z"
    }
   },
   "cell_type": "code",
   "source": [
    "image_size = (32, 32)\n",
    "input_size = (*image_size, 1)"
   ],
   "id": "466310eb347c583d",
   "outputs": [],
   "execution_count": 26
  },
  {
   "metadata": {
    "ExecuteTime": {
     "end_time": "2024-11-22T20:32:33.108182Z",
     "start_time": "2024-11-22T20:32:33.105296Z"
    }
   },
   "cell_type": "code",
   "source": [
    "df_names = ['0', '1', '2', '3', '4', '5', '6', '7', '8', '9',\n",
    "            'A', 'B', 'C', 'D', 'E', 'F', 'G', 'H', 'I', 'J', 'K', 'L', 'M',\n",
    "            'N', 'O', 'P', 'Q', 'R', 'S', 'T', 'U', 'V', 'W', 'X', 'Y', 'Z',\n",
    "            'a', 'b', 'c', 'd', 'e', 'f', 'g', 'h', 'i', 'j', 'k', 'l', 'm',\n",
    "            'n', 'o', 'p', 'q', 'r', 's', 't', 'u', 'v', 'w', 'x', 'y', 'z']"
   ],
   "id": "40a0c595e348551a",
   "outputs": [],
   "execution_count": 27
  },
  {
   "metadata": {
    "ExecuteTime": {
     "end_time": "2024-11-22T20:33:03.120834Z",
     "start_time": "2024-11-22T20:32:33.140615Z"
    }
   },
   "cell_type": "code",
   "source": "df_train = image_processor.process_image_data(\"data/Train\", image_size, targets=df_names)",
   "id": "4c0cc5fca29b2aa3",
   "outputs": [],
   "execution_count": 28
  },
  {
   "metadata": {
    "ExecuteTime": {
     "end_time": "2024-11-22T20:33:03.235503Z",
     "start_time": "2024-11-22T20:33:03.176008Z"
    }
   },
   "cell_type": "code",
   "source": [
    "X = df_train.drop(columns=['target'])\n",
    "y = df_train['target']"
   ],
   "id": "9b93d1cc8ab3e463",
   "outputs": [],
   "execution_count": 29
  },
  {
   "metadata": {
    "ExecuteTime": {
     "end_time": "2024-11-22T20:33:03.277519Z",
     "start_time": "2024-11-22T20:33:03.238335Z"
    }
   },
   "cell_type": "code",
   "source": [
    "X_data = X.values.reshape(-1, *image_size, 1).astype('float32')\n",
    "y_data = y.factorize()[0]"
   ],
   "id": "4a3e461fa809368c",
   "outputs": [],
   "execution_count": 30
  },
  {
   "metadata": {
    "ExecuteTime": {
     "end_time": "2024-11-22T20:33:03.576085Z",
     "start_time": "2024-11-22T20:33:03.301387Z"
    }
   },
   "cell_type": "code",
   "source": "X_train, X_val, y_train, y_val = train_test_split(X_data, y_data, test_size=0.2, stratify=y_data, random_state=42)",
   "id": "7b032609705afe15",
   "outputs": [],
   "execution_count": 31
  },
  {
   "metadata": {
    "ExecuteTime": {
     "end_time": "2024-11-22T20:41:02.973610Z",
     "start_time": "2024-11-22T20:33:03.602472Z"
    }
   },
   "cell_type": "code",
   "source": [
    "model = model_builder.build_conv_pool_model(input_size, len(df_names))\n",
    "\n",
    "early_stopping = EarlyStopping(monitor='val_loss', patience=5, restore_best_weights=True)\n",
    "\n",
    "history = model.fit(X_train, y_train,\n",
    "                    epochs=50,\n",
    "                    batch_size=64,\n",
    "                    callbacks=[early_stopping],\n",
    "                    validation_data=(X_val, y_val),\n",
    "                    verbose=1)"
   ],
   "id": "391609a726c4763b",
   "outputs": [
    {
     "name": "stdout",
     "output_type": "stream",
     "text": [
      "Epoch 1/50\n",
      "665/665 [==============================] - 16s 24ms/step - loss: 1.1316 - accuracy: 0.7158 - val_loss: 0.5404 - val_accuracy: 0.8288\n",
      "Epoch 2/50\n",
      "665/665 [==============================] - 16s 24ms/step - loss: 0.5814 - accuracy: 0.8211 - val_loss: 0.4456 - val_accuracy: 0.8567\n",
      "Epoch 3/50\n",
      "665/665 [==============================] - 16s 24ms/step - loss: 0.4508 - accuracy: 0.8498 - val_loss: 0.4222 - val_accuracy: 0.8565\n",
      "Epoch 4/50\n",
      "665/665 [==============================] - 15s 22ms/step - loss: 0.3907 - accuracy: 0.8665 - val_loss: 0.3332 - val_accuracy: 0.8828\n",
      "Epoch 5/50\n",
      "665/665 [==============================] - 15s 22ms/step - loss: 0.3548 - accuracy: 0.8751 - val_loss: 0.3743 - val_accuracy: 0.8760\n",
      "Epoch 6/50\n",
      "665/665 [==============================] - 15s 22ms/step - loss: 0.3308 - accuracy: 0.8819 - val_loss: 0.3350 - val_accuracy: 0.8848\n",
      "Epoch 7/50\n",
      "665/665 [==============================] - 15s 22ms/step - loss: 0.3080 - accuracy: 0.8898 - val_loss: 0.3200 - val_accuracy: 0.8869\n",
      "Epoch 8/50\n",
      "665/665 [==============================] - 15s 23ms/step - loss: 0.2827 - accuracy: 0.8974 - val_loss: 0.3416 - val_accuracy: 0.8842\n",
      "Epoch 9/50\n",
      "665/665 [==============================] - 16s 23ms/step - loss: 0.2743 - accuracy: 0.8996 - val_loss: 0.3177 - val_accuracy: 0.8874\n",
      "Epoch 10/50\n",
      "665/665 [==============================] - 16s 25ms/step - loss: 0.2624 - accuracy: 0.9046 - val_loss: 0.2712 - val_accuracy: 0.9033\n",
      "Epoch 11/50\n",
      "665/665 [==============================] - 17s 25ms/step - loss: 0.2494 - accuracy: 0.9079 - val_loss: 0.3096 - val_accuracy: 0.8974\n",
      "Epoch 12/50\n",
      "665/665 [==============================] - 17s 26ms/step - loss: 0.2419 - accuracy: 0.9111 - val_loss: 0.2778 - val_accuracy: 0.9029\n",
      "Epoch 13/50\n",
      "665/665 [==============================] - 17s 26ms/step - loss: 0.2292 - accuracy: 0.9142 - val_loss: 0.2637 - val_accuracy: 0.9093\n",
      "Epoch 14/50\n",
      "665/665 [==============================] - 17s 25ms/step - loss: 0.2225 - accuracy: 0.9181 - val_loss: 0.2776 - val_accuracy: 0.9007\n",
      "Epoch 15/50\n",
      "665/665 [==============================] - 17s 25ms/step - loss: 0.2153 - accuracy: 0.9207 - val_loss: 0.2818 - val_accuracy: 0.9000\n",
      "Epoch 16/50\n",
      "665/665 [==============================] - 17s 25ms/step - loss: 0.2088 - accuracy: 0.9230 - val_loss: 0.2737 - val_accuracy: 0.9031\n",
      "Epoch 17/50\n",
      "665/665 [==============================] - 17s 25ms/step - loss: 0.2043 - accuracy: 0.9239 - val_loss: 0.2814 - val_accuracy: 0.9052\n",
      "Epoch 18/50\n",
      "665/665 [==============================] - 17s 25ms/step - loss: 0.1938 - accuracy: 0.9267 - val_loss: 0.2580 - val_accuracy: 0.9111\n",
      "Epoch 19/50\n",
      "665/665 [==============================] - 16s 25ms/step - loss: 0.1937 - accuracy: 0.9278 - val_loss: 0.2716 - val_accuracy: 0.9067\n",
      "Epoch 20/50\n",
      "665/665 [==============================] - 17s 25ms/step - loss: 0.1881 - accuracy: 0.9295 - val_loss: 0.2872 - val_accuracy: 0.9045\n",
      "Epoch 21/50\n",
      "665/665 [==============================] - 17s 25ms/step - loss: 0.1817 - accuracy: 0.9333 - val_loss: 0.2724 - val_accuracy: 0.9083\n",
      "Epoch 22/50\n",
      "665/665 [==============================] - 18s 26ms/step - loss: 0.1775 - accuracy: 0.9341 - val_loss: 0.2623 - val_accuracy: 0.9077\n",
      "Epoch 23/50\n",
      "665/665 [==============================] - 24s 36ms/step - loss: 0.1732 - accuracy: 0.9352 - val_loss: 0.2535 - val_accuracy: 0.9150\n",
      "Epoch 24/50\n",
      "665/665 [==============================] - 16s 25ms/step - loss: 0.1687 - accuracy: 0.9366 - val_loss: 0.2521 - val_accuracy: 0.9133\n",
      "Epoch 25/50\n",
      "665/665 [==============================] - 14s 21ms/step - loss: 0.1643 - accuracy: 0.9382 - val_loss: 0.2624 - val_accuracy: 0.9105\n",
      "Epoch 26/50\n",
      "665/665 [==============================] - 14s 22ms/step - loss: 0.1659 - accuracy: 0.9379 - val_loss: 0.2574 - val_accuracy: 0.9114\n",
      "Epoch 27/50\n",
      "665/665 [==============================] - 15s 23ms/step - loss: 0.1611 - accuracy: 0.9392 - val_loss: 0.2851 - val_accuracy: 0.9063\n",
      "Epoch 28/50\n",
      "665/665 [==============================] - 18s 27ms/step - loss: 0.1619 - accuracy: 0.9401 - val_loss: 0.2651 - val_accuracy: 0.9090\n",
      "Epoch 29/50\n",
      "665/665 [==============================] - 20s 30ms/step - loss: 0.1576 - accuracy: 0.9394 - val_loss: 0.2546 - val_accuracy: 0.9135\n"
     ]
    }
   ],
   "execution_count": 32
  },
  {
   "metadata": {
    "ExecuteTime": {
     "end_time": "2024-11-22T20:41:04.535832Z",
     "start_time": "2024-11-22T20:41:03.062090Z"
    }
   },
   "cell_type": "code",
   "source": [
    "for epoch, (val_loss, val_acc) in enumerate(zip(history.history['val_loss'], history.history['val_accuracy']), start=1):\n",
    "    print(f\"Epoch {epoch}: val_loss={val_loss:.4f}, val_accuracy={val_acc:.4f}\")\n",
    "\n",
    "score = model.evaluate(X_val, y_val, verbose=0)\n",
    "print(f\"Final Validation Accuracy: {score[1] * 100:.2f}%\")"
   ],
   "id": "d6d05f1893ba0628",
   "outputs": [
    {
     "name": "stdout",
     "output_type": "stream",
     "text": [
      "Epoch 1: val_loss=0.5404, val_accuracy=0.8288\n",
      "Epoch 2: val_loss=0.4456, val_accuracy=0.8567\n",
      "Epoch 3: val_loss=0.4222, val_accuracy=0.8565\n",
      "Epoch 4: val_loss=0.3332, val_accuracy=0.8828\n",
      "Epoch 5: val_loss=0.3743, val_accuracy=0.8760\n",
      "Epoch 6: val_loss=0.3350, val_accuracy=0.8848\n",
      "Epoch 7: val_loss=0.3200, val_accuracy=0.8869\n",
      "Epoch 8: val_loss=0.3416, val_accuracy=0.8842\n",
      "Epoch 9: val_loss=0.3177, val_accuracy=0.8874\n",
      "Epoch 10: val_loss=0.2712, val_accuracy=0.9033\n",
      "Epoch 11: val_loss=0.3096, val_accuracy=0.8974\n",
      "Epoch 12: val_loss=0.2778, val_accuracy=0.9029\n",
      "Epoch 13: val_loss=0.2637, val_accuracy=0.9093\n",
      "Epoch 14: val_loss=0.2776, val_accuracy=0.9007\n",
      "Epoch 15: val_loss=0.2818, val_accuracy=0.9000\n",
      "Epoch 16: val_loss=0.2737, val_accuracy=0.9031\n",
      "Epoch 17: val_loss=0.2814, val_accuracy=0.9052\n",
      "Epoch 18: val_loss=0.2580, val_accuracy=0.9111\n",
      "Epoch 19: val_loss=0.2716, val_accuracy=0.9067\n",
      "Epoch 20: val_loss=0.2872, val_accuracy=0.9045\n",
      "Epoch 21: val_loss=0.2724, val_accuracy=0.9083\n",
      "Epoch 22: val_loss=0.2623, val_accuracy=0.9077\n",
      "Epoch 23: val_loss=0.2535, val_accuracy=0.9150\n",
      "Epoch 24: val_loss=0.2521, val_accuracy=0.9133\n",
      "Epoch 25: val_loss=0.2624, val_accuracy=0.9105\n",
      "Epoch 26: val_loss=0.2574, val_accuracy=0.9114\n",
      "Epoch 27: val_loss=0.2851, val_accuracy=0.9063\n",
      "Epoch 28: val_loss=0.2651, val_accuracy=0.9090\n",
      "Epoch 29: val_loss=0.2546, val_accuracy=0.9135\n",
      "Final Validation Accuracy: 91.33%\n"
     ]
    }
   ],
   "execution_count": 33
  },
  {
   "metadata": {
    "ExecuteTime": {
     "end_time": "2024-11-22T20:41:07.415700Z",
     "start_time": "2024-11-22T20:41:04.538735Z"
    }
   },
   "cell_type": "code",
   "source": "test_df = df_test = image_processor.process_image_data(\"data/TestData\", image_size)",
   "id": "f58d16224b2cc5b0",
   "outputs": [],
   "execution_count": 34
  },
  {
   "metadata": {
    "ExecuteTime": {
     "end_time": "2024-11-22T20:41:08.463755Z",
     "start_time": "2024-11-22T20:41:07.443054Z"
    }
   },
   "cell_type": "code",
   "source": [
    "X_test = test_df.iloc[:, 1:]\n",
    "X_test_prepared = X_test.values.reshape(-1, *image_size, 1).astype('float32')\n",
    "\n",
    "pred = model.predict(X_test_prepared)\n",
    "predicted_classes = pred.argmax(axis=1)\n",
    "predicted_labels = [df_names[i] for i in predicted_classes]\n",
    "\n",
    "test_df['pred'] = predicted_labels"
   ],
   "id": "ff6d98d31660c75e",
   "outputs": [
    {
     "name": "stdout",
     "output_type": "stream",
     "text": [
      "222/222 [==============================] - 1s 4ms/step\n"
     ]
    }
   ],
   "execution_count": 35
  },
  {
   "metadata": {
    "ExecuteTime": {
     "end_time": "2024-11-22T20:50:27.822976Z",
     "start_time": "2024-11-22T20:50:27.351817Z"
    }
   },
   "cell_type": "code",
   "source": "model.save(\"models/model_9133\")",
   "id": "9f07351edbc8479b",
   "outputs": [
    {
     "name": "stdout",
     "output_type": "stream",
     "text": [
      "INFO:tensorflow:Assets written to: models/model_9133/assets\n"
     ]
    },
    {
     "name": "stderr",
     "output_type": "stream",
     "text": [
      "INFO:tensorflow:Assets written to: models/model_9133/assets\n"
     ]
    }
   ],
   "execution_count": 38
  },
  {
   "metadata": {
    "ExecuteTime": {
     "end_time": "2024-11-22T20:41:08.566270Z",
     "start_time": "2024-11-22T20:41:08.557700Z"
    }
   },
   "cell_type": "code",
   "source": [
    "filtered_df = test_df[test_df['pred'] == 'r']\n",
    "filtered_df[['label', 'pred']]"
   ],
   "id": "cef6c3abcb6e59f6",
   "outputs": [
    {
     "data": {
      "text/plain": [
       "             label pred\n",
       "34    Test3016.png    r\n",
       "45    Test0286.png    r\n",
       "50    Test1826.png    r\n",
       "179   Test0331.png    r\n",
       "200   Test3162.png    r\n",
       "...            ...  ...\n",
       "6027  Test0306.png    r\n",
       "6398  Test1020.png    r\n",
       "6415  Test0464.png    r\n",
       "6514  Test1592.png    r\n",
       "6598  Test3540.png    r\n",
       "\n",
       "[61 rows x 2 columns]"
      ],
      "text/html": [
       "<div>\n",
       "<style scoped>\n",
       "    .dataframe tbody tr th:only-of-type {\n",
       "        vertical-align: middle;\n",
       "    }\n",
       "\n",
       "    .dataframe tbody tr th {\n",
       "        vertical-align: top;\n",
       "    }\n",
       "\n",
       "    .dataframe thead th {\n",
       "        text-align: right;\n",
       "    }\n",
       "</style>\n",
       "<table border=\"1\" class=\"dataframe\">\n",
       "  <thead>\n",
       "    <tr style=\"text-align: right;\">\n",
       "      <th></th>\n",
       "      <th>label</th>\n",
       "      <th>pred</th>\n",
       "    </tr>\n",
       "  </thead>\n",
       "  <tbody>\n",
       "    <tr>\n",
       "      <th>34</th>\n",
       "      <td>Test3016.png</td>\n",
       "      <td>r</td>\n",
       "    </tr>\n",
       "    <tr>\n",
       "      <th>45</th>\n",
       "      <td>Test0286.png</td>\n",
       "      <td>r</td>\n",
       "    </tr>\n",
       "    <tr>\n",
       "      <th>50</th>\n",
       "      <td>Test1826.png</td>\n",
       "      <td>r</td>\n",
       "    </tr>\n",
       "    <tr>\n",
       "      <th>179</th>\n",
       "      <td>Test0331.png</td>\n",
       "      <td>r</td>\n",
       "    </tr>\n",
       "    <tr>\n",
       "      <th>200</th>\n",
       "      <td>Test3162.png</td>\n",
       "      <td>r</td>\n",
       "    </tr>\n",
       "    <tr>\n",
       "      <th>...</th>\n",
       "      <td>...</td>\n",
       "      <td>...</td>\n",
       "    </tr>\n",
       "    <tr>\n",
       "      <th>6027</th>\n",
       "      <td>Test0306.png</td>\n",
       "      <td>r</td>\n",
       "    </tr>\n",
       "    <tr>\n",
       "      <th>6398</th>\n",
       "      <td>Test1020.png</td>\n",
       "      <td>r</td>\n",
       "    </tr>\n",
       "    <tr>\n",
       "      <th>6415</th>\n",
       "      <td>Test0464.png</td>\n",
       "      <td>r</td>\n",
       "    </tr>\n",
       "    <tr>\n",
       "      <th>6514</th>\n",
       "      <td>Test1592.png</td>\n",
       "      <td>r</td>\n",
       "    </tr>\n",
       "    <tr>\n",
       "      <th>6598</th>\n",
       "      <td>Test3540.png</td>\n",
       "      <td>r</td>\n",
       "    </tr>\n",
       "  </tbody>\n",
       "</table>\n",
       "<p>61 rows × 2 columns</p>\n",
       "</div>"
      ]
     },
     "execution_count": 37,
     "metadata": {},
     "output_type": "execute_result"
    }
   ],
   "execution_count": 37
  },
  {
   "metadata": {
    "ExecuteTime": {
     "end_time": "2024-11-22T20:41:08.615458Z",
     "start_time": "2024-11-22T20:41:08.613979Z"
    }
   },
   "cell_type": "code",
   "source": "",
   "id": "919ff42018284f94",
   "outputs": [],
   "execution_count": null
  }
 ],
 "metadata": {
  "kernelspec": {
   "display_name": "Python 3",
   "language": "python",
   "name": "python3"
  },
  "language_info": {
   "codemirror_mode": {
    "name": "ipython",
    "version": 2
   },
   "file_extension": ".py",
   "mimetype": "text/x-python",
   "name": "python",
   "nbconvert_exporter": "python",
   "pygments_lexer": "ipython2",
   "version": "2.7.6"
  }
 },
 "nbformat": 4,
 "nbformat_minor": 5
}
