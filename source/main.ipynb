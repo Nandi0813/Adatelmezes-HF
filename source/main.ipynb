{
 "cells": [
  {
   "metadata": {
    "collapsed": true,
    "ExecuteTime": {
     "end_time": "2024-11-29T12:54:53.695331Z",
     "start_time": "2024-11-29T12:54:53.681748Z"
    }
   },
   "cell_type": "code",
   "source": [
    "\n",
    "import random\n",
    "\n",
    "import pandas as pd\n",
    "import matplotlib.pyplot as plt\n",
    "\n",
    "from source import model_builder, image_processor\n",
    "\n",
    "from tensorflow.keras.callbacks import EarlyStopping, TensorBoard\n",
    "from sklearn.model_selection import train_test_split\n",
    "\n",
    "from datetime import datetime"
   ],
   "id": "initial_id",
   "outputs": [],
   "execution_count": 24
  },
  {
   "metadata": {
    "ExecuteTime": {
     "end_time": "2024-11-29T12:54:53.702779Z",
     "start_time": "2024-11-29T12:54:53.700241Z"
    }
   },
   "cell_type": "code",
   "source": [
    "image_size = (32, 32)\n",
    "input_size = (*image_size, 1)"
   ],
   "id": "466310eb347c583d",
   "outputs": [],
   "execution_count": 25
  },
  {
   "metadata": {
    "ExecuteTime": {
     "end_time": "2024-11-29T12:54:53.754092Z",
     "start_time": "2024-11-29T12:54:53.751281Z"
    }
   },
   "cell_type": "code",
   "source": [
    "df_names = ['0', '1', '2', '3', '4', '5', '6', '7', '8', '9',\n",
    "            'A', 'B', 'C', 'D', 'E', 'F', 'G', 'H', 'I', 'J', 'K', 'L', 'M',\n",
    "            'N', 'O', 'P', 'Q', 'R', 'S', 'T', 'U', 'V', 'W', 'X', 'Y', 'Z',\n",
    "            'a', 'b', 'c', 'd', 'e', 'f', 'g', 'h', 'i', 'j', 'k', 'l', 'm',\n",
    "            'n', 'o', 'p', 'q', 'r', 's', 't', 'u', 'v', 'w', 'x', 'y', 'z']"
   ],
   "id": "40a0c595e348551a",
   "outputs": [],
   "execution_count": 26
  },
  {
   "metadata": {
    "ExecuteTime": {
     "end_time": "2024-11-29T12:55:23.718171Z",
     "start_time": "2024-11-29T12:54:53.775925Z"
    }
   },
   "cell_type": "code",
   "source": "df_train = image_processor.process_image_data_with_edges(\"../data/Train\", image_size, targets=df_names)",
   "id": "4c0cc5fca29b2aa3",
   "outputs": [],
   "execution_count": 27
  },
  {
   "metadata": {
    "ExecuteTime": {
     "end_time": "2024-11-29T12:55:23.816762Z",
     "start_time": "2024-11-29T12:55:23.750067Z"
    }
   },
   "cell_type": "code",
   "source": [
    "X = df_train.drop(columns=['target'])\n",
    "y = df_train['target']"
   ],
   "id": "9b93d1cc8ab3e463",
   "outputs": [],
   "execution_count": 28
  },
  {
   "metadata": {
    "ExecuteTime": {
     "end_time": "2024-11-29T12:55:23.881712Z",
     "start_time": "2024-11-29T12:55:23.839215Z"
    }
   },
   "cell_type": "code",
   "source": [
    "X_data = X.values.reshape(-1, *image_size, 1).astype('float32')\n",
    "y_data = y.factorize()[0]"
   ],
   "id": "4a3e461fa809368c",
   "outputs": [],
   "execution_count": 29
  },
  {
   "metadata": {
    "ExecuteTime": {
     "end_time": "2024-11-29T12:55:24.166443Z",
     "start_time": "2024-11-29T12:55:23.903213Z"
    }
   },
   "cell_type": "code",
   "source": "X_train, X_val, y_train, y_val = train_test_split(X_data, y_data, test_size=0.05, stratify=y_data, random_state=42)",
   "id": "7b032609705afe15",
   "outputs": [],
   "execution_count": 30
  },
  {
   "metadata": {
    "ExecuteTime": {
     "end_time": "2024-11-29T15:01:35.793072Z",
     "start_time": "2024-11-29T12:55:24.192040Z"
    }
   },
   "cell_type": "code",
   "source": [
    "model = model_builder.build_conv_pool_model(input_size, len(df_names))\n",
    "\n",
    "early_stopping = EarlyStopping(monitor='val_loss', patience=25, restore_best_weights=True)\n",
    "\n",
    "log_dir = \"logs/fit/\" + datetime.now().strftime(\"%Y%m%d-%H%M%S\")\n",
    "tensorboard_callback = TensorBoard(log_dir=log_dir, histogram_freq=1)\n",
    "\n",
    "history = model.fit(X_train, y_train,\n",
    "                    epochs=100,\n",
    "                    batch_size=64,\n",
    "                    callbacks=[early_stopping, tensorboard_callback],\n",
    "                    validation_data=(X_val, y_val),\n",
    "                    verbose=1)\n",
    "\n",
    "for epoch, (val_loss, val_acc) in enumerate(zip(history.history['val_loss'], history.history['val_accuracy']), start=1):\n",
    "    print(f\"Epoch {epoch}: val_loss={val_loss:.4f}, val_accuracy={val_acc:.4f}\")\n",
    "\n",
    "score = model.evaluate(X_val, y_val, verbose=0)\n",
    "print(f\"Final Validation Accuracy: {score[1] * 100:.2f}%\")"
   ],
   "id": "391609a726c4763b",
   "outputs": [
    {
     "name": "stdout",
     "output_type": "stream",
     "text": [
      "Epoch 1/100\n",
      "780/780 [==============================] - 18s 23ms/step - loss: 1.0583 - accuracy: 0.6944 - val_loss: 0.4589 - val_accuracy: 0.8435\n",
      "Epoch 2/100\n",
      "780/780 [==============================] - 16s 21ms/step - loss: 0.5044 - accuracy: 0.8184 - val_loss: 0.3585 - val_accuracy: 0.8706\n",
      "Epoch 3/100\n",
      "780/780 [==============================] - 16s 21ms/step - loss: 0.4152 - accuracy: 0.8437 - val_loss: 0.3340 - val_accuracy: 0.8622\n",
      "Epoch 4/100\n",
      "780/780 [==============================] - 16s 20ms/step - loss: 0.3669 - accuracy: 0.8585 - val_loss: 0.2905 - val_accuracy: 0.8812\n",
      "Epoch 5/100\n",
      "780/780 [==============================] - 16s 20ms/step - loss: 0.3299 - accuracy: 0.8696 - val_loss: 0.2799 - val_accuracy: 0.8877\n",
      "Epoch 6/100\n",
      "780/780 [==============================] - 16s 20ms/step - loss: 0.3070 - accuracy: 0.8767 - val_loss: 0.2648 - val_accuracy: 0.8911\n",
      "Epoch 7/100\n",
      "780/780 [==============================] - 160s 205ms/step - loss: 0.2881 - accuracy: 0.8828 - val_loss: 0.2496 - val_accuracy: 0.8976\n",
      "Epoch 8/100\n",
      "780/780 [==============================] - 16s 20ms/step - loss: 0.2678 - accuracy: 0.8910 - val_loss: 0.2601 - val_accuracy: 0.8919\n",
      "Epoch 9/100\n",
      "780/780 [==============================] - 16s 21ms/step - loss: 0.2591 - accuracy: 0.8934 - val_loss: 0.2450 - val_accuracy: 0.9079\n",
      "Epoch 10/100\n",
      "780/780 [==============================] - 17s 21ms/step - loss: 0.2419 - accuracy: 0.9006 - val_loss: 0.2519 - val_accuracy: 0.9060\n",
      "Epoch 11/100\n",
      "780/780 [==============================] - 17s 21ms/step - loss: 0.2347 - accuracy: 0.9043 - val_loss: 0.2307 - val_accuracy: 0.9163\n",
      "Epoch 12/100\n",
      "780/780 [==============================] - 17s 21ms/step - loss: 0.2304 - accuracy: 0.9050 - val_loss: 0.2356 - val_accuracy: 0.9113\n",
      "Epoch 13/100\n",
      "780/780 [==============================] - 17s 22ms/step - loss: 0.2204 - accuracy: 0.9111 - val_loss: 0.2170 - val_accuracy: 0.9201\n",
      "Epoch 14/100\n",
      "780/780 [==============================] - 17s 22ms/step - loss: 0.2073 - accuracy: 0.9153 - val_loss: 0.2121 - val_accuracy: 0.9185\n",
      "Epoch 15/100\n",
      "780/780 [==============================] - 1430s 2s/step - loss: 0.2101 - accuracy: 0.9152 - val_loss: 0.2220 - val_accuracy: 0.9113\n",
      "Epoch 16/100\n",
      "780/780 [==============================] - 1005s 1s/step - loss: 0.1960 - accuracy: 0.9210 - val_loss: 0.2332 - val_accuracy: 0.9212\n",
      "Epoch 17/100\n",
      "780/780 [==============================] - 47s 60ms/step - loss: 0.1916 - accuracy: 0.9218 - val_loss: 0.2200 - val_accuracy: 0.9189\n",
      "Epoch 18/100\n",
      "780/780 [==============================] - 533s 685ms/step - loss: 0.1911 - accuracy: 0.9221 - val_loss: 0.2122 - val_accuracy: 0.9201\n",
      "Epoch 19/100\n",
      "780/780 [==============================] - 337s 432ms/step - loss: 0.1775 - accuracy: 0.9274 - val_loss: 0.2177 - val_accuracy: 0.9216\n",
      "Epoch 20/100\n",
      "780/780 [==============================] - 16s 21ms/step - loss: 0.1779 - accuracy: 0.9259 - val_loss: 0.1951 - val_accuracy: 0.9284\n",
      "Epoch 21/100\n",
      "780/780 [==============================] - 16s 21ms/step - loss: 0.1703 - accuracy: 0.9303 - val_loss: 0.2049 - val_accuracy: 0.9269\n",
      "Epoch 22/100\n",
      "780/780 [==============================] - 16s 21ms/step - loss: 0.1703 - accuracy: 0.9293 - val_loss: 0.2176 - val_accuracy: 0.9223\n",
      "Epoch 23/100\n",
      "780/780 [==============================] - 17s 21ms/step - loss: 0.1690 - accuracy: 0.9303 - val_loss: 0.1938 - val_accuracy: 0.9254\n",
      "Epoch 24/100\n",
      "780/780 [==============================] - 16s 21ms/step - loss: 0.1579 - accuracy: 0.9331 - val_loss: 0.2147 - val_accuracy: 0.9235\n",
      "Epoch 25/100\n",
      "780/780 [==============================] - 17s 21ms/step - loss: 0.1592 - accuracy: 0.9337 - val_loss: 0.2102 - val_accuracy: 0.9242\n",
      "Epoch 26/100\n",
      "780/780 [==============================] - 243s 311ms/step - loss: 0.1539 - accuracy: 0.9372 - val_loss: 0.2062 - val_accuracy: 0.9254\n",
      "Epoch 27/100\n",
      "780/780 [==============================] - 188s 242ms/step - loss: 0.1504 - accuracy: 0.9378 - val_loss: 0.2122 - val_accuracy: 0.9258\n",
      "Epoch 28/100\n",
      "780/780 [==============================] - 1117s 1s/step - loss: 0.1446 - accuracy: 0.9415 - val_loss: 0.2309 - val_accuracy: 0.9201\n",
      "Epoch 29/100\n",
      "780/780 [==============================] - 177s 228ms/step - loss: 0.1418 - accuracy: 0.9421 - val_loss: 0.2152 - val_accuracy: 0.9235\n",
      "Epoch 30/100\n",
      "780/780 [==============================] - 16s 21ms/step - loss: 0.1425 - accuracy: 0.9413 - val_loss: 0.2056 - val_accuracy: 0.9277\n",
      "Epoch 31/100\n",
      "780/780 [==============================] - 16s 20ms/step - loss: 0.1397 - accuracy: 0.9419 - val_loss: 0.2125 - val_accuracy: 0.9315\n",
      "Epoch 32/100\n",
      "780/780 [==============================] - 16s 21ms/step - loss: 0.1335 - accuracy: 0.9455 - val_loss: 0.2058 - val_accuracy: 0.9242\n",
      "Epoch 33/100\n",
      "780/780 [==============================] - 16s 21ms/step - loss: 0.1325 - accuracy: 0.9456 - val_loss: 0.2151 - val_accuracy: 0.9273\n",
      "Epoch 34/100\n",
      "780/780 [==============================] - 16s 21ms/step - loss: 0.1296 - accuracy: 0.9457 - val_loss: 0.2295 - val_accuracy: 0.9284\n",
      "Epoch 35/100\n",
      "780/780 [==============================] - 16s 21ms/step - loss: 0.1270 - accuracy: 0.9472 - val_loss: 0.2170 - val_accuracy: 0.9284\n",
      "Epoch 36/100\n",
      "780/780 [==============================] - 16s 21ms/step - loss: 0.1226 - accuracy: 0.9497 - val_loss: 0.2187 - val_accuracy: 0.9250\n",
      "Epoch 37/100\n",
      "780/780 [==============================] - 684s 878ms/step - loss: 0.1217 - accuracy: 0.9496 - val_loss: 0.2064 - val_accuracy: 0.9284\n",
      "Epoch 38/100\n",
      "780/780 [==============================] - 1057s 1s/step - loss: 0.1213 - accuracy: 0.9501 - val_loss: 0.2268 - val_accuracy: 0.9231\n",
      "Epoch 39/100\n",
      "780/780 [==============================] - 19s 25ms/step - loss: 0.1156 - accuracy: 0.9525 - val_loss: 0.2222 - val_accuracy: 0.9288\n",
      "Epoch 40/100\n",
      "780/780 [==============================] - 20s 26ms/step - loss: 0.1142 - accuracy: 0.9527 - val_loss: 0.2239 - val_accuracy: 0.9284\n",
      "Epoch 41/100\n",
      "780/780 [==============================] - 19s 24ms/step - loss: 0.1149 - accuracy: 0.9517 - val_loss: 0.2312 - val_accuracy: 0.9262\n",
      "Epoch 42/100\n",
      "780/780 [==============================] - 16s 20ms/step - loss: 0.1104 - accuracy: 0.9544 - val_loss: 0.2212 - val_accuracy: 0.9322\n",
      "Epoch 43/100\n",
      "780/780 [==============================] - 16s 20ms/step - loss: 0.1096 - accuracy: 0.9559 - val_loss: 0.2238 - val_accuracy: 0.9300\n",
      "Epoch 44/100\n",
      "780/780 [==============================] - 16s 20ms/step - loss: 0.1059 - accuracy: 0.9570 - val_loss: 0.2049 - val_accuracy: 0.9303\n",
      "Epoch 45/100\n",
      "780/780 [==============================] - 16s 20ms/step - loss: 0.1057 - accuracy: 0.9573 - val_loss: 0.2352 - val_accuracy: 0.9277\n",
      "Epoch 46/100\n",
      "780/780 [==============================] - 16s 20ms/step - loss: 0.1053 - accuracy: 0.9561 - val_loss: 0.2284 - val_accuracy: 0.9300\n",
      "Epoch 47/100\n",
      "780/780 [==============================] - 16s 20ms/step - loss: 0.1019 - accuracy: 0.9576 - val_loss: 0.2460 - val_accuracy: 0.9322\n",
      "Epoch 48/100\n",
      "780/780 [==============================] - 16s 20ms/step - loss: 0.1016 - accuracy: 0.9585 - val_loss: 0.2202 - val_accuracy: 0.9326\n",
      "Epoch 1: val_loss=0.4589, val_accuracy=0.8435\n",
      "Epoch 2: val_loss=0.3585, val_accuracy=0.8706\n",
      "Epoch 3: val_loss=0.3340, val_accuracy=0.8622\n",
      "Epoch 4: val_loss=0.2905, val_accuracy=0.8812\n",
      "Epoch 5: val_loss=0.2799, val_accuracy=0.8877\n",
      "Epoch 6: val_loss=0.2648, val_accuracy=0.8911\n",
      "Epoch 7: val_loss=0.2496, val_accuracy=0.8976\n",
      "Epoch 8: val_loss=0.2601, val_accuracy=0.8919\n",
      "Epoch 9: val_loss=0.2450, val_accuracy=0.9079\n",
      "Epoch 10: val_loss=0.2519, val_accuracy=0.9060\n",
      "Epoch 11: val_loss=0.2307, val_accuracy=0.9163\n",
      "Epoch 12: val_loss=0.2356, val_accuracy=0.9113\n",
      "Epoch 13: val_loss=0.2170, val_accuracy=0.9201\n",
      "Epoch 14: val_loss=0.2121, val_accuracy=0.9185\n",
      "Epoch 15: val_loss=0.2220, val_accuracy=0.9113\n",
      "Epoch 16: val_loss=0.2332, val_accuracy=0.9212\n",
      "Epoch 17: val_loss=0.2200, val_accuracy=0.9189\n",
      "Epoch 18: val_loss=0.2122, val_accuracy=0.9201\n",
      "Epoch 19: val_loss=0.2177, val_accuracy=0.9216\n",
      "Epoch 20: val_loss=0.1951, val_accuracy=0.9284\n",
      "Epoch 21: val_loss=0.2049, val_accuracy=0.9269\n",
      "Epoch 22: val_loss=0.2176, val_accuracy=0.9223\n",
      "Epoch 23: val_loss=0.1938, val_accuracy=0.9254\n",
      "Epoch 24: val_loss=0.2147, val_accuracy=0.9235\n",
      "Epoch 25: val_loss=0.2102, val_accuracy=0.9242\n",
      "Epoch 26: val_loss=0.2062, val_accuracy=0.9254\n",
      "Epoch 27: val_loss=0.2122, val_accuracy=0.9258\n",
      "Epoch 28: val_loss=0.2309, val_accuracy=0.9201\n",
      "Epoch 29: val_loss=0.2152, val_accuracy=0.9235\n",
      "Epoch 30: val_loss=0.2056, val_accuracy=0.9277\n",
      "Epoch 31: val_loss=0.2125, val_accuracy=0.9315\n",
      "Epoch 32: val_loss=0.2058, val_accuracy=0.9242\n",
      "Epoch 33: val_loss=0.2151, val_accuracy=0.9273\n",
      "Epoch 34: val_loss=0.2295, val_accuracy=0.9284\n",
      "Epoch 35: val_loss=0.2170, val_accuracy=0.9284\n",
      "Epoch 36: val_loss=0.2187, val_accuracy=0.9250\n",
      "Epoch 37: val_loss=0.2064, val_accuracy=0.9284\n",
      "Epoch 38: val_loss=0.2268, val_accuracy=0.9231\n",
      "Epoch 39: val_loss=0.2222, val_accuracy=0.9288\n",
      "Epoch 40: val_loss=0.2239, val_accuracy=0.9284\n",
      "Epoch 41: val_loss=0.2312, val_accuracy=0.9262\n",
      "Epoch 42: val_loss=0.2212, val_accuracy=0.9322\n",
      "Epoch 43: val_loss=0.2238, val_accuracy=0.9300\n",
      "Epoch 44: val_loss=0.2049, val_accuracy=0.9303\n",
      "Epoch 45: val_loss=0.2352, val_accuracy=0.9277\n",
      "Epoch 46: val_loss=0.2284, val_accuracy=0.9300\n",
      "Epoch 47: val_loss=0.2460, val_accuracy=0.9322\n",
      "Epoch 48: val_loss=0.2202, val_accuracy=0.9326\n",
      "Final Validation Accuracy: 92.54%\n"
     ]
    }
   ],
   "execution_count": 31
  },
  {
   "metadata": {
    "ExecuteTime": {
     "end_time": "2024-11-29T15:30:01.475933Z",
     "start_time": "2024-11-29T15:20:05.409193Z"
    }
   },
   "cell_type": "code",
   "source": [
    "from keras.callbacks import Callback\n",
    "\n",
    "\n",
    "class CustomEarlyStopping(Callback):\n",
    "    def __init__(self, patience=10, loss_weight=0.5, acc_weight=0.5, restore_best_weights=True):\n",
    "        super(CustomEarlyStopping, self).__init__()\n",
    "        self.patience = patience\n",
    "        self.loss_weight = loss_weight\n",
    "        self.acc_weight = acc_weight\n",
    "        self.restore_best_weights = restore_best_weights\n",
    "        self.best_score = None\n",
    "        self.best_weights = None\n",
    "        self.wait = 0\n",
    "\n",
    "    def on_epoch_end(self, epoch, logs=None):\n",
    "        # Kombinált metrika számítása\n",
    "        val_loss = logs.get('val_loss')\n",
    "        val_acc = logs.get('val_accuracy')\n",
    "        if val_loss is not None and val_acc is not None:\n",
    "            # Kombinált metrika: kisebb érték jobb\n",
    "            score = self.loss_weight * val_loss - self.acc_weight * val_acc\n",
    "\n",
    "            # Első iteráció vagy új legjobb érték\n",
    "            if self.best_score is None or score < self.best_score:\n",
    "                self.best_score = score\n",
    "                self.best_weights = self.model.get_weights()\n",
    "                self.wait = 0  # Reset the patience counter\n",
    "            else:\n",
    "                self.wait += 1  # Increment the patience counter\n",
    "\n",
    "            # Ha túlléptük a patience értéket, állítsuk le a tanítást\n",
    "            if self.wait >= self.patience:\n",
    "                self.model.stop_training = True\n",
    "                if self.restore_best_weights and self.best_weights is not None:\n",
    "                    self.model.set_weights(self.best_weights)\n",
    "\n",
    "    def on_train_end(self, logs=None):\n",
    "        if self.best_weights is not None and self.restore_best_weights:\n",
    "            print(\"Restoring best model weights from early stopping.\")\n",
    "\n",
    "# Használat:\n",
    "custom_early_stopping = CustomEarlyStopping(patience=20, loss_weight=0.6, acc_weight=0.4, restore_best_weights=True)\n",
    "\n",
    "history = model.fit(X_train, y_train,\n",
    "                    epochs=200,\n",
    "                    batch_size=64,\n",
    "                    callbacks=[custom_early_stopping, tensorboard_callback],\n",
    "                    validation_data=(X_val, y_val),\n",
    "                    verbose=1)"
   ],
   "id": "c76eb6838f1af414",
   "outputs": [
    {
     "name": "stdout",
     "output_type": "stream",
     "text": [
      "Epoch 1/200\n",
      "780/780 [==============================] - 17s 21ms/step - loss: 0.1799 - accuracy: 0.9277 - val_loss: 0.2051 - val_accuracy: 0.9216\n",
      "Epoch 2/200\n",
      "780/780 [==============================] - 16s 21ms/step - loss: 0.1665 - accuracy: 0.9314 - val_loss: 0.2091 - val_accuracy: 0.9265\n",
      "Epoch 3/200\n",
      "780/780 [==============================] - 16s 21ms/step - loss: 0.1538 - accuracy: 0.9350 - val_loss: 0.2033 - val_accuracy: 0.9273\n",
      "Epoch 4/200\n",
      "780/780 [==============================] - 16s 21ms/step - loss: 0.1536 - accuracy: 0.9364 - val_loss: 0.2267 - val_accuracy: 0.9246\n",
      "Epoch 5/200\n",
      "780/780 [==============================] - 16s 21ms/step - loss: 0.1470 - accuracy: 0.9407 - val_loss: 0.2277 - val_accuracy: 0.9284\n",
      "Epoch 6/200\n",
      "780/780 [==============================] - 17s 21ms/step - loss: 0.1436 - accuracy: 0.9408 - val_loss: 0.2094 - val_accuracy: 0.9250\n",
      "Epoch 7/200\n",
      "780/780 [==============================] - 16s 21ms/step - loss: 0.1428 - accuracy: 0.9413 - val_loss: 0.2208 - val_accuracy: 0.9296\n",
      "Epoch 8/200\n",
      "780/780 [==============================] - 17s 21ms/step - loss: 0.1375 - accuracy: 0.9434 - val_loss: 0.2181 - val_accuracy: 0.9262\n",
      "Epoch 9/200\n",
      "780/780 [==============================] - 18s 23ms/step - loss: 0.1337 - accuracy: 0.9448 - val_loss: 0.2191 - val_accuracy: 0.9262\n",
      "Epoch 10/200\n",
      "780/780 [==============================] - 18s 24ms/step - loss: 0.1344 - accuracy: 0.9454 - val_loss: 0.2042 - val_accuracy: 0.9296\n",
      "Epoch 11/200\n",
      "780/780 [==============================] - 19s 24ms/step - loss: 0.1277 - accuracy: 0.9472 - val_loss: 0.2027 - val_accuracy: 0.9303\n",
      "Epoch 12/200\n",
      "780/780 [==============================] - 19s 24ms/step - loss: 0.1256 - accuracy: 0.9481 - val_loss: 0.1956 - val_accuracy: 0.9296\n",
      "Epoch 13/200\n",
      "780/780 [==============================] - 19s 24ms/step - loss: 0.1222 - accuracy: 0.9485 - val_loss: 0.2299 - val_accuracy: 0.9277\n",
      "Epoch 14/200\n",
      "780/780 [==============================] - 19s 24ms/step - loss: 0.1221 - accuracy: 0.9499 - val_loss: 0.1965 - val_accuracy: 0.9281\n",
      "Epoch 15/200\n",
      "780/780 [==============================] - 19s 25ms/step - loss: 0.1153 - accuracy: 0.9522 - val_loss: 0.2143 - val_accuracy: 0.9300\n",
      "Epoch 16/200\n",
      "780/780 [==============================] - 19s 25ms/step - loss: 0.1190 - accuracy: 0.9506 - val_loss: 0.2213 - val_accuracy: 0.9284\n",
      "Epoch 17/200\n",
      "780/780 [==============================] - 19s 25ms/step - loss: 0.1161 - accuracy: 0.9527 - val_loss: 0.2327 - val_accuracy: 0.9322\n",
      "Epoch 18/200\n",
      "780/780 [==============================] - 19s 25ms/step - loss: 0.1090 - accuracy: 0.9547 - val_loss: 0.2296 - val_accuracy: 0.9254\n",
      "Epoch 19/200\n",
      "780/780 [==============================] - 22s 28ms/step - loss: 0.1107 - accuracy: 0.9548 - val_loss: 0.2236 - val_accuracy: 0.9315\n",
      "Epoch 20/200\n",
      "780/780 [==============================] - 19s 25ms/step - loss: 0.1070 - accuracy: 0.9558 - val_loss: 0.2248 - val_accuracy: 0.9330\n",
      "Epoch 21/200\n",
      "780/780 [==============================] - 19s 25ms/step - loss: 0.1076 - accuracy: 0.9553 - val_loss: 0.2279 - val_accuracy: 0.9319\n",
      "Epoch 22/200\n",
      "780/780 [==============================] - 19s 25ms/step - loss: 0.1062 - accuracy: 0.9562 - val_loss: 0.2239 - val_accuracy: 0.9330\n",
      "Epoch 23/200\n",
      "780/780 [==============================] - 19s 24ms/step - loss: 0.1043 - accuracy: 0.9560 - val_loss: 0.2377 - val_accuracy: 0.9322\n",
      "Epoch 24/200\n",
      "780/780 [==============================] - 19s 25ms/step - loss: 0.1032 - accuracy: 0.9592 - val_loss: 0.2196 - val_accuracy: 0.9262\n",
      "Epoch 25/200\n",
      "780/780 [==============================] - 20s 25ms/step - loss: 0.0997 - accuracy: 0.9586 - val_loss: 0.2240 - val_accuracy: 0.9242\n",
      "Epoch 26/200\n",
      "780/780 [==============================] - 19s 25ms/step - loss: 0.1011 - accuracy: 0.9580 - val_loss: 0.2236 - val_accuracy: 0.9254\n",
      "Epoch 27/200\n",
      "780/780 [==============================] - 20s 25ms/step - loss: 0.1002 - accuracy: 0.9595 - val_loss: 0.2279 - val_accuracy: 0.9277\n",
      "Epoch 28/200\n",
      "780/780 [==============================] - 19s 25ms/step - loss: 0.0938 - accuracy: 0.9606 - val_loss: 0.2241 - val_accuracy: 0.9334\n",
      "Epoch 29/200\n",
      "780/780 [==============================] - 20s 25ms/step - loss: 0.0896 - accuracy: 0.9622 - val_loss: 0.2427 - val_accuracy: 0.9273\n",
      "Epoch 30/200\n",
      "780/780 [==============================] - 19s 25ms/step - loss: 0.0941 - accuracy: 0.9611 - val_loss: 0.2245 - val_accuracy: 0.9284\n",
      "Epoch 31/200\n",
      "780/780 [==============================] - 20s 25ms/step - loss: 0.0923 - accuracy: 0.9615 - val_loss: 0.2120 - val_accuracy: 0.9338\n",
      "Epoch 32/200\n",
      "780/780 [==============================] - 20s 25ms/step - loss: 0.0884 - accuracy: 0.9630 - val_loss: 0.2221 - val_accuracy: 0.9360\n",
      "Restoring best model weights from early stopping.\n"
     ]
    }
   ],
   "execution_count": 46
  },
  {
   "metadata": {
    "ExecuteTime": {
     "end_time": "2024-11-29T15:37:33.736329Z",
     "start_time": "2024-11-29T15:37:33.266757Z"
    }
   },
   "cell_type": "code",
   "source": [
    "for epoch, (val_loss, val_acc) in enumerate(zip(history.history['val_loss'], history.history['val_accuracy']), start=1):\n",
    "    print(f\"Epoch {epoch}: val_loss={val_loss:.4f}, val_accuracy={val_acc:.4f}\")\n",
    "\n",
    "score = model.evaluate(X_val, y_val, verbose=0)\n",
    "print(f\"Final Validation Accuracy: {score[1] * 100:.2f}%\")"
   ],
   "id": "312aff2506aa71c4",
   "outputs": [
    {
     "name": "stdout",
     "output_type": "stream",
     "text": [
      "Epoch 1: val_loss=0.2051, val_accuracy=0.9216\n",
      "Epoch 2: val_loss=0.2091, val_accuracy=0.9265\n",
      "Epoch 3: val_loss=0.2033, val_accuracy=0.9273\n",
      "Epoch 4: val_loss=0.2267, val_accuracy=0.9246\n",
      "Epoch 5: val_loss=0.2277, val_accuracy=0.9284\n",
      "Epoch 6: val_loss=0.2094, val_accuracy=0.9250\n",
      "Epoch 7: val_loss=0.2208, val_accuracy=0.9296\n",
      "Epoch 8: val_loss=0.2181, val_accuracy=0.9262\n",
      "Epoch 9: val_loss=0.2191, val_accuracy=0.9262\n",
      "Epoch 10: val_loss=0.2042, val_accuracy=0.9296\n",
      "Epoch 11: val_loss=0.2027, val_accuracy=0.9303\n",
      "Epoch 12: val_loss=0.1956, val_accuracy=0.9296\n",
      "Epoch 13: val_loss=0.2299, val_accuracy=0.9277\n",
      "Epoch 14: val_loss=0.1965, val_accuracy=0.9281\n",
      "Epoch 15: val_loss=0.2143, val_accuracy=0.9300\n",
      "Epoch 16: val_loss=0.2213, val_accuracy=0.9284\n",
      "Epoch 17: val_loss=0.2327, val_accuracy=0.9322\n",
      "Epoch 18: val_loss=0.2296, val_accuracy=0.9254\n",
      "Epoch 19: val_loss=0.2236, val_accuracy=0.9315\n",
      "Epoch 20: val_loss=0.2248, val_accuracy=0.9330\n",
      "Epoch 21: val_loss=0.2279, val_accuracy=0.9319\n",
      "Epoch 22: val_loss=0.2239, val_accuracy=0.9330\n",
      "Epoch 23: val_loss=0.2377, val_accuracy=0.9322\n",
      "Epoch 24: val_loss=0.2196, val_accuracy=0.9262\n",
      "Epoch 25: val_loss=0.2240, val_accuracy=0.9242\n",
      "Epoch 26: val_loss=0.2236, val_accuracy=0.9254\n",
      "Epoch 27: val_loss=0.2279, val_accuracy=0.9277\n",
      "Epoch 28: val_loss=0.2241, val_accuracy=0.9334\n",
      "Epoch 29: val_loss=0.2427, val_accuracy=0.9273\n",
      "Epoch 30: val_loss=0.2245, val_accuracy=0.9284\n",
      "Epoch 31: val_loss=0.2120, val_accuracy=0.9338\n",
      "Epoch 32: val_loss=0.2221, val_accuracy=0.9360\n",
      "Final Validation Accuracy: 92.96%\n"
     ]
    }
   ],
   "execution_count": 47
  },
  {
   "metadata": {
    "ExecuteTime": {
     "end_time": "2024-11-29T15:01:58.208277Z",
     "start_time": "2024-11-29T15:01:55.480588Z"
    }
   },
   "cell_type": "code",
   "source": "test_df = image_processor.process_image_data_with_edges(\"../data/TestData\", image_size)",
   "id": "f58d16224b2cc5b0",
   "outputs": [],
   "execution_count": 32
  },
  {
   "metadata": {
    "ExecuteTime": {
     "end_time": "2024-11-29T15:01:58.250198Z",
     "start_time": "2024-11-29T15:01:58.236500Z"
    }
   },
   "cell_type": "code",
   "source": [
    "X_test = test_df.iloc[:, 1:]\n",
    "X_test_prepared = X_test.values.reshape(-1, *image_size, 1).astype('float32')"
   ],
   "id": "ff6d98d31660c75e",
   "outputs": [],
   "execution_count": 33
  },
  {
   "metadata": {
    "ExecuteTime": {
     "end_time": "2024-11-29T15:01:59.371853Z",
     "start_time": "2024-11-29T15:01:58.263780Z"
    }
   },
   "cell_type": "code",
   "source": [
    "\n",
    "\n",
    "# model = load_model(\"models/model_final2\")\n",
    "pred = model.predict(X_test_prepared)"
   ],
   "id": "11b37c192267c0d1",
   "outputs": [
    {
     "name": "stdout",
     "output_type": "stream",
     "text": [
      "222/222 [==============================] - 1s 5ms/step\n"
     ]
    }
   ],
   "execution_count": 34
  },
  {
   "metadata": {
    "ExecuteTime": {
     "end_time": "2024-11-29T15:01:59.396566Z",
     "start_time": "2024-11-29T15:01:59.393975Z"
    }
   },
   "cell_type": "code",
   "source": "pred",
   "id": "99984648827337a0",
   "outputs": [
    {
     "data": {
      "text/plain": [
       "array([[1.58276441e-12, 7.12718509e-16, 8.89499962e-01, ...,\n",
       "        1.32726607e-11, 8.19335294e-11, 2.42671572e-09],\n",
       "       [7.12199939e-13, 1.41576315e-08, 3.41386316e-13, ...,\n",
       "        9.18642108e-05, 1.14118293e-09, 4.11086880e-08],\n",
       "       [1.56674899e-11, 4.60723975e-08, 2.07083780e-13, ...,\n",
       "        6.00002095e-05, 2.66356182e-09, 5.49511381e-10],\n",
       "       ...,\n",
       "       [4.89338225e-13, 1.62911948e-17, 9.69279062e-20, ...,\n",
       "        2.24581233e-21, 4.86738362e-13, 1.54895089e-19],\n",
       "       [5.41561902e-01, 2.27042257e-11, 7.31727786e-12, ...,\n",
       "        8.54128373e-15, 6.95999953e-13, 1.20802501e-14],\n",
       "       [1.70576934e-17, 2.07784590e-09, 2.32039878e-19, ...,\n",
       "        4.05460908e-15, 6.58470001e-10, 6.94093610e-15]], dtype=float32)"
      ]
     },
     "execution_count": 35,
     "metadata": {},
     "output_type": "execute_result"
    }
   ],
   "execution_count": 35
  },
  {
   "metadata": {
    "ExecuteTime": {
     "end_time": "2024-11-29T15:01:59.449153Z",
     "start_time": "2024-11-29T15:01:59.446454Z"
    }
   },
   "cell_type": "code",
   "source": [
    "predicted_classes = pred.argmax(axis=1)\n",
    "len(predicted_classes)"
   ],
   "id": "aad4b8f05c11a0ee",
   "outputs": [
    {
     "data": {
      "text/plain": [
       "7100"
      ]
     },
     "execution_count": 36,
     "metadata": {},
     "output_type": "execute_result"
    }
   ],
   "execution_count": 36
  },
  {
   "metadata": {
    "ExecuteTime": {
     "end_time": "2024-11-29T15:01:59.554504Z",
     "start_time": "2024-11-29T15:01:59.548397Z"
    }
   },
   "cell_type": "code",
   "source": "pd.DataFrame(pred[3086])",
   "id": "62d36fd36d0e09bf",
   "outputs": [
    {
     "data": {
      "text/plain": [
       "               0\n",
       "0   6.348813e-14\n",
       "1   9.826810e-09\n",
       "2   1.435490e-11\n",
       "3   4.828588e-10\n",
       "4   9.414839e-01\n",
       "..           ...\n",
       "57  5.755789e-09\n",
       "58  4.011450e-05\n",
       "59  1.650517e-06\n",
       "60  8.151402e-10\n",
       "61  1.830867e-07\n",
       "\n",
       "[62 rows x 1 columns]"
      ],
      "text/html": [
       "<div>\n",
       "<style scoped>\n",
       "    .dataframe tbody tr th:only-of-type {\n",
       "        vertical-align: middle;\n",
       "    }\n",
       "\n",
       "    .dataframe tbody tr th {\n",
       "        vertical-align: top;\n",
       "    }\n",
       "\n",
       "    .dataframe thead th {\n",
       "        text-align: right;\n",
       "    }\n",
       "</style>\n",
       "<table border=\"1\" class=\"dataframe\">\n",
       "  <thead>\n",
       "    <tr style=\"text-align: right;\">\n",
       "      <th></th>\n",
       "      <th>0</th>\n",
       "    </tr>\n",
       "  </thead>\n",
       "  <tbody>\n",
       "    <tr>\n",
       "      <th>0</th>\n",
       "      <td>6.348813e-14</td>\n",
       "    </tr>\n",
       "    <tr>\n",
       "      <th>1</th>\n",
       "      <td>9.826810e-09</td>\n",
       "    </tr>\n",
       "    <tr>\n",
       "      <th>2</th>\n",
       "      <td>1.435490e-11</td>\n",
       "    </tr>\n",
       "    <tr>\n",
       "      <th>3</th>\n",
       "      <td>4.828588e-10</td>\n",
       "    </tr>\n",
       "    <tr>\n",
       "      <th>4</th>\n",
       "      <td>9.414839e-01</td>\n",
       "    </tr>\n",
       "    <tr>\n",
       "      <th>...</th>\n",
       "      <td>...</td>\n",
       "    </tr>\n",
       "    <tr>\n",
       "      <th>57</th>\n",
       "      <td>5.755789e-09</td>\n",
       "    </tr>\n",
       "    <tr>\n",
       "      <th>58</th>\n",
       "      <td>4.011450e-05</td>\n",
       "    </tr>\n",
       "    <tr>\n",
       "      <th>59</th>\n",
       "      <td>1.650517e-06</td>\n",
       "    </tr>\n",
       "    <tr>\n",
       "      <th>60</th>\n",
       "      <td>8.151402e-10</td>\n",
       "    </tr>\n",
       "    <tr>\n",
       "      <th>61</th>\n",
       "      <td>1.830867e-07</td>\n",
       "    </tr>\n",
       "  </tbody>\n",
       "</table>\n",
       "<p>62 rows × 1 columns</p>\n",
       "</div>"
      ]
     },
     "execution_count": 37,
     "metadata": {},
     "output_type": "execute_result"
    }
   ],
   "execution_count": 37
  },
  {
   "metadata": {
    "ExecuteTime": {
     "end_time": "2024-11-29T15:01:59.563500Z",
     "start_time": "2024-11-29T15:01:59.559412Z"
    }
   },
   "cell_type": "code",
   "source": [
    "predicted_labels = [df_names[i] for i in predicted_classes]\n",
    "\n",
    "test_df['pred'] = predicted_classes + 1\n",
    "test_df['pred_labels'] = predicted_labels"
   ],
   "id": "632635caa51f875f",
   "outputs": [],
   "execution_count": 38
  },
  {
   "metadata": {
    "ExecuteTime": {
     "end_time": "2024-11-29T15:01:59.590743Z",
     "start_time": "2024-11-29T15:01:59.588458Z"
    }
   },
   "cell_type": "code",
   "source": "#model.save(\"models/model_final2\")",
   "id": "9f07351edbc8479b",
   "outputs": [],
   "execution_count": 39
  },
  {
   "metadata": {
    "ExecuteTime": {
     "end_time": "2024-11-29T15:01:59.690304Z",
     "start_time": "2024-11-29T15:01:59.682573Z"
    }
   },
   "cell_type": "code",
   "source": [
    "filtered_df = test_df[test_df['target'] == 'Test0322.png']\n",
    "filtered_df[['target', 'pred', 'pred_labels']]"
   ],
   "id": "cef6c3abcb6e59f6",
   "outputs": [
    {
     "data": {
      "text/plain": [
       "            target  pred pred_labels\n",
       "1155  Test0322.png    40           d"
      ],
      "text/html": [
       "<div>\n",
       "<style scoped>\n",
       "    .dataframe tbody tr th:only-of-type {\n",
       "        vertical-align: middle;\n",
       "    }\n",
       "\n",
       "    .dataframe tbody tr th {\n",
       "        vertical-align: top;\n",
       "    }\n",
       "\n",
       "    .dataframe thead th {\n",
       "        text-align: right;\n",
       "    }\n",
       "</style>\n",
       "<table border=\"1\" class=\"dataframe\">\n",
       "  <thead>\n",
       "    <tr style=\"text-align: right;\">\n",
       "      <th></th>\n",
       "      <th>target</th>\n",
       "      <th>pred</th>\n",
       "      <th>pred_labels</th>\n",
       "    </tr>\n",
       "  </thead>\n",
       "  <tbody>\n",
       "    <tr>\n",
       "      <th>1155</th>\n",
       "      <td>Test0322.png</td>\n",
       "      <td>40</td>\n",
       "      <td>d</td>\n",
       "    </tr>\n",
       "  </tbody>\n",
       "</table>\n",
       "</div>"
      ]
     },
     "execution_count": 40,
     "metadata": {},
     "output_type": "execute_result"
    }
   ],
   "execution_count": 40
  },
  {
   "metadata": {
    "ExecuteTime": {
     "end_time": "2024-11-29T15:01:59.830950Z",
     "start_time": "2024-11-29T15:01:59.739565Z"
    }
   },
   "cell_type": "code",
   "source": "plt.imshow(X_test_prepared[2112], cmap='gray')",
   "id": "7dad3e6bd0359ec5",
   "outputs": [
    {
     "data": {
      "text/plain": [
       "<matplotlib.image.AxesImage at 0x1760aaa00>"
      ]
     },
     "execution_count": 41,
     "metadata": {},
     "output_type": "execute_result"
    },
    {
     "data": {
      "text/plain": [
       "<Figure size 640x480 with 1 Axes>"
      ],
      "image/png": "[encoded data removed]"
     },
     "metadata": {},
     "output_type": "display_data"
    }
   ],
   "execution_count": 41
  },
  {
   "metadata": {
    "ExecuteTime": {
     "end_time": "2024-11-29T15:01:59.857670Z",
     "start_time": "2024-11-29T15:01:59.855379Z"
    }
   },
   "cell_type": "code",
   "source": "",
   "id": "77d948d393afa9a",
   "outputs": [],
   "execution_count": null
  },
  {
   "metadata": {
    "ExecuteTime": {
     "end_time": "2024-11-29T15:01:59.892142Z",
     "start_time": "2024-11-29T15:01:59.885969Z"
    }
   },
   "cell_type": "code",
   "source": "df_lead = test_df[['pred', 'target']].sort_values(by=['target'], ascending=True).reset_index(drop=True)",
   "id": "919ff42018284f94",
   "outputs": [],
   "execution_count": 42
  },
  {
   "metadata": {
    "ExecuteTime": {
     "end_time": "2024-11-29T15:01:59.959848Z",
     "start_time": "2024-11-29T15:01:59.958289Z"
    }
   },
   "cell_type": "code",
   "source": "df_lead.columns = ['class', 'TestImage']",
   "id": "da45f4defbb0e342",
   "outputs": [],
   "execution_count": 43
  },
  {
   "metadata": {
    "ExecuteTime": {
     "end_time": "2024-11-29T15:01:59.976512Z",
     "start_time": "2024-11-29T15:01:59.973054Z"
    }
   },
   "cell_type": "code",
   "source": "df_lead",
   "id": "e30c16ebb3f852e4",
   "outputs": [
    {
     "data": {
      "text/plain": [
       "      class     TestImage\n",
       "0        19  Test0001.png\n",
       "1        19  Test0002.png\n",
       "2        45  Test0003.png\n",
       "3        45  Test0004.png\n",
       "4        45  Test0005.png\n",
       "...     ...           ...\n",
       "7095     18  Test7096.png\n",
       "7096     18  Test7097.png\n",
       "7097     18  Test7098.png\n",
       "7098     18  Test7099.png\n",
       "7099     18  Test7100.png\n",
       "\n",
       "[7100 rows x 2 columns]"
      ],
      "text/html": [
       "<div>\n",
       "<style scoped>\n",
       "    .dataframe tbody tr th:only-of-type {\n",
       "        vertical-align: middle;\n",
       "    }\n",
       "\n",
       "    .dataframe tbody tr th {\n",
       "        vertical-align: top;\n",
       "    }\n",
       "\n",
       "    .dataframe thead th {\n",
       "        text-align: right;\n",
       "    }\n",
       "</style>\n",
       "<table border=\"1\" class=\"dataframe\">\n",
       "  <thead>\n",
       "    <tr style=\"text-align: right;\">\n",
       "      <th></th>\n",
       "      <th>class</th>\n",
       "      <th>TestImage</th>\n",
       "    </tr>\n",
       "  </thead>\n",
       "  <tbody>\n",
       "    <tr>\n",
       "      <th>0</th>\n",
       "      <td>19</td>\n",
       "      <td>Test0001.png</td>\n",
       "    </tr>\n",
       "    <tr>\n",
       "      <th>1</th>\n",
       "      <td>19</td>\n",
       "      <td>Test0002.png</td>\n",
       "    </tr>\n",
       "    <tr>\n",
       "      <th>2</th>\n",
       "      <td>45</td>\n",
       "      <td>Test0003.png</td>\n",
       "    </tr>\n",
       "    <tr>\n",
       "      <th>3</th>\n",
       "      <td>45</td>\n",
       "      <td>Test0004.png</td>\n",
       "    </tr>\n",
       "    <tr>\n",
       "      <th>4</th>\n",
       "      <td>45</td>\n",
       "      <td>Test0005.png</td>\n",
       "    </tr>\n",
       "    <tr>\n",
       "      <th>...</th>\n",
       "      <td>...</td>\n",
       "      <td>...</td>\n",
       "    </tr>\n",
       "    <tr>\n",
       "      <th>7095</th>\n",
       "      <td>18</td>\n",
       "      <td>Test7096.png</td>\n",
       "    </tr>\n",
       "    <tr>\n",
       "      <th>7096</th>\n",
       "      <td>18</td>\n",
       "      <td>Test7097.png</td>\n",
       "    </tr>\n",
       "    <tr>\n",
       "      <th>7097</th>\n",
       "      <td>18</td>\n",
       "      <td>Test7098.png</td>\n",
       "    </tr>\n",
       "    <tr>\n",
       "      <th>7098</th>\n",
       "      <td>18</td>\n",
       "      <td>Test7099.png</td>\n",
       "    </tr>\n",
       "    <tr>\n",
       "      <th>7099</th>\n",
       "      <td>18</td>\n",
       "      <td>Test7100.png</td>\n",
       "    </tr>\n",
       "  </tbody>\n",
       "</table>\n",
       "<p>7100 rows × 2 columns</p>\n",
       "</div>"
      ]
     },
     "execution_count": 44,
     "metadata": {},
     "output_type": "execute_result"
    }
   ],
   "execution_count": 44
  },
  {
   "metadata": {
    "ExecuteTime": {
     "end_time": "2024-11-29T15:02:00.321105Z",
     "start_time": "2024-11-29T15:02:00.042871Z"
    }
   },
   "cell_type": "code",
   "source": [
    "random_ids = random.sample(list(test_df.index), min(10, len(test_df)))\n",
    "\n",
    "fig, axes = plt.subplots(2, 5, figsize=(15, 6))\n",
    "\n",
    "for ax, img_id in zip(axes.flatten(), random_ids):\n",
    "    pred_label = test_df.loc[img_id, 'pred_labels']\n",
    "    ax.imshow(X_test_prepared[img_id], cmap='gray')\n",
    "    ax.set_title(f\"Prediction: {pred_label}\")\n",
    "    ax.axis('off')\n",
    "\n",
    "plt.tight_layout()\n",
    "plt.show()"
   ],
   "id": "7309fe0376d8ecef",
   "outputs": [
    {
     "data": {
      "text/plain": [
       "<Figure size 1500x600 with 10 Axes>"
      ],
      "image/png": "[encoded data removed]"
     },
     "metadata": {},
     "output_type": "display_data"
    }
   ],
   "execution_count": 45
  },
  {
   "metadata": {
    "ExecuteTime": {
     "end_time": "2024-11-29T15:02:00.347564Z",
     "start_time": "2024-11-29T15:02:00.345388Z"
    }
   },
   "cell_type": "code",
   "source": "",
   "id": "84abe8b074fc60a2",
   "outputs": [],
   "execution_count": null
  },
  {
   "metadata": {
    "ExecuteTime": {
     "end_time": "2024-11-29T15:02:00.366552Z",
     "start_time": "2024-11-29T15:02:00.364815Z"
    }
   },
   "cell_type": "code",
   "source": "",
   "id": "ed2b219e14dc9a01",
   "outputs": [],
   "execution_count": null
  }
 ],
 "metadata": {
  "kernelspec": {
   "display_name": "Python 3",
   "language": "python",
   "name": "python3"
  },
  "language_info": {
   "codemirror_mode": {
    "name": "ipython",
    "version": 2
   },
   "file_extension": ".py",
   "mimetype": "text/x-python",
   "name": "python",
   "nbconvert_exporter": "python",
   "pygments_lexer": "ipython2",
   "version": "2.7.6"
  }
 },
 "nbformat": 4,
 "nbformat_minor": 5
}
