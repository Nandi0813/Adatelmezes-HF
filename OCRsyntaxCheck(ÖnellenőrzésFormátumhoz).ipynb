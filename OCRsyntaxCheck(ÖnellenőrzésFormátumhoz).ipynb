{
 "cells": [
  {
   "cell_type": "code",
   "metadata": {
    "ExecuteTime": {
     "end_time": "2024-11-28T08:17:42.454280Z",
     "start_time": "2024-11-28T08:17:41.749999Z"
    }
   },
   "source": [
    "import pandas as pd\n",
    "pd2=pd.read_csv('vegleges_adat.csv', delimiter=';')\n",
    "if len(pd2)!=7100:\n",
    "    print('Error! Number of predictions should be 7100!')"
   ],
   "outputs": [],
   "execution_count": 1
  },
  {
   "cell_type": "code",
   "metadata": {
    "collapsed": true,
    "ExecuteTime": {
     "end_time": "2024-11-28T08:17:42.467256Z",
     "start_time": "2024-11-28T08:17:42.462396Z"
    }
   },
   "source": [
    "if pd2['class'][0]>62:\n",
    "    print('Error!')"
   ],
   "outputs": [],
   "execution_count": 2
  },
  {
   "cell_type": "code",
   "metadata": {
    "ExecuteTime": {
     "end_time": "2024-11-28T08:17:42.475149Z",
     "start_time": "2024-11-28T08:17:42.472862Z"
    }
   },
   "source": [
    "if pd2['class'].max()>62 or pd2['class'].min()<1:\n",
    "    print('Error! All class labels should be between 1 and 62! First class label is not zero!')"
   ],
   "outputs": [],
   "execution_count": 3
  },
  {
   "cell_type": "code",
   "metadata": {
    "ExecuteTime": {
     "end_time": "2024-11-28T08:17:42.567388Z",
     "start_time": "2024-11-28T08:17:42.565180Z"
    }
   },
   "source": [
    "if pd2['TestImage'][0]!='Test0001.png':\n",
    "    print('Error! First image should be the Test0001.png.')\n",
    "if pd2['TestImage'][7100-1]!='Test7100.png':\n",
    "    print('Error! Last image should be the Test7100.png.')"
   ],
   "outputs": [],
   "execution_count": 4
  },
  {
   "cell_type": "code",
   "execution_count": null,
   "metadata": {
    "collapsed": true
   },
   "outputs": [],
   "source": []
  }
 ],
 "metadata": {
  "kernelspec": {
   "display_name": "Python 3",
   "language": "python",
   "name": "python3"
  },
  "language_info": {
   "codemirror_mode": {
    "name": "ipython",
    "version": 3
   },
   "file_extension": ".py",
   "mimetype": "text/x-python",
   "name": "python",
   "nbconvert_exporter": "python",
   "pygments_lexer": "ipython3",
   "version": "3.6.3"
  }
 },
 "nbformat": 4,
 "nbformat_minor": 2
}
